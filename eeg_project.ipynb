{
 "cells": [
  {
   "cell_type": "code",
   "execution_count": 7,
   "metadata": {
    "collapsed": true,
    "pycharm": {
     "name": "#%%\n"
    }
   },
   "outputs": [],
   "source": [
    "import mne\n",
    "import numpy as np\n",
    "from sklearn.model_selection import train_test_split, StratifiedKFold\n",
    "from sklearn.preprocessing import StandardScaler\n",
    "from sklearn.pipeline import make_pipeline\n",
    "from sklearn.linear_model import LogisticRegression\n",
    "from sklearn.metrics import accuracy_score\n",
    "from scipy.fft import fft\n",
    "import os\n",
    "import mne\n",
    "import matplotlib.pyplot as plt\n",
    "import numpy as np\n",
    "from sklearn.svm import SVC\n",
    "from sklearn.ensemble import RandomForestClassifier\n",
    "from sklearn.ensemble import GradientBoostingClassifier\n",
    "from sklearn.neighbors import KNeighborsClassifier"
   ]
  },
  {
   "cell_type": "markdown",
   "source": [
    "## Reading data from .bdf files"
   ],
   "metadata": {
    "collapsed": false,
    "pycharm": {
     "name": "#%% md\n"
    }
   }
  },
  {
   "cell_type": "code",
   "execution_count": 2,
   "outputs": [
    {
     "name": "stdout",
     "output_type": "stream",
     "text": [
      "Extracting EDF parameters from C:\\Artificial Intelligence\\S8\\MachinePerception\\project\\data\\eeg_recording_1.bdf...\n",
      "BDF file detected\n",
      "Setting channel info structure...\n",
      "Creating raw.info structure...\n",
      "Reading 0 ... 1155327  =      0.000 ...  4512.996 secs...\n",
      "Trigger channel has a non-zero initial value of 65536 (consider using initial_event=True to detect this event)\n",
      "Removing orphaned offset at the beginning of the file.\n",
      "86 events found\n",
      "Event IDs: [  1   2   4   5   6   7   8   9  10  11  12  13  14  15  16  17  18  19\n",
      "  21  22  23  24  25  26  30 100]\n",
      "Not setting metadata\n",
      "16 matching events found\n",
      "No baseline correction applied\n",
      "0 projection items activated\n",
      "Using data from preloaded Raw for 16 events and 1281 original time points ...\n",
      "0 bad epochs dropped\n",
      "File eeg_recording_1.bdf shape:  (16, 265, 1281) (16,)\n",
      "Extracting EDF parameters from C:\\Artificial Intelligence\\S8\\MachinePerception\\project\\data\\eeg_recording_10.bdf...\n",
      "BDF file detected\n",
      "Setting channel info structure...\n",
      "Creating raw.info structure...\n",
      "Reading 0 ... 1731327  =      0.000 ...  6762.996 secs...\n",
      "Trigger channel has a non-zero initial value of 65540 (consider using initial_event=True to detect this event)\n",
      "Removing orphaned offset at the beginning of the file.\n",
      "55 events found\n",
      "Event IDs: [ 1  2  3  5  6  7  8  9 10 11 12 13 14 15 16 17 18 19 20 21 22 23 24 25\n",
      " 26 30]\n",
      "Not setting metadata\n",
      "16 matching events found\n",
      "No baseline correction applied\n",
      "0 projection items activated\n",
      "Using data from preloaded Raw for 16 events and 1281 original time points ...\n",
      "0 bad epochs dropped\n",
      "File eeg_recording_10.bdf shape:  (16, 265, 1281) (16,)\n",
      "Extracting EDF parameters from C:\\Artificial Intelligence\\S8\\MachinePerception\\project\\data\\eeg_recording_11.bdf...\n",
      "BDF file detected\n",
      "Setting channel info structure...\n",
      "Creating raw.info structure...\n",
      "Reading 0 ... 1139711  =      0.000 ...  4451.996 secs...\n",
      "Trigger channel has a non-zero initial value of 65536 (consider using initial_event=True to detect this event)\n",
      "Removing orphaned offset at the beginning of the file.\n",
      "55 events found\n",
      "Event IDs: [ 1  2  3  5  6  7  8  9 10 11 12 13 14 15 16 17 18 19 20 21 22 23 24 25\n",
      " 26 30]\n",
      "Not setting metadata\n",
      "16 matching events found\n",
      "No baseline correction applied\n",
      "0 projection items activated\n",
      "Using data from preloaded Raw for 16 events and 1281 original time points ...\n",
      "0 bad epochs dropped\n",
      "File eeg_recording_11.bdf shape:  (16, 265, 1281) (16,)\n",
      "Extracting EDF parameters from C:\\Artificial Intelligence\\S8\\MachinePerception\\project\\data\\eeg_recording_12.bdf...\n",
      "BDF file detected\n",
      "Setting channel info structure...\n",
      "Creating raw.info structure...\n",
      "Reading 0 ... 1052159  =      0.000 ...  4109.996 secs...\n",
      "Trigger channel has a non-zero initial value of 65536 (consider using initial_event=True to detect this event)\n",
      "Removing orphaned offset at the beginning of the file.\n",
      "55 events found\n",
      "Event IDs: [ 1  2  4  5  6  7  8  9 10 11 12 13 14 15 16 17 18 19 20 21 22 23 24 25\n",
      " 26 30]\n",
      "Not setting metadata\n",
      "16 matching events found\n",
      "No baseline correction applied\n",
      "0 projection items activated\n",
      "Using data from preloaded Raw for 16 events and 1281 original time points ...\n",
      "0 bad epochs dropped\n",
      "File eeg_recording_12.bdf shape:  (16, 265, 1281) (16,)\n",
      "Extracting EDF parameters from C:\\Artificial Intelligence\\S8\\MachinePerception\\project\\data\\eeg_recording_13.bdf...\n",
      "BDF file detected\n",
      "Setting channel info structure...\n",
      "Creating raw.info structure...\n",
      "Reading 0 ... 1130239  =      0.000 ...  4414.996 secs...\n",
      "Trigger channel has a non-zero initial value of 65536 (consider using initial_event=True to detect this event)\n",
      "Removing orphaned offset at the beginning of the file.\n",
      "55 events found\n",
      "Event IDs: [ 1  2  4  5  6  7  8  9 10 11 12 13 14 15 16 17 18 19 20 21 22 23 24 25\n",
      " 26 30]\n",
      "Not setting metadata\n",
      "16 matching events found\n",
      "No baseline correction applied\n",
      "0 projection items activated\n",
      "Using data from preloaded Raw for 16 events and 1281 original time points ...\n",
      "0 bad epochs dropped\n",
      "File eeg_recording_13.bdf shape:  (16, 265, 1281) (16,)\n",
      "Extracting EDF parameters from C:\\Artificial Intelligence\\S8\\MachinePerception\\project\\data\\eeg_recording_14.bdf...\n",
      "BDF file detected\n",
      "Setting channel info structure...\n",
      "Creating raw.info structure...\n",
      "Reading 0 ... 808703  =      0.000 ...  3158.996 secs...\n",
      "Trigger channel has a non-zero initial value of 65536 (consider using initial_event=True to detect this event)\n",
      "Removing orphaned offset at the beginning of the file.\n",
      "55 events found\n",
      "Event IDs: [ 1  2  4  5  6  7  8  9 10 11 12 13 14 15 16 17 18 19 20 21 22 23 24 25\n",
      " 26 30]\n",
      "Not setting metadata\n",
      "16 matching events found\n",
      "No baseline correction applied\n",
      "0 projection items activated\n",
      "Using data from preloaded Raw for 16 events and 1281 original time points ...\n",
      "0 bad epochs dropped\n",
      "File eeg_recording_14.bdf shape:  (16, 265, 1281) (16,)\n",
      "Extracting EDF parameters from C:\\Artificial Intelligence\\S8\\MachinePerception\\project\\data\\eeg_recording_15.bdf...\n",
      "BDF file detected\n",
      "Setting channel info structure...\n",
      "Creating raw.info structure...\n",
      "Reading 0 ... 865535  =      0.000 ...  3380.996 secs...\n",
      "Trigger channel has a non-zero initial value of 65536 (consider using initial_event=True to detect this event)\n",
      "Removing orphaned offset at the beginning of the file.\n",
      "55 events found\n",
      "Event IDs: [ 1  2  3  5  6  7  8  9 10 11 12 13 14 15 16 17 18 19 20 21 22 23 24 25\n",
      " 26 30]\n",
      "Not setting metadata\n",
      "16 matching events found\n",
      "No baseline correction applied\n",
      "0 projection items activated\n",
      "Using data from preloaded Raw for 16 events and 1281 original time points ...\n",
      "0 bad epochs dropped\n",
      "File eeg_recording_15.bdf shape:  (16, 265, 1281) (16,)\n",
      "Extracting EDF parameters from C:\\Artificial Intelligence\\S8\\MachinePerception\\project\\data\\eeg_recording_16.bdf...\n",
      "BDF file detected\n",
      "Setting channel info structure...\n",
      "Creating raw.info structure...\n",
      "Reading 0 ... 1410559  =      0.000 ...  5509.996 secs...\n",
      "Trigger channel has a non-zero initial value of 65536 (consider using initial_event=True to detect this event)\n",
      "Removing orphaned offset at the beginning of the file.\n",
      "55 events found\n",
      "Event IDs: [ 1  2  4  5  6  7  8  9 10 11 12 13 14 15 16 17 18 19 20 21 22 23 24 25\n",
      " 26 30]\n",
      "Not setting metadata\n",
      "16 matching events found\n",
      "No baseline correction applied\n",
      "0 projection items activated\n",
      "Using data from preloaded Raw for 16 events and 1281 original time points ...\n",
      "0 bad epochs dropped\n",
      "File eeg_recording_16.bdf shape:  (16, 265, 1281) (16,)\n",
      "Extracting EDF parameters from C:\\Artificial Intelligence\\S8\\MachinePerception\\project\\data\\eeg_recording_18.bdf...\n",
      "BDF file detected\n",
      "Setting channel info structure...\n",
      "Creating raw.info structure...\n",
      "Reading 0 ... 1651711  =      0.000 ...  6451.996 secs...\n",
      "Trigger channel has a non-zero initial value of 65536 (consider using initial_event=True to detect this event)\n",
      "Removing orphaned offset at the beginning of the file.\n",
      "55 events found\n",
      "Event IDs: [ 1  2  4  5  6  7  8  9 10 11 12 13 14 15 16 17 18 19 20 21 22 23 24 25\n",
      " 26 30]\n",
      "Not setting metadata\n",
      "16 matching events found\n",
      "No baseline correction applied\n",
      "0 projection items activated\n",
      "Using data from preloaded Raw for 16 events and 1281 original time points ...\n",
      "0 bad epochs dropped\n",
      "File eeg_recording_18.bdf shape:  (16, 265, 1281) (16,)\n",
      "Extracting EDF parameters from C:\\Artificial Intelligence\\S8\\MachinePerception\\project\\data\\eeg_recording_19.bdf...\n",
      "BDF file detected\n",
      "Setting channel info structure...\n",
      "Creating raw.info structure...\n",
      "Reading 0 ... 1117183  =      0.000 ...  4363.996 secs...\n",
      "Trigger channel has a non-zero initial value of 65536 (consider using initial_event=True to detect this event)\n",
      "Removing orphaned offset at the beginning of the file.\n",
      "55 events found\n",
      "Event IDs: [ 1  2  3  5  6  7  8  9 10 11 12 13 14 15 16 17 18 19 20 21 22 23 24 25\n",
      " 26 30]\n",
      "Not setting metadata\n",
      "16 matching events found\n",
      "No baseline correction applied\n",
      "0 projection items activated\n",
      "Using data from preloaded Raw for 16 events and 1281 original time points ...\n",
      "0 bad epochs dropped\n",
      "File eeg_recording_19.bdf shape:  (16, 265, 1281) (16,)\n",
      "Extracting EDF parameters from C:\\Artificial Intelligence\\S8\\MachinePerception\\project\\data\\eeg_recording_2.bdf...\n",
      "BDF file detected\n",
      "Setting channel info structure...\n",
      "Creating raw.info structure...\n",
      "Reading 0 ... 1407231  =      0.000 ...  5496.996 secs...\n",
      "Trigger channel has a non-zero initial value of 65540 (consider using initial_event=True to detect this event)\n",
      "86 events found\n",
      "Event IDs: [  2   4   5   6   7   8   9  10  11  12  13  14  15  16  17  18  19  21\n",
      "  22  23  24  25  26  30 100]\n",
      "Not setting metadata\n",
      "16 matching events found\n",
      "No baseline correction applied\n",
      "0 projection items activated\n",
      "Using data from preloaded Raw for 16 events and 1281 original time points ...\n",
      "0 bad epochs dropped\n",
      "File eeg_recording_2.bdf shape:  (16, 265, 1281) (16,)\n",
      "Extracting EDF parameters from C:\\Artificial Intelligence\\S8\\MachinePerception\\project\\data\\eeg_recording_20.bdf...\n",
      "BDF file detected\n",
      "Setting channel info structure...\n",
      "Creating raw.info structure...\n",
      "Reading 0 ... 1501951  =      0.000 ...  5866.996 secs...\n",
      "Trigger channel has a non-zero initial value of 65536 (consider using initial_event=True to detect this event)\n",
      "Removing orphaned offset at the beginning of the file.\n",
      "55 events found\n",
      "Event IDs: [ 1  2  4  5  6  7  8  9 10 11 12 13 14 15 16 17 18 19 20 21 22 23 24 25\n",
      " 26 30]\n",
      "Not setting metadata\n",
      "16 matching events found\n",
      "No baseline correction applied\n",
      "0 projection items activated\n",
      "Using data from preloaded Raw for 16 events and 1281 original time points ...\n",
      "0 bad epochs dropped\n",
      "File eeg_recording_20.bdf shape:  (16, 265, 1281) (16,)\n",
      "Extracting EDF parameters from C:\\Artificial Intelligence\\S8\\MachinePerception\\project\\data\\eeg_recording_21.bdf...\n",
      "BDF file detected\n",
      "Setting channel info structure...\n",
      "Creating raw.info structure...\n",
      "Reading 0 ... 1067007  =      0.000 ...  4167.996 secs...\n",
      "55 events found\n",
      "Event IDs: [ 1  2  4  5  6  7  8  9 10 11 12 13 14 15 16 17 18 19 20 21 22 23 24 25\n",
      " 26 30]\n",
      "Not setting metadata\n",
      "16 matching events found\n",
      "No baseline correction applied\n",
      "0 projection items activated\n",
      "Using data from preloaded Raw for 16 events and 1281 original time points ...\n",
      "0 bad epochs dropped\n",
      "File eeg_recording_21.bdf shape:  (16, 265, 1281) (16,)\n",
      "Extracting EDF parameters from C:\\Artificial Intelligence\\S8\\MachinePerception\\project\\data\\eeg_recording_22.bdf...\n",
      "BDF file detected\n",
      "Setting channel info structure...\n",
      "Creating raw.info structure...\n",
      "Reading 0 ... 1063423  =      0.000 ...  4153.996 secs...\n",
      "Trigger channel has a non-zero initial value of 65536 (consider using initial_event=True to detect this event)\n",
      "Removing orphaned offset at the beginning of the file.\n",
      "55 events found\n",
      "Event IDs: [ 1  2  4  5  6  7  8  9 10 11 12 13 14 15 16 17 18 19 20 21 22 23 24 25\n",
      " 26 30]\n",
      "Not setting metadata\n",
      "16 matching events found\n",
      "No baseline correction applied\n",
      "0 projection items activated\n",
      "Using data from preloaded Raw for 16 events and 1281 original time points ...\n",
      "0 bad epochs dropped\n",
      "File eeg_recording_22.bdf shape:  (16, 265, 1281) (16,)\n",
      "Extracting EDF parameters from C:\\Artificial Intelligence\\S8\\MachinePerception\\project\\data\\eeg_recording_26.bdf...\n",
      "BDF file detected\n",
      "Setting channel info structure...\n",
      "Creating raw.info structure...\n",
      "Reading 0 ... 1273343  =      0.000 ...  4973.996 secs...\n",
      "Trigger channel has a non-zero initial value of 65536 (consider using initial_event=True to detect this event)\n",
      "Removing orphaned offset at the beginning of the file.\n",
      "55 events found\n",
      "Event IDs: [ 1  2  3  5  6  7  8  9 10 11 12 13 14 15 16 17 18 19 20 21 22 23 24 25\n",
      " 26 30]\n",
      "Not setting metadata\n",
      "16 matching events found\n",
      "No baseline correction applied\n",
      "0 projection items activated\n",
      "Using data from preloaded Raw for 16 events and 1281 original time points ...\n",
      "0 bad epochs dropped\n",
      "File eeg_recording_26.bdf shape:  (16, 265, 1281) (16,)\n",
      "Extracting EDF parameters from C:\\Artificial Intelligence\\S8\\MachinePerception\\project\\data\\eeg_recording_27.bdf...\n",
      "BDF file detected\n",
      "Setting channel info structure...\n",
      "Creating raw.info structure...\n",
      "Reading 0 ... 1242111  =      0.000 ...  4851.996 secs...\n",
      "Trigger channel has a non-zero initial value of 65536 (consider using initial_event=True to detect this event)\n",
      "Removing orphaned offset at the beginning of the file.\n",
      "55 events found\n",
      "Event IDs: [ 1  2  3  5  6  7  8  9 10 11 12 13 14 15 16 17 18 19 20 21 22 23 24 25\n",
      " 26 30]\n",
      "Not setting metadata\n",
      "16 matching events found\n",
      "No baseline correction applied\n",
      "0 projection items activated\n",
      "Using data from preloaded Raw for 16 events and 1281 original time points ...\n",
      "0 bad epochs dropped\n",
      "File eeg_recording_27.bdf shape:  (16, 265, 1281) (16,)\n",
      "Extracting EDF parameters from C:\\Artificial Intelligence\\S8\\MachinePerception\\project\\data\\eeg_recording_28.bdf...\n",
      "BDF file detected\n",
      "Setting channel info structure...\n",
      "Creating raw.info structure...\n",
      "Reading 0 ... 1751039  =      0.000 ...  6839.996 secs...\n",
      "52 events found\n",
      "Event IDs: [ 3  5  6  7  8  9 10 11 12 13 14 15 16 17 18 19 20 21 22 23 24 25 26 30]\n",
      "Not setting metadata\n",
      "16 matching events found\n",
      "No baseline correction applied\n",
      "0 projection items activated\n",
      "Using data from preloaded Raw for 16 events and 1281 original time points ...\n",
      "0 bad epochs dropped\n",
      "File eeg_recording_28.bdf shape:  (16, 265, 1281) (16,)\n",
      "Extracting EDF parameters from C:\\Artificial Intelligence\\S8\\MachinePerception\\project\\data\\eeg_recording_29.bdf...\n",
      "BDF file detected\n",
      "Setting channel info structure...\n",
      "Creating raw.info structure...\n",
      "Reading 0 ... 1055231  =      0.000 ...  4121.996 secs...\n",
      "Trigger channel has a non-zero initial value of 65536 (consider using initial_event=True to detect this event)\n",
      "Removing orphaned offset at the beginning of the file.\n",
      "55 events found\n",
      "Event IDs: [ 1  2  3  5  6  7  8  9 10 11 12 13 14 15 16 17 18 19 20 21 22 23 24 25\n",
      " 26 30]\n",
      "Not setting metadata\n",
      "16 matching events found\n",
      "No baseline correction applied\n",
      "0 projection items activated\n",
      "Using data from preloaded Raw for 16 events and 1281 original time points ...\n",
      "0 bad epochs dropped\n",
      "File eeg_recording_29.bdf shape:  (16, 265, 1281) (16,)\n",
      "Extracting EDF parameters from C:\\Artificial Intelligence\\S8\\MachinePerception\\project\\data\\eeg_recording_3.bdf...\n",
      "BDF file detected\n",
      "Setting channel info structure...\n",
      "Creating raw.info structure...\n",
      "Reading 0 ... 1268479  =      0.000 ...  4954.996 secs...\n",
      "Trigger channel has a non-zero initial value of 65536 (consider using initial_event=True to detect this event)\n",
      "Removing orphaned offset at the beginning of the file.\n",
      "54 events found\n",
      "Event IDs: [ 1  2  3  5  6  7  8  9 10 11 12 13 14 15 16 17 18 19 20 21 22 23 24 25\n",
      " 26 30]\n",
      "Not setting metadata\n",
      "16 matching events found\n",
      "No baseline correction applied\n",
      "0 projection items activated\n",
      "Using data from preloaded Raw for 16 events and 1281 original time points ...\n",
      "0 bad epochs dropped\n",
      "File eeg_recording_3.bdf shape:  (16, 265, 1281) (16,)\n",
      "Extracting EDF parameters from C:\\Artificial Intelligence\\S8\\MachinePerception\\project\\data\\eeg_recording_30.bdf...\n",
      "BDF file detected\n",
      "Setting channel info structure...\n",
      "Creating raw.info structure...\n",
      "Reading 0 ... 1359871  =      0.000 ...  5311.996 secs...\n",
      "Trigger channel has a non-zero initial value of 65536 (consider using initial_event=True to detect this event)\n",
      "Removing orphaned offset at the beginning of the file.\n",
      "55 events found\n",
      "Event IDs: [ 1  2  3  5  6  7  8  9 10 11 12 13 14 15 16 17 18 19 20 21 22 23 24 25\n",
      " 26 30]\n",
      "Not setting metadata\n",
      "16 matching events found\n",
      "No baseline correction applied\n",
      "0 projection items activated\n",
      "Using data from preloaded Raw for 16 events and 1281 original time points ...\n",
      "0 bad epochs dropped\n",
      "File eeg_recording_30.bdf shape:  (16, 265, 1281) (16,)\n"
     ]
    }
   ],
   "source": [
    "folder_path = 'data'\n",
    "file_names = [f for f in os.listdir(folder_path) if f.endswith('.bdf')]\n",
    "\n",
    "X_all = []\n",
    "y_all = []\n",
    "durations = []\n",
    "for file_name in file_names[:20]:\n",
    "    file_path = os.path.join(folder_path, file_name)\n",
    "    raw = mne.io.read_raw_bdf(file_path, preload=True)\n",
    "\n",
    "    events = mne.find_events(raw, shortest_event=1)\n",
    "\n",
    "    event_id = {'awe': 9,\n",
    "                'frustration': 10,\n",
    "                'joy': 11,\n",
    "                'anger': 12,\n",
    "                'happy': 13,\n",
    "                'sad': 14,\n",
    "                'love': 15,\n",
    "                'fear': 16,\n",
    "                'compassion': 17,\n",
    "                'jealousy': 18,\n",
    "                'content': 19,\n",
    "                'grief': 20,\n",
    "                'relief': 21,\n",
    "                'excite': 22,\n",
    "                'disgust': 23,\n",
    "                'none': 0  # added this line to include non-events\n",
    "                }\n",
    "\n",
    "    avg_duration = np.mean(np.diff(events[:, 0]))\n",
    "\n",
    "    none_events = []\n",
    "    none_count = 0  # counter for 'none' events\n",
    "    for i in range(1, len(events)):\n",
    "        gap = events[i][0] - events[i-1][0]\n",
    "        if gap > avg_duration * 2:  # only add \"none\" event if gap is longer than twice the average duration\n",
    "            none_start = events[i-1][0] + gap // 2  # start \"none\" event in the middle of the gap\n",
    "            none_events.append([none_start, 0, event_id['none']])\n",
    "            none_count += 1\n",
    "            if none_count >= 1:  # limit to 2 'none' events per file\n",
    "                break\n",
    "\n",
    "    events = np.vstack((events, none_events))\n",
    "    events = events[events[:, 0].argsort()]  # sort events by time\n",
    "\n",
    "    existing_event_ids = set(events[:, 2])\n",
    "    filtered_event_id = {k: v for k, v in event_id.items() if v in existing_event_ids}\n",
    "\n",
    "    epochs = mne.Epochs(raw, events, filtered_event_id, tmin=-3, tmax=2, baseline=None)\n",
    "\n",
    "    X = epochs.get_data()\n",
    "    y = epochs.events[:, -1]\n",
    "    print('File', file_name, 'shape: ', X.shape, y.shape)\n",
    "    X_all.append(X)\n",
    "    y_all.append(y)\n",
    "\n",
    "    for i in range(1, len(events)):\n",
    "        start_time_current_event = events[i - 1, 0]\n",
    "        start_time_next_event = events[i, 0]\n",
    "        duration = (start_time_next_event - start_time_current_event) / raw.info['sfreq']\n",
    "        event_id = events[i - 1, 2]\n",
    "        if event_id >= 9 and event_id <= 23:\n",
    "            durations.append((event_id, duration))\n",
    "\n",
    "X = np.concatenate(X_all)\n",
    "y = np.concatenate(y_all)"
   ],
   "metadata": {
    "collapsed": false,
    "pycharm": {
     "name": "#%%\n"
    }
   }
  },
  {
   "cell_type": "code",
   "execution_count": 3,
   "outputs": [
    {
     "name": "stdout",
     "output_type": "stream",
     "text": [
      "Shape of decision variables: (320, 265, 1281)\n",
      "shape of target variables: (320,)\n"
     ]
    }
   ],
   "source": [
    "print(\"Shape of decision variables:\", X.shape)\n",
    "print(\"shape of target variables:\", y.shape)"
   ],
   "metadata": {
    "collapsed": false,
    "pycharm": {
     "name": "#%%\n"
    }
   }
  },
  {
   "cell_type": "markdown",
   "source": [
    "## Functions used for data modification"
   ],
   "metadata": {
    "collapsed": false,
    "pycharm": {
     "name": "#%% md\n"
    }
   }
  },
  {
   "cell_type": "code",
   "execution_count": 4,
   "outputs": [],
   "source": [
    "def data_extension(X, y, n_segments):\n",
    "    extented_X = []\n",
    "    extended_y = []\n",
    "\n",
    "    segment_duration = int(X.shape[2] / n_segments)\n",
    "\n",
    "    for i in range(X.shape[0]):\n",
    "        for j in range(n_segments):\n",
    "            start = j * segment_duration\n",
    "            segment = X[i, :, start : start + segment_duration]\n",
    "            extented_X.append(segment)\n",
    "            extended_y.append(y[i])\n",
    "\n",
    "    return np.array(extented_X), np.array(extended_y)\n",
    "\n",
    "\n",
    "def data_augmentation(X, y, n_segments, segment_duration=None, is_noise = True, noise_std=None, noise_per_channel=False, random_seed=42):\n",
    "    np.random.seed(random_seed)\n",
    "    augmented_X = []\n",
    "    augmented_y = []\n",
    "\n",
    "    if segment_duration is None:\n",
    "        segment_duration = int(0.5 * X.shape[2])\n",
    "\n",
    "    if noise_std is None:\n",
    "        if noise_per_channel:\n",
    "            noise_std = np.std(X, axis=(0, 2)) / 10\n",
    "        else:\n",
    "            noise_std = np.std(X) / 10\n",
    "\n",
    "    if not is_noise:\n",
    "        noise_std = 0\n",
    "\n",
    "    for i in range(X.shape[0]):\n",
    "        for _ in range(n_segments):\n",
    "            start = np.random.randint(0, X.shape[2] - segment_duration)\n",
    "            segment = X[i, :, start : start + segment_duration]\n",
    "            noise = np.random.normal(0, noise_std, segment.shape[::-1]).transpose()\n",
    "            augmented_segment = segment + noise\n",
    "            augmented_X.append(augmented_segment)\n",
    "            augmented_y.append(y[i])\n",
    "\n",
    "    return np.array(augmented_X), np.array(augmented_y)\n",
    "\n",
    "\n",
    "def extract_segments(X, segment_duration):\n",
    "    if segment_duration is None:\n",
    "        segment_duration = int(0.5 * X.shape[2])\n",
    "    n_segments = X.shape[2] // segment_duration\n",
    "    extracted_X = []\n",
    "\n",
    "    for i in range(X.shape[0]):\n",
    "        for j in range(n_segments):\n",
    "            start = j * segment_duration\n",
    "            segment = X[i, :, start : start + segment_duration]\n",
    "            extracted_X.append(segment)\n",
    "\n",
    "    return np.array(extracted_X)"
   ],
   "metadata": {
    "collapsed": false,
    "pycharm": {
     "name": "#%%\n"
    }
   }
  },
  {
   "cell_type": "code",
   "execution_count": 5,
   "outputs": [],
   "source": [
    "def test_all_classifiers(X_train, X_test, y_train, y_test, augmentation = False):\n",
    "#     X, y = data_augmentation(X, y, 12, is_noise=is_noise, noise_per_channel=noise_per_channel)\n",
    "#     X_train, X_test, y_train, y_test = train_test_split(X, y, test_size=0.3, random_state=42, stratify=y)\n",
    "\n",
    "    if augmentation:\n",
    "        X_train, y_train = data_augmentation(X_train, y_train, 5, is_noise=True, noise_per_channel=True)\n",
    "\n",
    "        X_test = extract_segments(X_test, segment_duration=int(0.5 * X.shape[2]))\n",
    "        y_test = np.repeat(y_test, X_test.shape[0] // y_test.shape[0])\n",
    "\n",
    "    X_train = X_train.reshape(X_train.shape[0], -1)\n",
    "    X_test = X_test.reshape(X_test.shape[0], -1)\n",
    "\n",
    "    # Logistic Regression\n",
    "    pipeline = make_pipeline(\n",
    "        StandardScaler(),\n",
    "        LogisticRegression()\n",
    "    )\n",
    "    pipeline.fit(X_train, y_train)\n",
    "    y_pred = pipeline.predict(X_test)\n",
    "#     print(y_test, y_pred)\n",
    "    log_accuracy = accuracy_score(y_test, y_pred)\n",
    "    print(f'Logistic Regression accuracy: {log_accuracy:.2f}')\n",
    "\n",
    "    # Support Vector Classification\n",
    "    pipeline = make_pipeline(\n",
    "        StandardScaler(),\n",
    "        SVC()\n",
    "    )\n",
    "    pipeline.fit(X_train, y_train)\n",
    "    y_pred = pipeline.predict(X_test)\n",
    "    svc_accuracy = accuracy_score(y_test, y_pred)\n",
    "    print(f'SVC accuracy: {svc_accuracy:.2f}')\n",
    "\n",
    "    # Random Forest Classification\n",
    "    pipeline = make_pipeline(\n",
    "        StandardScaler(),\n",
    "        RandomForestClassifier()\n",
    "    )\n",
    "    pipeline.fit(X_train, y_train)\n",
    "    y_pred = pipeline.predict(X_test)\n",
    "    rand_accuracy = accuracy_score(y_test, y_pred)\n",
    "    print(f'Random Forest accuracy: {rand_accuracy:.2f}')\n",
    "\n",
    "    # K-Nearest Neighbors Classification\n",
    "    pipeline = make_pipeline(\n",
    "        StandardScaler(),\n",
    "        KNeighborsClassifier()\n",
    "    )\n",
    "    pipeline.fit(X_train, y_train)\n",
    "    y_pred = pipeline.predict(X_test)\n",
    "    knn_accuracy = accuracy_score(y_test, y_pred)\n",
    "    print(f'K-Nearest Neighbors accuracy: {knn_accuracy:.2f}')\n",
    "\n",
    "    return log_accuracy, svc_accuracy, rand_accuracy, knn_accuracy"
   ],
   "metadata": {
    "collapsed": false,
    "pycharm": {
     "name": "#%%\n"
    }
   }
  },
  {
   "cell_type": "markdown",
   "source": [
    "## Results for only basic data preprocessing"
   ],
   "metadata": {
    "collapsed": false,
    "pycharm": {
     "name": "#%% md\n"
    }
   }
  },
  {
   "cell_type": "code",
   "execution_count": 7,
   "outputs": [],
   "source": [
    "X_train, X_test, y_train, y_test = train_test_split(X, y, test_size=0.25, random_state=42, stratify=y)\n",
    "\n",
    "X_train, y_train = data_extension(X_train, y_train, 5)\n",
    "X_test, y_test = data_extension(X_test, y_test, 5)"
   ],
   "metadata": {
    "collapsed": false,
    "pycharm": {
     "name": "#%%\n"
    }
   }
  },
  {
   "cell_type": "code",
   "execution_count": 8,
   "outputs": [
    {
     "name": "stderr",
     "output_type": "stream",
     "text": [
      "C:\\Users\\konsz\\AppData\\Local\\Programs\\Python\\Python310\\lib\\site-packages\\sklearn\\linear_model\\_logistic.py:814: ConvergenceWarning: lbfgs failed to converge (status=1):\n",
      "STOP: TOTAL NO. of ITERATIONS REACHED LIMIT.\n",
      "\n",
      "Increase the number of iterations (max_iter) or scale the data as shown in:\n",
      "    https://scikit-learn.org/stable/modules/preprocessing.html\n",
      "Please also refer to the documentation for alternative solver options:\n",
      "    https://scikit-learn.org/stable/modules/linear_model.html#logistic-regression\n",
      "  n_iter_i = _check_optimize_result(\n"
     ]
    },
    {
     "name": "stdout",
     "output_type": "stream",
     "text": [
      "Logistic Regression accuracy: 0.01\n",
      "SVC accuracy: 0.00\n",
      "Random Forest accuracy: 0.01\n",
      "K-Nearest Neighbors accuracy: 0.00\n"
     ]
    },
    {
     "data": {
      "text/plain": "(0.0075, 0.0, 0.01, 0.0)"
     },
     "execution_count": 8,
     "metadata": {},
     "output_type": "execute_result"
    }
   ],
   "source": [
    "test_all_classifiers(X_train, X_test, y_train, y_test)"
   ],
   "metadata": {
    "collapsed": false,
    "pycharm": {
     "name": "#%%\n"
    }
   }
  },
  {
   "cell_type": "markdown",
   "source": [
    "## Results for FFT"
   ],
   "metadata": {
    "collapsed": false,
    "pycharm": {
     "name": "#%% md\n"
    }
   }
  },
  {
   "cell_type": "markdown",
   "source": [
    "**FFT visualised**"
   ],
   "metadata": {
    "collapsed": false,
    "pycharm": {
     "name": "#%% md\n"
    }
   }
  },
  {
   "cell_type": "code",
   "execution_count": 9,
   "outputs": [
    {
     "name": "stdout",
     "output_type": "stream",
     "text": [
      "Magnitude:\n"
     ]
    },
    {
     "data": {
      "text/plain": "<Figure size 432x288 with 1 Axes>",
      "image/png": "[encoded data removed]"
     },
     "metadata": {
      "needs_background": "light"
     },
     "output_type": "display_data"
    },
    {
     "name": "stdout",
     "output_type": "stream",
     "text": [
      "Real part:\n"
     ]
    },
    {
     "data": {
      "text/plain": "<Figure size 432x288 with 1 Axes>",
      "image/png": "[encoded data removed]"
     },
     "metadata": {
      "needs_background": "light"
     },
     "output_type": "display_data"
    },
    {
     "name": "stdout",
     "output_type": "stream",
     "text": [
      "Imaginary part:\n"
     ]
    },
    {
     "data": {
      "text/plain": "<Figure size 432x288 with 1 Axes>",
      "image/png": "[encoded data removed]"
     },
     "metadata": {
      "needs_background": "light"
     },
     "output_type": "display_data"
    }
   ],
   "source": [
    "plot_x = np.fft.fftfreq(1281, 1/raw.info['sfreq'])\n",
    "plot_y = np.fft.fft(X)\n",
    "\n",
    "print(\"Magnitude:\")\n",
    "plt.stem(plot_x, np.abs(plot_y[0,0]), use_line_collection=True)\n",
    "plt.grid()\n",
    "plt.show()\n",
    "\n",
    "print(\"Real part:\")\n",
    "plt.stem(plot_x, np.real(plot_y[0,0]), use_line_collection=True)\n",
    "plt.grid()\n",
    "plt.show()\n",
    "\n",
    "print(\"Imaginary part:\")\n",
    "plt.stem(plot_x, np.imag(plot_y[0,0]), use_line_collection=True)\n",
    "plt.grid()\n",
    "plt.show()"
   ],
   "metadata": {
    "collapsed": false,
    "pycharm": {
     "name": "#%%\n"
    }
   }
  },
  {
   "cell_type": "markdown",
   "source": [
    "**FFT visualised (without the dominating frequency)**"
   ],
   "metadata": {
    "collapsed": false,
    "pycharm": {
     "name": "#%% md\n"
    }
   }
  },
  {
   "cell_type": "code",
   "execution_count": 10,
   "outputs": [
    {
     "name": "stdout",
     "output_type": "stream",
     "text": [
      "Magnitude:\n"
     ]
    },
    {
     "data": {
      "text/plain": "<Figure size 432x288 with 1 Axes>",
      "image/png": "[encoded data removed]"
     },
     "metadata": {
      "needs_background": "light"
     },
     "output_type": "display_data"
    },
    {
     "name": "stdout",
     "output_type": "stream",
     "text": [
      "Real part:\n"
     ]
    },
    {
     "data": {
      "text/plain": "<Figure size 432x288 with 1 Axes>",
      "image/png": "[encoded data removed]"
     },
     "metadata": {
      "needs_background": "light"
     },
     "output_type": "display_data"
    },
    {
     "name": "stdout",
     "output_type": "stream",
     "text": [
      "Imaginary part:\n"
     ]
    },
    {
     "data": {
      "text/plain": "<Figure size 432x288 with 1 Axes>",
      "image/png": "[encoded data removed]"
     },
     "metadata": {
      "needs_background": "light"
     },
     "output_type": "display_data"
    }
   ],
   "source": [
    "print(\"Magnitude:\")\n",
    "plt.stem(plot_x[1:], np.abs(plot_y[0,0,1:]), use_line_collection=True)\n",
    "plt.grid()\n",
    "plt.show()\n",
    "\n",
    "print(\"Real part:\")\n",
    "plt.stem(plot_x[1:], np.real(plot_y[0,0,1:]), use_line_collection=True)\n",
    "plt.grid()\n",
    "plt.show()\n",
    "\n",
    "print(\"Imaginary part:\")\n",
    "plt.stem(plot_x[1:], np.imag(plot_y[0,0,1:]), use_line_collection=True)\n",
    "plt.grid()\n",
    "plt.show()"
   ],
   "metadata": {
    "collapsed": false,
    "pycharm": {
     "name": "#%%\n"
    }
   }
  },
  {
   "cell_type": "markdown",
   "source": [
    "**FFT applied to full data**"
   ],
   "metadata": {
    "collapsed": false,
    "pycharm": {
     "name": "#%% md\n"
    }
   }
  },
  {
   "cell_type": "code",
   "execution_count": 20,
   "outputs": [],
   "source": [
    "X_train, X_test, y_train, y_test = train_test_split(X, y, test_size=0.25, random_state=42, stratify=y)\n",
    "\n",
    "X_train, y_train = data_extension(X_train, y_train, 5)\n",
    "X_test, y_test = data_extension(X_test, y_test, 5)\n",
    "\n",
    "X_train = np.fft.fft(X_train)\n",
    "X_train = np.concatenate([np.real(X_train), np.imag(X_train)], axis=1)\n",
    "\n",
    "X_test = np.fft.fft(X_test)\n",
    "X_test = np.concatenate([np.real(X_test), np.imag(X_test)], axis=1)"
   ],
   "metadata": {
    "collapsed": false,
    "pycharm": {
     "name": "#%%\n"
    }
   }
  },
  {
   "cell_type": "code",
   "execution_count": 21,
   "outputs": [
    {
     "name": "stderr",
     "output_type": "stream",
     "text": [
      "C:\\Users\\konsz\\AppData\\Local\\Programs\\Python\\Python310\\lib\\site-packages\\sklearn\\linear_model\\_logistic.py:814: ConvergenceWarning: lbfgs failed to converge (status=1):\n",
      "STOP: TOTAL NO. of ITERATIONS REACHED LIMIT.\n",
      "\n",
      "Increase the number of iterations (max_iter) or scale the data as shown in:\n",
      "    https://scikit-learn.org/stable/modules/preprocessing.html\n",
      "Please also refer to the documentation for alternative solver options:\n",
      "    https://scikit-learn.org/stable/modules/linear_model.html#logistic-regression\n",
      "  n_iter_i = _check_optimize_result(\n"
     ]
    },
    {
     "name": "stdout",
     "output_type": "stream",
     "text": [
      "Logistic Regression accuracy: 0.07\n",
      "SVC accuracy: 0.04\n",
      "Random Forest accuracy: 0.06\n",
      "K-Nearest Neighbors accuracy: 0.05\n"
     ]
    },
    {
     "data": {
      "text/plain": "(0.075, 0.045, 0.0575, 0.0475)"
     },
     "execution_count": 21,
     "metadata": {},
     "output_type": "execute_result"
    }
   ],
   "source": [
    "test_all_classifiers(X_train, X_test, y_train, y_test)"
   ],
   "metadata": {
    "collapsed": false,
    "pycharm": {
     "name": "#%%\n"
    }
   }
  },
  {
   "cell_type": "markdown",
   "source": [
    "## Results for PSD tranformation"
   ],
   "metadata": {
    "collapsed": false,
    "pycharm": {
     "name": "#%% md\n"
    }
   }
  },
  {
   "cell_type": "code",
   "execution_count": 22,
   "outputs": [],
   "source": [
    "import scipy.signal\n",
    "\n",
    "X_train, X_test, y_train, y_test = train_test_split(X, y, test_size=0.25, random_state=42, stratify=y)\n",
    "\n",
    "X_train, y_train = data_extension(X_train, y_train, 5)\n",
    "X_test, y_test = data_extension(X_test, y_test, 5)\n",
    "\n",
    "freqs, psd = scipy.signal.welch(X_train, fs=raw.info['sfreq'], nperseg=180, noverlap=90, axis=1)\n",
    "X_train = np.concatenate([np.real(psd), np.imag(psd)], axis=1)\n",
    "\n",
    "freqs, psd = scipy.signal.welch(X_test, fs=raw.info['sfreq'], nperseg=180, noverlap=90, axis=1)\n",
    "X_test = np.concatenate([np.real(psd), np.imag(psd)], axis=1)"
   ],
   "metadata": {
    "collapsed": false,
    "pycharm": {
     "name": "#%%\n"
    }
   }
  },
  {
   "cell_type": "code",
   "execution_count": 23,
   "outputs": [
    {
     "name": "stderr",
     "output_type": "stream",
     "text": [
      "C:\\Users\\konsz\\AppData\\Local\\Programs\\Python\\Python310\\lib\\site-packages\\sklearn\\linear_model\\_logistic.py:814: ConvergenceWarning: lbfgs failed to converge (status=1):\n",
      "STOP: TOTAL NO. of ITERATIONS REACHED LIMIT.\n",
      "\n",
      "Increase the number of iterations (max_iter) or scale the data as shown in:\n",
      "    https://scikit-learn.org/stable/modules/preprocessing.html\n",
      "Please also refer to the documentation for alternative solver options:\n",
      "    https://scikit-learn.org/stable/modules/linear_model.html#logistic-regression\n",
      "  n_iter_i = _check_optimize_result(\n"
     ]
    },
    {
     "name": "stdout",
     "output_type": "stream",
     "text": [
      "Logistic Regression accuracy: 0.00\n",
      "SVC accuracy: 0.00\n",
      "Random Forest accuracy: 0.01\n",
      "K-Nearest Neighbors accuracy: 0.01\n"
     ]
    },
    {
     "data": {
      "text/plain": "(0.0, 0.0, 0.0125, 0.0125)"
     },
     "execution_count": 23,
     "metadata": {},
     "output_type": "execute_result"
    }
   ],
   "source": [
    "test_all_classifiers(X_train, X_test, y_train, y_test)"
   ],
   "metadata": {
    "collapsed": false,
    "pycharm": {
     "name": "#%%\n"
    }
   }
  },
  {
   "cell_type": "markdown",
   "source": [
    "## Results for \"amplitudes-per-sensor\""
   ],
   "metadata": {
    "collapsed": false,
    "pycharm": {
     "name": "#%% md\n"
    }
   }
  },
  {
   "cell_type": "code",
   "execution_count": 26,
   "outputs": [],
   "source": [
    "amp_X = X - np.mean(X, axis=2).reshape(X.shape[0], X.shape[1], 1)\n",
    "\n",
    "X_train, X_test, y_train, y_test = train_test_split(amp_X, y, test_size=0.25, random_state=42, stratify=y)\n",
    "\n",
    "X_train, y_train = data_extension(X_train, y_train, 5)\n",
    "X_test, y_test = data_extension(X_test, y_test, 5)"
   ],
   "metadata": {
    "collapsed": false,
    "pycharm": {
     "name": "#%%\n"
    }
   }
  },
  {
   "cell_type": "code",
   "execution_count": 27,
   "outputs": [
    {
     "name": "stderr",
     "output_type": "stream",
     "text": [
      "C:\\Users\\konsz\\AppData\\Local\\Programs\\Python\\Python310\\lib\\site-packages\\sklearn\\linear_model\\_logistic.py:814: ConvergenceWarning: lbfgs failed to converge (status=1):\n",
      "STOP: TOTAL NO. of ITERATIONS REACHED LIMIT.\n",
      "\n",
      "Increase the number of iterations (max_iter) or scale the data as shown in:\n",
      "    https://scikit-learn.org/stable/modules/preprocessing.html\n",
      "Please also refer to the documentation for alternative solver options:\n",
      "    https://scikit-learn.org/stable/modules/linear_model.html#logistic-regression\n",
      "  n_iter_i = _check_optimize_result(\n"
     ]
    },
    {
     "name": "stdout",
     "output_type": "stream",
     "text": [
      "Logistic Regression accuracy: 0.12\n",
      "SVC accuracy: 0.07\n",
      "Random Forest accuracy: 0.83\n",
      "K-Nearest Neighbors accuracy: 0.03\n"
     ]
    },
    {
     "data": {
      "text/plain": "(0.1225, 0.0675, 0.835, 0.03)"
     },
     "execution_count": 27,
     "metadata": {},
     "output_type": "execute_result"
    }
   ],
   "source": [
    "test_all_classifiers(X_train, X_test, y_train, y_test)"
   ],
   "metadata": {
    "collapsed": false,
    "pycharm": {
     "name": "#%%\n"
    }
   }
  },
  {
   "cell_type": "markdown",
   "source": [
    "**K-Fold cross validation for random forest**"
   ],
   "metadata": {
    "collapsed": false,
    "pycharm": {
     "name": "#%% md\n"
    }
   }
  },
  {
   "cell_type": "code",
   "execution_count": 10,
   "outputs": [
    {
     "name": "stdout",
     "output_type": "stream",
     "text": [
      "Fold no. 1\n",
      "Random Forest accuracy: 70.00%\n",
      "Fold no. 2\n",
      "Random Forest accuracy: 83.12%\n",
      "Fold no. 3\n",
      "Random Forest accuracy: 90.62%\n",
      "Fold no. 4\n",
      "Random Forest accuracy: 90.62%\n",
      "Fold no. 5\n",
      "Random Forest accuracy: 88.75%\n",
      "Fold no. 6\n",
      "Random Forest accuracy: 66.88%\n",
      "Fold no. 7\n",
      "Random Forest accuracy: 92.50%\n",
      "Fold no. 8\n",
      "Random Forest accuracy: 91.88%\n",
      "Fold no. 9\n",
      "Random Forest accuracy: 89.38%\n",
      "Fold no. 10\n",
      "Random Forest accuracy: 92.50%\n",
      "======================\n",
      "Overall results:\n",
      "Random Forest accuracy: 85.62% (+-9.00%)\n"
     ]
    }
   ],
   "source": [
    "amp_X = X - np.mean(X, axis=2).reshape(X.shape[0], X.shape[1], 1)\n",
    "\n",
    "rf_results = []\n",
    "\n",
    "kf = StratifiedKFold(n_splits=10)\n",
    "\n",
    "for i, (train_index, test_index) in enumerate(kf.split(amp_X, y)):\n",
    "    X_train, X_test, y_train, y_test = amp_X[train_index], amp_X[test_index], y[train_index], y[test_index]\n",
    "\n",
    "    X_train, y_train = data_extension(X_train, y_train, 5)\n",
    "    X_test, y_test = data_extension(X_test, y_test, 5)\n",
    "\n",
    "    print(\"Fold no. {}\".format(i + 1))\n",
    "\n",
    "    X_train = X_train.reshape(X_train.shape[0], -1)\n",
    "    X_test = X_test.reshape(X_test.shape[0], -1)\n",
    "\n",
    "    pipeline = make_pipeline(\n",
    "        StandardScaler(),\n",
    "        RandomForestClassifier()\n",
    "    )\n",
    "    pipeline.fit(X_train, y_train)\n",
    "    y_pred = pipeline.predict(X_test)\n",
    "    rand_accuracy = accuracy_score(y_test, y_pred)\n",
    "    print(f'Random Forest accuracy: {rand_accuracy * 100:.2f}%')\n",
    "\n",
    "    rf_results.append(rand_accuracy)\n",
    "\n",
    "print(\"======================\")\n",
    "print(\"Overall results:\")\n",
    "mean_acc = np.mean(rf_results)\n",
    "std_acc = np.std(rf_results)\n",
    "print(f'Random Forest accuracy: {mean_acc * 100:.2f}% (+-{std_acc * 100:.2f}%)')"
   ],
   "metadata": {
    "collapsed": false,
    "pycharm": {
     "name": "#%%\n"
    }
   }
  }
 ],
 "metadata": {
  "kernelspec": {
   "display_name": "Python 3",
   "language": "python",
   "name": "python3"
  },
  "language_info": {
   "codemirror_mode": {
    "name": "ipython",
    "version": 2
   },
   "file_extension": ".py",
   "mimetype": "text/x-python",
   "name": "python",
   "nbconvert_exporter": "python",
   "pygments_lexer": "ipython2",
   "version": "2.7.6"
  }
 },
 "nbformat": 4,
 "nbformat_minor": 0
}
{
 "cells": [
  {
   "cell_type": "code",
   "execution_count": 1,
   "metadata": {},
   "outputs": [],
   "source": [
    "import mne\n",
    "import numpy as np\n",
    "from sklearn.model_selection import train_test_split\n",
    "from sklearn.preprocessing import StandardScaler\n",
    "from sklearn.pipeline import make_pipeline\n",
    "from sklearn.linear_model import LogisticRegression\n",
    "from sklearn.metrics import accuracy_score\n",
    "from scipy.fft import fft\n",
    "import os\n",
    "import mne\n",
    "import matplotlib.pyplot as plt\n",
    "import numpy as np\n",
    "from sklearn.svm import SVC"
   ]
  },
  {
   "cell_type": "code",
   "execution_count": 2,
   "metadata": {},
   "outputs": [
    {
     "name": "stdout",
     "output_type": "stream",
     "text": [
      "Extracting EDF parameters from c:\\Users\\hubra\\Documents\\machine-perception\\data\\eeg_recording_1.bdf...\n",
      "BDF file detected\n",
      "Setting channel info structure...\n",
      "Creating raw.info structure...\n",
      "Reading 0 ... 1155327  =      0.000 ...  4512.996 secs...\n",
      "Extracting EDF parameters from c:\\Users\\hubra\\Documents\\machine-perception\\data\\eeg_recording_2.bdf...\n",
      "BDF file detected\n",
      "Setting channel info structure...\n",
      "Creating raw.info structure...\n",
      "Reading 0 ... 1407231  =      0.000 ...  5496.996 secs...\n",
      "Extracting EDF parameters from c:\\Users\\hubra\\Documents\\machine-perception\\data\\eeg_recording_3.bdf...\n",
      "BDF file detected\n",
      "Setting channel info structure...\n",
      "Creating raw.info structure...\n",
      "Reading 0 ... 1268479  =      0.000 ...  4954.996 secs...\n",
      "Trigger channel has a non-zero initial value of 65536 (consider using initial_event=True to detect this event)\n",
      "Removing orphaned offset at the beginning of the file.\n",
      "228 events found\n",
      "Event IDs: [    1     2     3     4     5     6     7     8     9    10    11    12\n",
      "    13    14    15    16    17    18    19    20    21    22    23    24\n",
      "    25    26    30   100 65536 65540]\n"
     ]
    }
   ],
   "source": [
    "# Load all .bdf files from the folder\n",
    "folder_path = 'data'\n",
    "file_names = [f for f in os.listdir(folder_path) if f.endswith('.bdf')]\n",
    "\n",
    "raw_list = []\n",
    "# take only the first 4 files\n",
    "for file_name in file_names[:3]:\n",
    "    file_path = os.path.join(folder_path, file_name)\n",
    "    raw = mne.io.read_raw_bdf(file_path, preload=True)\n",
    "    raw_list.append(raw)\n",
    "\n",
    "# Concatenate all the raw objects\n",
    "raw_concatenated = mne.concatenate_raws(raw_list)\n",
    "\n",
    "# Find events in the concatenated data\n",
    "events = mne.find_events(raw_concatenated)"
   ]
  },
  {
   "cell_type": "code",
   "execution_count": 3,
   "metadata": {},
   "outputs": [
    {
     "data": {
      "image/png": "[encoded data removed]",
      "text/plain": [
       "<Figure size 1200x600 with 1 Axes>"
      ]
     },
     "metadata": {},
     "output_type": "display_data"
    }
   ],
   "source": [
    "# Calculate the duration of each event\n",
    "durations = []\n",
    "for i in range(1, len(events)):\n",
    "    start_time_current_event = events[i - 1, 0]\n",
    "    start_time_next_event = events[i, 0]\n",
    "    duration = (start_time_next_event - start_time_current_event) / raw_concatenated.info['sfreq']\n",
    "    event_id = events[i - 1, 2]\n",
    "    if event_id >= 9 and event_id <= 23:\n",
    "        durations.append((event_id, duration))\n",
    "\n",
    "# Plot the duration of every event\n",
    "event_ids, event_durations = zip(*durations)\n",
    "plt.figure(figsize=(12, 6))\n",
    "plt.scatter(event_ids, event_durations)\n",
    "plt.xlabel('Event ID')\n",
    "plt.ylabel('Duration (s)')\n",
    "plt.title('Duration of Every Event')\n",
    "plt.show()"
   ]
  },
  {
   "cell_type": "code",
   "execution_count": 4,
   "metadata": {},
   "outputs": [
    {
     "name": "stdout",
     "output_type": "stream",
     "text": [
      "<Info | 7 non-empty values\n",
      " bads: []\n",
      " ch_names: 1A1, 1A2, 1A3, 1A4, 1A5, 1A6, 1A7, 1A8, 1A9, 1A10, 1A11, 1A12, ...\n",
      " chs: 264 EEG, 1 Stimulus\n",
      " custom_ref_applied: False\n",
      " highpass: 0.0 Hz\n",
      " lowpass: 67.0 Hz\n",
      " meas_date: 2004-05-12 11:59:54 UTC\n",
      " nchan: 265\n",
      " projs: []\n",
      " sfreq: 256.0 Hz\n",
      ">\n",
      "Number of channels: 265\n",
      "Sampling rate: 256.0 Hz\n",
      "Duration: 14965.0 seconds\n"
     ]
    }
   ],
   "source": [
    "raw = raw_concatenated\n",
    "\n",
    "print(raw.info)\n",
    "\n",
    "print('Number of channels:', len(raw.ch_names))\n",
    "print('Sampling rate:', raw.info['sfreq'], 'Hz')\n",
    "print('Duration:', raw.n_times / raw.info['sfreq'], 'seconds')\n"
   ]
  },
  {
   "cell_type": "code",
   "execution_count": 5,
   "metadata": {},
   "outputs": [
    {
     "name": "stdout",
     "output_type": "stream",
     "text": [
      "Trigger channel has a non-zero initial value of 65536 (consider using initial_event=True to detect this event)\n",
      "Removing orphaned offset at the beginning of the file.\n",
      "228 events found\n",
      "Event IDs: [    1     2     3     4     5     6     7     8     9    10    11    12\n",
      "    13    14    15    16    17    18    19    20    21    22    23    24\n",
      "    25    26    30   100 65536 65540]\n",
      "Not setting metadata\n",
      "45 matching events found\n",
      "No baseline correction applied\n",
      "0 projection items activated\n",
      "Using data from preloaded Raw for 45 events and 180 original time points ...\n",
      "0 bad epochs dropped\n"
     ]
    }
   ],
   "source": [
    "events = mne.find_events(raw)\n",
    "event_id = {'awe': 9, \n",
    "            'frustration': 10,\n",
    "            'joy': 11,\n",
    "            'anger': 12,\n",
    "            'happy': 13,\n",
    "            'sad': 14,\n",
    "            'love': 15,\n",
    "            'fear': 16,\n",
    "            'compassion': 17,\n",
    "            'jealousy': 18,\n",
    "            'content': 19,\n",
    "            'grief': 20,\n",
    "            'relief': 21,\n",
    "            'excite': 22,\n",
    "            'disgust': 23\n",
    "            }\n",
    "epochs = mne.Epochs(raw, events, event_id, tmin=-0.2, tmax=0.5, baseline=None)\n",
    "\n",
    "X = epochs.get_data()\n",
    "y = epochs.events[:, -1]"
   ]
  },
  {
   "cell_type": "code",
   "execution_count": 7,
   "metadata": {},
   "outputs": [
    {
     "data": {
      "text/plain": [
       "((45, 265, 180), (45,))"
      ]
     },
     "execution_count": 7,
     "metadata": {},
     "output_type": "execute_result"
    }
   ],
   "source": [
    "X.shape, y.shape"
   ]
  },
  {
   "cell_type": "code",
   "execution_count": 8,
   "metadata": {},
   "outputs": [],
   "source": [
    "def extend_data(X, y, n_segments = 8):\n",
    "    extended_X = []\n",
    "    extended_y = []\n",
    "\n",
    "    # Divide each epoch into smaller segments and extend the data and labels\n",
    "    for epoch, label in zip(X, y):\n",
    "        segment_duration = epoch.shape[1] // n_segments\n",
    "        for i in range(n_segments):\n",
    "            start = i * segment_duration\n",
    "            end = start + segment_duration\n",
    "            segment = epoch[:, start:end]\n",
    "            extended_X.append(segment)\n",
    "            extended_y.append(label)\n",
    "\n",
    "    extended_X = np.array(extended_X)\n",
    "    extended_y = np.array(extended_y)\n",
    "    return extended_X, extended_y"
   ]
  },
  {
   "cell_type": "code",
   "execution_count": 9,
   "metadata": {},
   "outputs": [
    {
     "data": {
      "text/plain": [
       "((360, 265, 22), (360,))"
      ]
     },
     "execution_count": 9,
     "metadata": {},
     "output_type": "execute_result"
    }
   ],
   "source": [
    "extended_X, extended_y = extend_data(X, y)\n",
    "extended_X.shape, extended_y.shape"
   ]
  },
  {
   "cell_type": "code",
   "execution_count": 10,
   "metadata": {},
   "outputs": [],
   "source": [
    "def test_all_classifiers(X, y):\n",
    "    # Train and test the classifier using stratified sampling\n",
    "    X_train, X_test, y_train, y_test = train_test_split(X.reshape(X.shape[0], -1), y, test_size=0.3, random_state=42, stratify=y)\n",
    "\n",
    "    # Logistic Regression\n",
    "    pipeline = make_pipeline(\n",
    "        StandardScaler(),\n",
    "        LogisticRegression()\n",
    "    )\n",
    "    pipeline.fit(X_train, y_train)\n",
    "    y_pred = pipeline.predict(X_test)\n",
    "    accuracy = accuracy_score(y_test, y_pred)\n",
    "    print(f'Logistic Regression accuracy: {accuracy:.2f}')\n",
    "\n",
    "    # Support Vector Classification\n",
    "    pipeline = make_pipeline(\n",
    "        StandardScaler(),\n",
    "        SVC()\n",
    "    )\n",
    "    pipeline.fit(X_train, y_train)\n",
    "    y_pred = pipeline.predict(X_test)\n",
    "    accuracy = accuracy_score(y_test, y_pred)\n",
    "    print(f'SVC accuracy: {accuracy:.2f}')"
   ]
  },
  {
   "cell_type": "code",
   "execution_count": 11,
   "metadata": {},
   "outputs": [
    {
     "name": "stderr",
     "output_type": "stream",
     "text": [
      "C:\\Users\\hubra\\AppData\\Local\\Packages\\PythonSoftwareFoundation.Python.3.10_qbz5n2kfra8p0\\LocalCache\\local-packages\\Python310\\site-packages\\sklearn\\linear_model\\_logistic.py:458: ConvergenceWarning: lbfgs failed to converge (status=1):\n",
      "STOP: TOTAL NO. of ITERATIONS REACHED LIMIT.\n",
      "\n",
      "Increase the number of iterations (max_iter) or scale the data as shown in:\n",
      "    https://scikit-learn.org/stable/modules/preprocessing.html\n",
      "Please also refer to the documentation for alternative solver options:\n",
      "    https://scikit-learn.org/stable/modules/linear_model.html#logistic-regression\n",
      "  n_iter_i = _check_optimize_result(\n"
     ]
    },
    {
     "name": "stdout",
     "output_type": "stream",
     "text": [
      "Logistic Regression accuracy: 0.86\n",
      "SVC accuracy: 0.25\n"
     ]
    }
   ],
   "source": [
    "test_all_classifiers(extended_X, extended_y)"
   ]
  },
  {
   "cell_type": "code",
   "execution_count": 12,
   "metadata": {},
   "outputs": [],
   "source": [
    "# Define a function to compute the power spectral density (PSD)\n",
    "def compute_psd(epochs, freq_bands, sfreq):\n",
    "    psd_list = []\n",
    "\n",
    "    for epoch in epochs:\n",
    "        psd = np.abs(fft(epoch))**2\n",
    "        psd_freqs = np.fft.fftfreq(epoch.shape[-1], 1 / sfreq)\n",
    "        \n",
    "        band_powers = []\n",
    "        for band in freq_bands:\n",
    "            idx = np.logical_and(psd_freqs >= band[0], psd_freqs <= band[1])\n",
    "            band_power = np.sum(psd[:, idx], axis=-1)\n",
    "            band_powers.append(band_power)\n",
    "            \n",
    "        psd_list.append(np.array(band_powers))\n",
    "\n",
    "    return np.array(psd_list)"
   ]
  },
  {
   "cell_type": "code",
   "execution_count": 13,
   "metadata": {},
   "outputs": [],
   "source": [
    "# Define the frequency bands of interest\n",
    "freq_bands = {\n",
    "    'delta': (0.5, 4),\n",
    "    'theta': (4, 8),\n",
    "    'alpha': (8, 13),\n",
    "    'beta': (13, 30),\n",
    "    'gamma': (30, 45),\n",
    "}\n",
    "\n",
    "X_psd = compute_psd(epochs, freq_bands.values(), epochs.info['sfreq'])"
   ]
  },
  {
   "cell_type": "code",
   "execution_count": 14,
   "metadata": {},
   "outputs": [
    {
     "data": {
      "text/plain": [
       "(45, 5, 265)"
      ]
     },
     "execution_count": 14,
     "metadata": {},
     "output_type": "execute_result"
    }
   ],
   "source": [
    "X_psd.shape"
   ]
  },
  {
   "cell_type": "code",
   "execution_count": 15,
   "metadata": {},
   "outputs": [
    {
     "data": {
      "text/plain": [
       "((360, 5, 33), (360,))"
      ]
     },
     "execution_count": 15,
     "metadata": {},
     "output_type": "execute_result"
    }
   ],
   "source": [
    "extended_X_psd, extended_y = extend_data(X_psd, y)\n",
    "extended_X_psd.shape, extended_y.shape"
   ]
  },
  {
   "cell_type": "code",
   "execution_count": 16,
   "metadata": {},
   "outputs": [
    {
     "name": "stdout",
     "output_type": "stream",
     "text": [
      "Logistic Regression accuracy: 0.13\n",
      "SVC accuracy: 0.12\n"
     ]
    },
    {
     "name": "stderr",
     "output_type": "stream",
     "text": [
      "C:\\Users\\hubra\\AppData\\Local\\Packages\\PythonSoftwareFoundation.Python.3.10_qbz5n2kfra8p0\\LocalCache\\local-packages\\Python310\\site-packages\\sklearn\\linear_model\\_logistic.py:458: ConvergenceWarning: lbfgs failed to converge (status=1):\n",
      "STOP: TOTAL NO. of ITERATIONS REACHED LIMIT.\n",
      "\n",
      "Increase the number of iterations (max_iter) or scale the data as shown in:\n",
      "    https://scikit-learn.org/stable/modules/preprocessing.html\n",
      "Please also refer to the documentation for alternative solver options:\n",
      "    https://scikit-learn.org/stable/modules/linear_model.html#logistic-regression\n",
      "  n_iter_i = _check_optimize_result(\n"
     ]
    }
   ],
   "source": [
    "test_all_classifiers(extended_X_psd, extended_y)"
   ]
  },
  {
   "cell_type": "code",
   "execution_count": 17,
   "metadata": {},
   "outputs": [],
   "source": [
    "extended_X = extended_X.reshape(extended_X.shape[0], -1)\n",
    "extended_X_psd = extended_X_psd.reshape(extended_X_psd.shape[0], -1)\n",
    "extended_X_combined = np.concatenate((extended_X, extended_X_psd), axis=1)"
   ]
  },
  {
   "cell_type": "code",
   "execution_count": 18,
   "metadata": {},
   "outputs": [
    {
     "data": {
      "text/plain": [
       "((360, 5830), (360, 165))"
      ]
     },
     "execution_count": 18,
     "metadata": {},
     "output_type": "execute_result"
    }
   ],
   "source": [
    "extended_X.shape, extended_X_psd.shape"
   ]
  },
  {
   "cell_type": "code",
   "execution_count": 19,
   "metadata": {},
   "outputs": [
    {
     "name": "stderr",
     "output_type": "stream",
     "text": [
      "C:\\Users\\hubra\\AppData\\Local\\Packages\\PythonSoftwareFoundation.Python.3.10_qbz5n2kfra8p0\\LocalCache\\local-packages\\Python310\\site-packages\\sklearn\\linear_model\\_logistic.py:458: ConvergenceWarning: lbfgs failed to converge (status=1):\n",
      "STOP: TOTAL NO. of ITERATIONS REACHED LIMIT.\n",
      "\n",
      "Increase the number of iterations (max_iter) or scale the data as shown in:\n",
      "    https://scikit-learn.org/stable/modules/preprocessing.html\n",
      "Please also refer to the documentation for alternative solver options:\n",
      "    https://scikit-learn.org/stable/modules/linear_model.html#logistic-regression\n",
      "  n_iter_i = _check_optimize_result(\n"
     ]
    },
    {
     "name": "stdout",
     "output_type": "stream",
     "text": [
      "Logistic Regression accuracy: 0.78\n",
      "SVC accuracy: 0.27\n"
     ]
    }
   ],
   "source": [
    "test_all_classifiers(extended_X_combined, extended_y)"
   ]
  },
  {
   "cell_type": "code",
   "execution_count": null,
   "metadata": {},
   "outputs": [],
   "source": []
  }
 ],
 "metadata": {
  "kernelspec": {
   "display_name": "Python 3",
   "language": "python",
   "name": "python3"
  },
  "language_info": {
   "codemirror_mode": {
    "name": "ipython",
    "version": 3
   },
   "file_extension": ".py",
   "mimetype": "text/x-python",
   "name": "python",
   "nbconvert_exporter": "python",
   "pygments_lexer": "ipython3",
   "version": "3.10.11"
  }
 },
 "nbformat": 4,
 "nbformat_minor": 0
}

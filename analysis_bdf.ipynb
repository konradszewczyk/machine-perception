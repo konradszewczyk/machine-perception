{
 "cells": [
  {
   "cell_type": "code",
   "execution_count": 1,
   "metadata": {},
   "outputs": [],
   "source": [
    "import mne\n",
    "import numpy as np\n",
    "from sklearn.model_selection import train_test_split\n",
    "from sklearn.preprocessing import StandardScaler\n",
    "from sklearn.pipeline import make_pipeline\n",
    "from sklearn.linear_model import LogisticRegression\n",
    "from sklearn.metrics import accuracy_score\n",
    "from scipy.fft import fft\n",
    "import os\n",
    "import mne\n",
    "import matplotlib.pyplot as plt\n",
    "import numpy as np\n",
    "from sklearn.svm import SVC"
   ]
  },
  {
   "cell_type": "code",
   "execution_count": 2,
   "metadata": {},
   "outputs": [],
   "source": [
    "# Define a function to compute the power spectral density (PSD)\n",
    "def compute_psd(epochs, freq_bands, sfreq):\n",
    "    psd_list = []\n",
    "\n",
    "    for epoch in epochs:\n",
    "        psd = np.abs(fft(epoch))**2\n",
    "        psd_freqs = np.fft.fftfreq(epoch.shape[-1], 1 / sfreq)\n",
    "        \n",
    "        band_powers = []\n",
    "        for band in freq_bands:\n",
    "            idx = np.logical_and(psd_freqs >= band[0], psd_freqs <= band[1])\n",
    "            band_power = np.sum(psd[:, idx], axis=-1)\n",
    "            band_powers.append(band_power)\n",
    "            \n",
    "        psd_list.append(np.array(band_powers))\n",
    "\n",
    "    return np.array(psd_list)\n",
    "\n",
    "# Define the frequency bands of interest\n",
    "freq_bands = {\n",
    "    'delta': (0.5, 4),\n",
    "    'theta': (4, 8),\n",
    "    'alpha': (8, 13),\n",
    "    'beta': (13, 30),\n",
    "    'gamma': (30, 45),\n",
    "}"
   ]
  },
  {
   "cell_type": "code",
   "execution_count": 3,
   "metadata": {},
   "outputs": [
    {
     "name": "stdout",
     "output_type": "stream",
     "text": [
      "Extracting EDF parameters from C:\\Artificial Intelligence\\S8\\MachinePerception\\project\\data\\eeg_recording_1.bdf...\n",
      "BDF file detected\n",
      "Setting channel info structure...\n",
      "Creating raw.info structure...\n",
      "Reading 0 ... 1155327  =      0.000 ...  4512.996 secs...\n",
      "Trigger channel has a non-zero initial value of 65536 (consider using initial_event=True to detect this event)\n",
      "Removing orphaned offset at the beginning of the file.\n",
      "86 events found\n",
      "Event IDs: [  1   2   4   5   6   7   8   9  10  11  12  13  14  15  16  17  18  19\n",
      "  21  22  23  24  25  26  30 100]\n",
      "Not setting metadata\n",
      "15 matching events found\n",
      "No baseline correction applied\n",
      "0 projection items activated\n",
      "Using data from preloaded Raw for 15 events and 180 original time points ...\n",
      "0 bad epochs dropped\n",
      "File eeg_recording_1.bdf shape:  (15, 265, 180) (15,)\n",
      "Extracting EDF parameters from C:\\Artificial Intelligence\\S8\\MachinePerception\\project\\data\\eeg_recording_2.bdf...\n",
      "BDF file detected\n",
      "Setting channel info structure...\n",
      "Creating raw.info structure...\n",
      "Reading 0 ... 1407231  =      0.000 ...  5496.996 secs...\n",
      "Trigger channel has a non-zero initial value of 65540 (consider using initial_event=True to detect this event)\n",
      "86 events found\n",
      "Event IDs: [  2   4   5   6   7   8   9  10  11  12  13  14  15  16  17  18  19  21\n",
      "  22  23  24  25  26  30 100]\n",
      "Not setting metadata\n",
      "15 matching events found\n",
      "No baseline correction applied\n",
      "0 projection items activated\n",
      "Using data from preloaded Raw for 15 events and 180 original time points ...\n",
      "0 bad epochs dropped\n",
      "File eeg_recording_2.bdf shape:  (15, 265, 180) (15,)\n",
      "Extracting EDF parameters from C:\\Artificial Intelligence\\S8\\MachinePerception\\project\\data\\eeg_recording_3.bdf...\n",
      "BDF file detected\n",
      "Setting channel info structure...\n",
      "Creating raw.info structure...\n",
      "Reading 0 ... 1268479  =      0.000 ...  4954.996 secs...\n",
      "Trigger channel has a non-zero initial value of 65536 (consider using initial_event=True to detect this event)\n",
      "Removing orphaned offset at the beginning of the file.\n",
      "54 events found\n",
      "Event IDs: [ 1  2  3  5  6  7  8  9 10 11 12 13 14 15 16 17 18 19 20 21 22 23 24 25\n",
      " 26 30]\n",
      "Not setting metadata\n",
      "15 matching events found\n",
      "No baseline correction applied\n",
      "0 projection items activated\n",
      "Using data from preloaded Raw for 15 events and 180 original time points ...\n",
      "0 bad epochs dropped\n",
      "File eeg_recording_3.bdf shape:  (15, 265, 180) (15,)\n"
     ]
    }
   ],
   "source": [
    "# Load all .bdf files from the folder\n",
    "folder_path = 'data'\n",
    "file_names = [f for f in os.listdir(folder_path) if f.endswith('.bdf')]\n",
    "\n",
    "X_all = []\n",
    "X_psd_all = []\n",
    "y_all = []\n",
    "durations = []\n",
    "for file_name in file_names:\n",
    "    file_path = os.path.join(folder_path, file_name)\n",
    "    raw = mne.io.read_raw_bdf(file_path, preload=True)\n",
    "\n",
    "    events = mne.find_events(raw)\n",
    "    event_id = {'awe': 9, \n",
    "                'frustration': 10,\n",
    "                'joy': 11,\n",
    "                'anger': 12,\n",
    "                'happy': 13,\n",
    "                'sad': 14,\n",
    "                'love': 15,\n",
    "                'fear': 16,\n",
    "                'compassion': 17,\n",
    "                'jealousy': 18,\n",
    "                'content': 19,\n",
    "                'grief': 20,\n",
    "                'relief': 21,\n",
    "                'excite': 22,\n",
    "                'disgust': 23\n",
    "                }\n",
    "    # tymczasowo, bo niektóre pliki nie mają tego grief i wyrzuca error\n",
    "    event_id_no_grief = {'awe': 9, \n",
    "            'frustration': 10,\n",
    "            'joy': 11,\n",
    "            'anger': 12,\n",
    "            'happy': 13,\n",
    "            'sad': 14,\n",
    "            'love': 15,\n",
    "            'fear': 16,\n",
    "            'compassion': 17,\n",
    "            'jealousy': 18,\n",
    "            'content': 19,\n",
    "            # 'grief': 20,\n",
    "            'relief': 21,\n",
    "            'excite': 22,\n",
    "            'disgust': 23\n",
    "            }\n",
    "    try:\n",
    "        epochs = mne.Epochs(raw, events, event_id, tmin=-0.2, tmax=0.5, baseline=None)\n",
    "    except:\n",
    "        epochs = mne.Epochs(raw, events, event_id_no_grief, tmin=-0.2, tmax=0.5, baseline=None)\n",
    "\n",
    "    X = epochs.get_data()\n",
    "    X_psd = compute_psd(epochs, freq_bands.values(), epochs.info['sfreq'])\n",
    "    y = epochs.events[:, -1]\n",
    "    print('File', file_name, 'shape: ', X.shape, y.shape)\n",
    "    X_all.append(X)\n",
    "    X_psd_all.append(X_psd)\n",
    "    y_all.append(y)\n",
    "\n",
    "    # Calculate the duration of each event\n",
    "    for i in range(1, len(events)):\n",
    "        start_time_current_event = events[i - 1, 0]\n",
    "        start_time_next_event = events[i, 0]\n",
    "        duration = (start_time_next_event - start_time_current_event) / raw.info['sfreq']\n",
    "        event_id = events[i - 1, 2]\n",
    "        if event_id >= 9 and event_id <= 23:\n",
    "            durations.append((event_id, duration))\n",
    "\n",
    "X = np.concatenate(X_all)\n",
    "X_psd = np.concatenate(X_psd_all)\n",
    "y = np.concatenate(y_all)"
   ]
  },
  {
   "cell_type": "code",
   "execution_count": 4,
   "metadata": {},
   "outputs": [
    {
     "data": {
      "text/plain": "((45, 265, 180), (45, 5, 265), (45,))"
     },
     "execution_count": 4,
     "metadata": {},
     "output_type": "execute_result"
    }
   ],
   "source": [
    "X.shape, X_psd.shape, y.shape"
   ]
  },
  {
   "cell_type": "code",
   "execution_count": 5,
   "metadata": {},
   "outputs": [
    {
     "data": {
      "text/plain": "<Figure size 864x432 with 1 Axes>",
      "image/png": "[encoded data removed]"
     },
     "metadata": {
      "needs_background": "light"
     },
     "output_type": "display_data"
    }
   ],
   "source": [
    "# Plot the duration of every event\n",
    "event_ids, event_durations = zip(*durations)\n",
    "plt.figure(figsize=(12, 6))\n",
    "plt.scatter(event_ids, event_durations)\n",
    "plt.xlabel('Event ID')\n",
    "plt.ylabel('Duration (s)')\n",
    "plt.title('Duration of Every Event')\n",
    "plt.show()"
   ]
  },
  {
   "cell_type": "code",
   "execution_count": 6,
   "metadata": {
    "pycharm": {
     "name": "#%%\n"
    }
   },
   "outputs": [],
   "source": [
    "def data_augmentation(X, y, n_segments, segment_duration=None, noise_std=None, noise_per_channel=False, random_seed=42):\n",
    "    np.random.seed(random_seed)\n",
    "    augmented_X = []\n",
    "    augmented_y = []\n",
    "    \n",
    "    if segment_duration is None:\n",
    "        segment_duration = int(0.5 * X.shape[2])\n",
    "\n",
    "    if noise_std is None:\n",
    "        if noise_per_channel:\n",
    "            noise_std = np.std(X, axis=(0, 2)) / 10\n",
    "        else:\n",
    "            noise_std = np.std(X) / 10\n",
    "\n",
    "    for i in range(X.shape[0]):\n",
    "        for _ in range(n_segments):\n",
    "            start = np.random.randint(0, X.shape[2] - segment_duration)\n",
    "            segment = X[i, :, start : start + segment_duration]\n",
    "            noise = np.random.normal(0, noise_std, segment.shape[::-1]).transpose()\n",
    "            augmented_segment = segment + noise\n",
    "            augmented_X.append(augmented_segment)\n",
    "            augmented_y.append(y[i])\n",
    "\n",
    "    return np.array(augmented_X), np.array(augmented_y)\n",
    "\n",
    "def extract_segments(X, segment_duration):\n",
    "    if segment_duration is None:\n",
    "        segment_duration = int(0.5 * X.shape[2])\n",
    "    n_segments = X.shape[2] // segment_duration\n",
    "    extracted_X = []\n",
    "\n",
    "    for i in range(X.shape[0]):\n",
    "        for j in range(n_segments):\n",
    "            start = j * segment_duration\n",
    "            segment = X[i, :, start : start + segment_duration]\n",
    "            extracted_X.append(segment)\n",
    "\n",
    "    return np.array(extracted_X)\n"
   ]
  },
  {
   "cell_type": "code",
   "execution_count": 7,
   "metadata": {},
   "outputs": [
    {
     "data": {
      "text/plain": "((45, 265, 180), (360, 265, 90))"
     },
     "execution_count": 7,
     "metadata": {},
     "output_type": "execute_result"
    }
   ],
   "source": [
    "X.shape, data_augmentation(X, y, 8)[0].shape"
   ]
  },
  {
   "cell_type": "code",
   "execution_count": 8,
   "metadata": {
    "pycharm": {
     "name": "#%%\n"
    }
   },
   "outputs": [],
   "source": [
    "def test_all_classifiers(X, y, noise_per_channel = False):\n",
    "    X, y = data_augmentation(X, y, 12, noise_per_channel=noise_per_channel)\n",
    "    X_train, X_test, y_train, y_test = train_test_split(X, y, test_size=0.3, random_state=42, stratify=y)\n",
    "    X_train = X_train.reshape(X_train.shape[0], -1)\n",
    "    X_test = X_test.reshape(X_test.shape[0], -1)      \n",
    "\n",
    "    # Logistic Regression\n",
    "    pipeline = make_pipeline(\n",
    "        StandardScaler(),\n",
    "        LogisticRegression()\n",
    "    )\n",
    "    pipeline.fit(X_train, y_train)\n",
    "    y_pred = pipeline.predict(X_test)\n",
    "    accuracy = accuracy_score(y_test, y_pred)\n",
    "    print(f'Logistic Regression accuracy: {accuracy:.2f}')\n",
    "\n",
    "    # Support Vector Classification\n",
    "    pipeline = make_pipeline(\n",
    "        StandardScaler(),\n",
    "        SVC()\n",
    "    )\n",
    "    pipeline.fit(X_train, y_train)\n",
    "    y_pred = pipeline.predict(X_test)\n",
    "    accuracy = accuracy_score(y_test, y_pred)\n",
    "    print(f'SVC accuracy: {accuracy:.2f}')"
   ]
  },
  {
   "cell_type": "code",
   "execution_count": 9,
   "metadata": {
    "pycharm": {
     "name": "#%%\n"
    }
   },
   "outputs": [
    {
     "name": "stderr",
     "output_type": "stream",
     "text": [
      "C:\\Users\\konsz\\AppData\\Local\\Programs\\Python\\Python310\\lib\\site-packages\\sklearn\\linear_model\\_logistic.py:814: ConvergenceWarning: lbfgs failed to converge (status=1):\n",
      "STOP: TOTAL NO. of ITERATIONS REACHED LIMIT.\n",
      "\n",
      "Increase the number of iterations (max_iter) or scale the data as shown in:\n",
      "    https://scikit-learn.org/stable/modules/preprocessing.html\n",
      "Please also refer to the documentation for alternative solver options:\n",
      "    https://scikit-learn.org/stable/modules/linear_model.html#logistic-regression\n",
      "  n_iter_i = _check_optimize_result(\n"
     ]
    },
    {
     "name": "stdout",
     "output_type": "stream",
     "text": [
      "Logistic Regression accuracy: 0.25\n",
      "SVC accuracy: 0.11\n"
     ]
    }
   ],
   "source": [
    "test_all_classifiers(X, y)"
   ]
  },
  {
   "cell_type": "code",
   "execution_count": 10,
   "outputs": [
    {
     "name": "stderr",
     "output_type": "stream",
     "text": [
      "C:\\Users\\konsz\\AppData\\Local\\Programs\\Python\\Python310\\lib\\site-packages\\sklearn\\linear_model\\_logistic.py:814: ConvergenceWarning: lbfgs failed to converge (status=1):\n",
      "STOP: TOTAL NO. of ITERATIONS REACHED LIMIT.\n",
      "\n",
      "Increase the number of iterations (max_iter) or scale the data as shown in:\n",
      "    https://scikit-learn.org/stable/modules/preprocessing.html\n",
      "Please also refer to the documentation for alternative solver options:\n",
      "    https://scikit-learn.org/stable/modules/linear_model.html#logistic-regression\n",
      "  n_iter_i = _check_optimize_result(\n"
     ]
    },
    {
     "name": "stdout",
     "output_type": "stream",
     "text": [
      "Logistic Regression accuracy: 0.95\n",
      "SVC accuracy: 0.36\n"
     ]
    }
   ],
   "source": [
    "test_all_classifiers(X, y, noise_per_channel=True)"
   ],
   "metadata": {
    "collapsed": false,
    "pycharm": {
     "name": "#%%\n"
    }
   }
  },
  {
   "cell_type": "code",
   "execution_count": 11,
   "metadata": {},
   "outputs": [
    {
     "name": "stdout",
     "output_type": "stream",
     "text": [
      "Logistic Regression accuracy: 0.09\n",
      "SVC accuracy: 0.11\n"
     ]
    }
   ],
   "source": [
    "test_all_classifiers(X_psd, y)"
   ]
  },
  {
   "cell_type": "markdown",
   "source": [
    "### Basic FFT"
   ],
   "metadata": {
    "collapsed": false,
    "pycharm": {
     "name": "#%% md\n"
    }
   }
  },
  {
   "cell_type": "code",
   "execution_count": 12,
   "outputs": [
    {
     "name": "stdout",
     "output_type": "stream",
     "text": [
      "Real part:\n"
     ]
    },
    {
     "data": {
      "text/plain": "<Figure size 432x288 with 1 Axes>",
      "image/png": "[encoded data removed]"
     },
     "metadata": {
      "needs_background": "light"
     },
     "output_type": "display_data"
    },
    {
     "name": "stdout",
     "output_type": "stream",
     "text": [
      "Imaginary part:\n"
     ]
    },
    {
     "data": {
      "text/plain": "<Figure size 432x288 with 1 Axes>",
      "image/png": "[encoded data removed]"
     },
     "metadata": {
      "needs_background": "light"
     },
     "output_type": "display_data"
    }
   ],
   "source": [
    "plot_x = np.fft.fftfreq(180, 1/raw.info['sfreq'])\n",
    "plot_y = np.fft.fft(X)\n",
    "\n",
    "print(\"Real part:\")\n",
    "plt.plot(plot_x, np.real(plot_y[0, 1]))\n",
    "plt.show()\n",
    "\n",
    "print(\"Imaginary part:\")\n",
    "plt.plot(plot_x, np.imag(plot_y[0, 1]))\n",
    "plt.show()"
   ],
   "metadata": {
    "collapsed": false,
    "pycharm": {
     "name": "#%%\n"
    }
   }
  },
  {
   "cell_type": "code",
   "execution_count": 13,
   "outputs": [
    {
     "name": "stdout",
     "output_type": "stream",
     "text": [
      "Logistic Regression accuracy: 0.11\n",
      "SVC accuracy: 0.11\n"
     ]
    }
   ],
   "source": [
    "fft_X = np.fft.fft(X)\n",
    "# concatenate real and imaginary parts\n",
    "fft_X = np.concatenate([np.real(fft_X), np.imag(fft_X)], axis=1)\n",
    "test_all_classifiers(fft_X, y)"
   ],
   "metadata": {
    "collapsed": false,
    "pycharm": {
     "name": "#%%\n"
    }
   }
  },
  {
   "cell_type": "code",
   "execution_count": 14,
   "outputs": [
    {
     "name": "stdout",
     "output_type": "stream",
     "text": [
      "Logistic Regression accuracy: 0.23\n",
      "SVC accuracy: 0.12\n"
     ]
    }
   ],
   "source": [
    "test_all_classifiers(fft_X, y, noise_per_channel=True)"
   ],
   "metadata": {
    "collapsed": false,
    "pycharm": {
     "name": "#%%\n"
    }
   }
  }
 ],
 "metadata": {
  "kernelspec": {
   "display_name": "Python 3",
   "language": "python",
   "name": "python3"
  },
  "language_info": {
   "codemirror_mode": {
    "name": "ipython",
    "version": 3
   },
   "file_extension": ".py",
   "mimetype": "text/x-python",
   "name": "python",
   "nbconvert_exporter": "python",
   "pygments_lexer": "ipython3",
   "version": "3.10.11"
  }
 },
 "nbformat": 4,
 "nbformat_minor": 0
}
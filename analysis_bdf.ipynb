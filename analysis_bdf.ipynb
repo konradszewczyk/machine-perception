{
 "cells": [
  {
   "cell_type": "code",
   "execution_count": 2,
   "metadata": {
    "pycharm": {
     "name": "#%%\n"
    }
   },
   "outputs": [],
   "source": [
    "import mne\n",
    "import numpy as np\n",
    "from sklearn.model_selection import train_test_split\n",
    "from sklearn.preprocessing import StandardScaler\n",
    "from sklearn.pipeline import make_pipeline\n",
    "from sklearn.linear_model import LogisticRegression\n",
    "from sklearn.metrics import accuracy_score\n",
    "from scipy.fft import fft\n",
    "import os\n",
    "import mne\n",
    "import matplotlib.pyplot as plt\n",
    "import numpy as np\n",
    "from sklearn.svm import SVC\n",
    "from sklearn.ensemble import RandomForestClassifier\n",
    "from sklearn.ensemble import GradientBoostingClassifier\n",
    "from sklearn.neighbors import KNeighborsClassifier"
   ]
  },
  {
   "cell_type": "code",
   "execution_count": 3,
   "outputs": [
    {
     "name": "stdout",
     "output_type": "stream",
     "text": [
      "Extracting EDF parameters from C:\\Artificial Intelligence\\S8\\MachinePerception\\project\\data\\eeg_recording_1.bdf...\n",
      "BDF file detected\n",
      "Setting channel info structure...\n",
      "Creating raw.info structure...\n",
      "Reading 0 ... 1155327  =      0.000 ...  4512.996 secs...\n",
      "Trigger channel has a non-zero initial value of 65536 (consider using initial_event=True to detect this event)\n",
      "Removing orphaned offset at the beginning of the file.\n",
      "86 events found\n",
      "Event IDs: [  1   2   4   5   6   7   8   9  10  11  12  13  14  15  16  17  18  19\n",
      "  21  22  23  24  25  26  30 100]\n",
      "Not setting metadata\n",
      "16 matching events found\n",
      "No baseline correction applied\n",
      "0 projection items activated\n",
      "Using data from preloaded Raw for 16 events and 1281 original time points ...\n",
      "0 bad epochs dropped\n",
      "File eeg_recording_1.bdf shape:  (16, 265, 1281) (16,)\n",
      "Extracting EDF parameters from C:\\Artificial Intelligence\\S8\\MachinePerception\\project\\data\\eeg_recording_10.bdf...\n",
      "BDF file detected\n",
      "Setting channel info structure...\n",
      "Creating raw.info structure...\n",
      "Reading 0 ... 1731327  =      0.000 ...  6762.996 secs...\n",
      "Trigger channel has a non-zero initial value of 65540 (consider using initial_event=True to detect this event)\n",
      "Removing orphaned offset at the beginning of the file.\n",
      "55 events found\n",
      "Event IDs: [ 1  2  3  5  6  7  8  9 10 11 12 13 14 15 16 17 18 19 20 21 22 23 24 25\n",
      " 26 30]\n",
      "Not setting metadata\n",
      "16 matching events found\n",
      "No baseline correction applied\n",
      "0 projection items activated\n",
      "Using data from preloaded Raw for 16 events and 1281 original time points ...\n",
      "0 bad epochs dropped\n",
      "File eeg_recording_10.bdf shape:  (16, 265, 1281) (16,)\n",
      "Extracting EDF parameters from C:\\Artificial Intelligence\\S8\\MachinePerception\\project\\data\\eeg_recording_11.bdf...\n",
      "BDF file detected\n",
      "Setting channel info structure...\n",
      "Creating raw.info structure...\n",
      "Reading 0 ... 1139711  =      0.000 ...  4451.996 secs...\n",
      "Trigger channel has a non-zero initial value of 65536 (consider using initial_event=True to detect this event)\n",
      "Removing orphaned offset at the beginning of the file.\n",
      "55 events found\n",
      "Event IDs: [ 1  2  3  5  6  7  8  9 10 11 12 13 14 15 16 17 18 19 20 21 22 23 24 25\n",
      " 26 30]\n",
      "Not setting metadata\n",
      "16 matching events found\n",
      "No baseline correction applied\n",
      "0 projection items activated\n",
      "Using data from preloaded Raw for 16 events and 1281 original time points ...\n",
      "0 bad epochs dropped\n",
      "File eeg_recording_11.bdf shape:  (16, 265, 1281) (16,)\n",
      "Extracting EDF parameters from C:\\Artificial Intelligence\\S8\\MachinePerception\\project\\data\\eeg_recording_12.bdf...\n",
      "BDF file detected\n",
      "Setting channel info structure...\n",
      "Creating raw.info structure...\n",
      "Reading 0 ... 1052159  =      0.000 ...  4109.996 secs...\n",
      "Trigger channel has a non-zero initial value of 65536 (consider using initial_event=True to detect this event)\n",
      "Removing orphaned offset at the beginning of the file.\n",
      "55 events found\n",
      "Event IDs: [ 1  2  4  5  6  7  8  9 10 11 12 13 14 15 16 17 18 19 20 21 22 23 24 25\n",
      " 26 30]\n",
      "Not setting metadata\n",
      "16 matching events found\n",
      "No baseline correction applied\n",
      "0 projection items activated\n",
      "Using data from preloaded Raw for 16 events and 1281 original time points ...\n",
      "0 bad epochs dropped\n",
      "File eeg_recording_12.bdf shape:  (16, 265, 1281) (16,)\n",
      "Extracting EDF parameters from C:\\Artificial Intelligence\\S8\\MachinePerception\\project\\data\\eeg_recording_13.bdf...\n",
      "BDF file detected\n",
      "Setting channel info structure...\n",
      "Creating raw.info structure...\n",
      "Reading 0 ... 1130239  =      0.000 ...  4414.996 secs...\n",
      "Trigger channel has a non-zero initial value of 65536 (consider using initial_event=True to detect this event)\n",
      "Removing orphaned offset at the beginning of the file.\n",
      "55 events found\n",
      "Event IDs: [ 1  2  4  5  6  7  8  9 10 11 12 13 14 15 16 17 18 19 20 21 22 23 24 25\n",
      " 26 30]\n",
      "Not setting metadata\n",
      "16 matching events found\n",
      "No baseline correction applied\n",
      "0 projection items activated\n",
      "Using data from preloaded Raw for 16 events and 1281 original time points ...\n",
      "0 bad epochs dropped\n",
      "File eeg_recording_13.bdf shape:  (16, 265, 1281) (16,)\n",
      "Extracting EDF parameters from C:\\Artificial Intelligence\\S8\\MachinePerception\\project\\data\\eeg_recording_14.bdf...\n",
      "BDF file detected\n",
      "Setting channel info structure...\n",
      "Creating raw.info structure...\n",
      "Reading 0 ... 808703  =      0.000 ...  3158.996 secs...\n",
      "Trigger channel has a non-zero initial value of 65536 (consider using initial_event=True to detect this event)\n",
      "Removing orphaned offset at the beginning of the file.\n",
      "55 events found\n",
      "Event IDs: [ 1  2  4  5  6  7  8  9 10 11 12 13 14 15 16 17 18 19 20 21 22 23 24 25\n",
      " 26 30]\n",
      "Not setting metadata\n",
      "16 matching events found\n",
      "No baseline correction applied\n",
      "0 projection items activated\n",
      "Using data from preloaded Raw for 16 events and 1281 original time points ...\n",
      "0 bad epochs dropped\n",
      "File eeg_recording_14.bdf shape:  (16, 265, 1281) (16,)\n",
      "Extracting EDF parameters from C:\\Artificial Intelligence\\S8\\MachinePerception\\project\\data\\eeg_recording_15.bdf...\n",
      "BDF file detected\n",
      "Setting channel info structure...\n",
      "Creating raw.info structure...\n",
      "Reading 0 ... 865535  =      0.000 ...  3380.996 secs...\n",
      "Trigger channel has a non-zero initial value of 65536 (consider using initial_event=True to detect this event)\n",
      "Removing orphaned offset at the beginning of the file.\n",
      "55 events found\n",
      "Event IDs: [ 1  2  3  5  6  7  8  9 10 11 12 13 14 15 16 17 18 19 20 21 22 23 24 25\n",
      " 26 30]\n",
      "Not setting metadata\n",
      "16 matching events found\n",
      "No baseline correction applied\n",
      "0 projection items activated\n",
      "Using data from preloaded Raw for 16 events and 1281 original time points ...\n",
      "0 bad epochs dropped\n",
      "File eeg_recording_15.bdf shape:  (16, 265, 1281) (16,)\n",
      "Extracting EDF parameters from C:\\Artificial Intelligence\\S8\\MachinePerception\\project\\data\\eeg_recording_16.bdf...\n",
      "BDF file detected\n",
      "Setting channel info structure...\n",
      "Creating raw.info structure...\n",
      "Reading 0 ... 1410559  =      0.000 ...  5509.996 secs...\n",
      "Trigger channel has a non-zero initial value of 65536 (consider using initial_event=True to detect this event)\n",
      "Removing orphaned offset at the beginning of the file.\n",
      "55 events found\n",
      "Event IDs: [ 1  2  4  5  6  7  8  9 10 11 12 13 14 15 16 17 18 19 20 21 22 23 24 25\n",
      " 26 30]\n",
      "Not setting metadata\n",
      "16 matching events found\n",
      "No baseline correction applied\n",
      "0 projection items activated\n",
      "Using data from preloaded Raw for 16 events and 1281 original time points ...\n",
      "0 bad epochs dropped\n",
      "File eeg_recording_16.bdf shape:  (16, 265, 1281) (16,)\n",
      "Extracting EDF parameters from C:\\Artificial Intelligence\\S8\\MachinePerception\\project\\data\\eeg_recording_18.bdf...\n",
      "BDF file detected\n",
      "Setting channel info structure...\n",
      "Creating raw.info structure...\n",
      "Reading 0 ... 1651711  =      0.000 ...  6451.996 secs...\n",
      "Trigger channel has a non-zero initial value of 65536 (consider using initial_event=True to detect this event)\n",
      "Removing orphaned offset at the beginning of the file.\n",
      "55 events found\n",
      "Event IDs: [ 1  2  4  5  6  7  8  9 10 11 12 13 14 15 16 17 18 19 20 21 22 23 24 25\n",
      " 26 30]\n",
      "Not setting metadata\n",
      "16 matching events found\n",
      "No baseline correction applied\n",
      "0 projection items activated\n",
      "Using data from preloaded Raw for 16 events and 1281 original time points ...\n",
      "0 bad epochs dropped\n",
      "File eeg_recording_18.bdf shape:  (16, 265, 1281) (16,)\n",
      "Extracting EDF parameters from C:\\Artificial Intelligence\\S8\\MachinePerception\\project\\data\\eeg_recording_19.bdf...\n",
      "BDF file detected\n",
      "Setting channel info structure...\n",
      "Creating raw.info structure...\n",
      "Reading 0 ... 1117183  =      0.000 ...  4363.996 secs...\n",
      "Trigger channel has a non-zero initial value of 65536 (consider using initial_event=True to detect this event)\n",
      "Removing orphaned offset at the beginning of the file.\n",
      "55 events found\n",
      "Event IDs: [ 1  2  3  5  6  7  8  9 10 11 12 13 14 15 16 17 18 19 20 21 22 23 24 25\n",
      " 26 30]\n",
      "Not setting metadata\n",
      "16 matching events found\n",
      "No baseline correction applied\n",
      "0 projection items activated\n",
      "Using data from preloaded Raw for 16 events and 1281 original time points ...\n",
      "0 bad epochs dropped\n",
      "File eeg_recording_19.bdf shape:  (16, 265, 1281) (16,)\n",
      "Extracting EDF parameters from C:\\Artificial Intelligence\\S8\\MachinePerception\\project\\data\\eeg_recording_2.bdf...\n",
      "BDF file detected\n",
      "Setting channel info structure...\n",
      "Creating raw.info structure...\n",
      "Reading 0 ... 1407231  =      0.000 ...  5496.996 secs...\n",
      "Trigger channel has a non-zero initial value of 65540 (consider using initial_event=True to detect this event)\n",
      "86 events found\n",
      "Event IDs: [  2   4   5   6   7   8   9  10  11  12  13  14  15  16  17  18  19  21\n",
      "  22  23  24  25  26  30 100]\n",
      "Not setting metadata\n",
      "16 matching events found\n",
      "No baseline correction applied\n",
      "0 projection items activated\n",
      "Using data from preloaded Raw for 16 events and 1281 original time points ...\n",
      "0 bad epochs dropped\n",
      "File eeg_recording_2.bdf shape:  (16, 265, 1281) (16,)\n",
      "Extracting EDF parameters from C:\\Artificial Intelligence\\S8\\MachinePerception\\project\\data\\eeg_recording_20.bdf...\n",
      "BDF file detected\n",
      "Setting channel info structure...\n",
      "Creating raw.info structure...\n",
      "Reading 0 ... 1501951  =      0.000 ...  5866.996 secs...\n",
      "Trigger channel has a non-zero initial value of 65536 (consider using initial_event=True to detect this event)\n",
      "Removing orphaned offset at the beginning of the file.\n",
      "55 events found\n",
      "Event IDs: [ 1  2  4  5  6  7  8  9 10 11 12 13 14 15 16 17 18 19 20 21 22 23 24 25\n",
      " 26 30]\n",
      "Not setting metadata\n",
      "16 matching events found\n",
      "No baseline correction applied\n",
      "0 projection items activated\n",
      "Using data from preloaded Raw for 16 events and 1281 original time points ...\n",
      "0 bad epochs dropped\n",
      "File eeg_recording_20.bdf shape:  (16, 265, 1281) (16,)\n",
      "Extracting EDF parameters from C:\\Artificial Intelligence\\S8\\MachinePerception\\project\\data\\eeg_recording_21.bdf...\n",
      "BDF file detected\n",
      "Setting channel info structure...\n",
      "Creating raw.info structure...\n",
      "Reading 0 ... 1067007  =      0.000 ...  4167.996 secs...\n",
      "55 events found\n",
      "Event IDs: [ 1  2  4  5  6  7  8  9 10 11 12 13 14 15 16 17 18 19 20 21 22 23 24 25\n",
      " 26 30]\n",
      "Not setting metadata\n",
      "16 matching events found\n",
      "No baseline correction applied\n",
      "0 projection items activated\n",
      "Using data from preloaded Raw for 16 events and 1281 original time points ...\n",
      "0 bad epochs dropped\n",
      "File eeg_recording_21.bdf shape:  (16, 265, 1281) (16,)\n",
      "Extracting EDF parameters from C:\\Artificial Intelligence\\S8\\MachinePerception\\project\\data\\eeg_recording_22.bdf...\n",
      "BDF file detected\n",
      "Setting channel info structure...\n",
      "Creating raw.info structure...\n",
      "Reading 0 ... 1063423  =      0.000 ...  4153.996 secs...\n",
      "Trigger channel has a non-zero initial value of 65536 (consider using initial_event=True to detect this event)\n",
      "Removing orphaned offset at the beginning of the file.\n",
      "55 events found\n",
      "Event IDs: [ 1  2  4  5  6  7  8  9 10 11 12 13 14 15 16 17 18 19 20 21 22 23 24 25\n",
      " 26 30]\n",
      "Not setting metadata\n",
      "16 matching events found\n",
      "No baseline correction applied\n",
      "0 projection items activated\n",
      "Using data from preloaded Raw for 16 events and 1281 original time points ...\n",
      "0 bad epochs dropped\n",
      "File eeg_recording_22.bdf shape:  (16, 265, 1281) (16,)\n",
      "Extracting EDF parameters from C:\\Artificial Intelligence\\S8\\MachinePerception\\project\\data\\eeg_recording_26.bdf...\n",
      "BDF file detected\n",
      "Setting channel info structure...\n",
      "Creating raw.info structure...\n",
      "Reading 0 ... 1273343  =      0.000 ...  4973.996 secs...\n",
      "Trigger channel has a non-zero initial value of 65536 (consider using initial_event=True to detect this event)\n",
      "Removing orphaned offset at the beginning of the file.\n",
      "55 events found\n",
      "Event IDs: [ 1  2  3  5  6  7  8  9 10 11 12 13 14 15 16 17 18 19 20 21 22 23 24 25\n",
      " 26 30]\n",
      "Not setting metadata\n",
      "16 matching events found\n",
      "No baseline correction applied\n",
      "0 projection items activated\n",
      "Using data from preloaded Raw for 16 events and 1281 original time points ...\n",
      "0 bad epochs dropped\n",
      "File eeg_recording_26.bdf shape:  (16, 265, 1281) (16,)\n",
      "Extracting EDF parameters from C:\\Artificial Intelligence\\S8\\MachinePerception\\project\\data\\eeg_recording_27.bdf...\n",
      "BDF file detected\n",
      "Setting channel info structure...\n",
      "Creating raw.info structure...\n",
      "Reading 0 ... 1242111  =      0.000 ...  4851.996 secs...\n",
      "Trigger channel has a non-zero initial value of 65536 (consider using initial_event=True to detect this event)\n",
      "Removing orphaned offset at the beginning of the file.\n",
      "55 events found\n",
      "Event IDs: [ 1  2  3  5  6  7  8  9 10 11 12 13 14 15 16 17 18 19 20 21 22 23 24 25\n",
      " 26 30]\n",
      "Not setting metadata\n",
      "16 matching events found\n",
      "No baseline correction applied\n",
      "0 projection items activated\n",
      "Using data from preloaded Raw for 16 events and 1281 original time points ...\n",
      "0 bad epochs dropped\n",
      "File eeg_recording_27.bdf shape:  (16, 265, 1281) (16,)\n",
      "Extracting EDF parameters from C:\\Artificial Intelligence\\S8\\MachinePerception\\project\\data\\eeg_recording_28.bdf...\n",
      "BDF file detected\n",
      "Setting channel info structure...\n",
      "Creating raw.info structure...\n",
      "Reading 0 ... 1751039  =      0.000 ...  6839.996 secs...\n",
      "52 events found\n",
      "Event IDs: [ 3  5  6  7  8  9 10 11 12 13 14 15 16 17 18 19 20 21 22 23 24 25 26 30]\n",
      "Not setting metadata\n",
      "16 matching events found\n",
      "No baseline correction applied\n",
      "0 projection items activated\n",
      "Using data from preloaded Raw for 16 events and 1281 original time points ...\n",
      "0 bad epochs dropped\n",
      "File eeg_recording_28.bdf shape:  (16, 265, 1281) (16,)\n",
      "Extracting EDF parameters from C:\\Artificial Intelligence\\S8\\MachinePerception\\project\\data\\eeg_recording_29.bdf...\n",
      "BDF file detected\n",
      "Setting channel info structure...\n",
      "Creating raw.info structure...\n",
      "Reading 0 ... 1055231  =      0.000 ...  4121.996 secs...\n",
      "Trigger channel has a non-zero initial value of 65536 (consider using initial_event=True to detect this event)\n",
      "Removing orphaned offset at the beginning of the file.\n",
      "55 events found\n",
      "Event IDs: [ 1  2  3  5  6  7  8  9 10 11 12 13 14 15 16 17 18 19 20 21 22 23 24 25\n",
      " 26 30]\n",
      "Not setting metadata\n",
      "16 matching events found\n",
      "No baseline correction applied\n",
      "0 projection items activated\n",
      "Using data from preloaded Raw for 16 events and 1281 original time points ...\n",
      "0 bad epochs dropped\n",
      "File eeg_recording_29.bdf shape:  (16, 265, 1281) (16,)\n",
      "Extracting EDF parameters from C:\\Artificial Intelligence\\S8\\MachinePerception\\project\\data\\eeg_recording_3.bdf...\n",
      "BDF file detected\n",
      "Setting channel info structure...\n",
      "Creating raw.info structure...\n",
      "Reading 0 ... 1268479  =      0.000 ...  4954.996 secs...\n",
      "Trigger channel has a non-zero initial value of 65536 (consider using initial_event=True to detect this event)\n",
      "Removing orphaned offset at the beginning of the file.\n",
      "54 events found\n",
      "Event IDs: [ 1  2  3  5  6  7  8  9 10 11 12 13 14 15 16 17 18 19 20 21 22 23 24 25\n",
      " 26 30]\n",
      "Not setting metadata\n",
      "16 matching events found\n",
      "No baseline correction applied\n",
      "0 projection items activated\n",
      "Using data from preloaded Raw for 16 events and 1281 original time points ...\n",
      "0 bad epochs dropped\n",
      "File eeg_recording_3.bdf shape:  (16, 265, 1281) (16,)\n",
      "Extracting EDF parameters from C:\\Artificial Intelligence\\S8\\MachinePerception\\project\\data\\eeg_recording_30.bdf...\n",
      "BDF file detected\n",
      "Setting channel info structure...\n",
      "Creating raw.info structure...\n",
      "Reading 0 ... 1359871  =      0.000 ...  5311.996 secs...\n",
      "Trigger channel has a non-zero initial value of 65536 (consider using initial_event=True to detect this event)\n",
      "Removing orphaned offset at the beginning of the file.\n",
      "55 events found\n",
      "Event IDs: [ 1  2  3  5  6  7  8  9 10 11 12 13 14 15 16 17 18 19 20 21 22 23 24 25\n",
      " 26 30]\n",
      "Not setting metadata\n",
      "16 matching events found\n",
      "No baseline correction applied\n",
      "0 projection items activated\n",
      "Using data from preloaded Raw for 16 events and 1281 original time points ...\n",
      "0 bad epochs dropped\n",
      "File eeg_recording_30.bdf shape:  (16, 265, 1281) (16,)\n"
     ]
    }
   ],
   "source": [
    "folder_path = 'data'\n",
    "file_names = [f for f in os.listdir(folder_path) if f.endswith('.bdf')]\n",
    "\n",
    "X_all = []\n",
    "y_all = []\n",
    "durations = []\n",
    "for file_name in file_names[:20]:\n",
    "    file_path = os.path.join(folder_path, file_name)\n",
    "    raw = mne.io.read_raw_bdf(file_path, preload=True)\n",
    "\n",
    "    events = mne.find_events(raw, shortest_event=1)\n",
    "\n",
    "    event_id = {'awe': 9, \n",
    "                'frustration': 10,\n",
    "                'joy': 11,\n",
    "                'anger': 12,\n",
    "                'happy': 13,\n",
    "                'sad': 14,\n",
    "                'love': 15,\n",
    "                'fear': 16,\n",
    "                'compassion': 17,\n",
    "                'jealousy': 18,\n",
    "                'content': 19,\n",
    "                'grief': 20,\n",
    "                'relief': 21,\n",
    "                'excite': 22,\n",
    "                'disgust': 23,\n",
    "                'none': 0  # added this line to include non-events\n",
    "                }\n",
    "\n",
    "    avg_duration = np.mean(np.diff(events[:, 0]))\n",
    "\n",
    "    none_events = []\n",
    "    none_count = 0  # counter for 'none' events\n",
    "    for i in range(1, len(events)):\n",
    "        gap = events[i][0] - events[i-1][0]\n",
    "        if gap > avg_duration * 2:  # only add \"none\" event if gap is longer than twice the average duration\n",
    "            none_start = events[i-1][0] + gap // 2  # start \"none\" event in the middle of the gap\n",
    "            none_events.append([none_start, 0, event_id['none']])\n",
    "            none_count += 1\n",
    "            if none_count >= 1:  # limit to 2 'none' events per file\n",
    "                break\n",
    "\n",
    "    events = np.vstack((events, none_events))\n",
    "    events = events[events[:, 0].argsort()]  # sort events by time\n",
    "\n",
    "    existing_event_ids = set(events[:, 2])\n",
    "    filtered_event_id = {k: v for k, v in event_id.items() if v in existing_event_ids}\n",
    "    \n",
    "    epochs = mne.Epochs(raw, events, filtered_event_id, tmin=-3, tmax=2, baseline=None)\n",
    "\n",
    "    X = epochs.get_data()\n",
    "    y = epochs.events[:, -1]\n",
    "    print('File', file_name, 'shape: ', X.shape, y.shape)\n",
    "    X_all.append(X)\n",
    "    y_all.append(y)\n",
    "\n",
    "    for i in range(1, len(events)):\n",
    "        start_time_current_event = events[i - 1, 0]\n",
    "        start_time_next_event = events[i, 0]\n",
    "        duration = (start_time_next_event - start_time_current_event) / raw.info['sfreq']\n",
    "        event_id = events[i - 1, 2]\n",
    "        if event_id >= 9 and event_id <= 23:\n",
    "            durations.append((event_id, duration))\n",
    "\n",
    "X = np.concatenate(X_all)\n",
    "y = np.concatenate(y_all)\n"
   ],
   "metadata": {
    "collapsed": false,
    "pycharm": {
     "name": "#%%\n"
    }
   }
  },
  {
   "cell_type": "code",
   "execution_count": 4,
   "outputs": [],
   "source": [
    "def data_extension(X, y, n_segments):\n",
    "    extented_X = []\n",
    "    extended_y = []\n",
    "    \n",
    "    segment_duration = int(X.shape[2] / n_segments)\n",
    "    \n",
    "    for i in range(X.shape[0]):\n",
    "        for j in range(n_segments):\n",
    "            start = j * segment_duration\n",
    "            segment = X[i, :, start : start + segment_duration]\n",
    "            extented_X.append(segment)\n",
    "            extended_y.append(y[i])\n",
    "\n",
    "    return np.array(extented_X), np.array(extended_y)"
   ],
   "metadata": {
    "collapsed": false,
    "pycharm": {
     "name": "#%%\n"
    }
   }
  },
  {
   "cell_type": "code",
   "execution_count": 5,
   "outputs": [
    {
     "name": "stdout",
     "output_type": "stream",
     "text": [
      "(320, 265, 1281) (320,)\n",
      "(1600, 265, 256) (1600,)\n"
     ]
    }
   ],
   "source": [
    "print(X.shape, y.shape)\n",
    "X, y = data_extension(X, y, 5)\n",
    "print(X.shape, y.shape)"
   ],
   "metadata": {
    "collapsed": false,
    "pycharm": {
     "name": "#%%\n"
    }
   }
  },
  {
   "cell_type": "code",
   "execution_count": 18,
   "outputs": [],
   "source": [
    "X_train, X_test, y_train, y_test = train_test_split(X, y, test_size=0.25, random_state=42, stratify=y)"
   ],
   "metadata": {
    "collapsed": false,
    "pycharm": {
     "name": "#%%\n"
    }
   }
  },
  {
   "cell_type": "code",
   "execution_count": 7,
   "outputs": [
    {
     "data": {
      "text/plain": "<Figure size 864x432 with 1 Axes>",
      "image/png": "[encoded data removed]"
     },
     "metadata": {
      "needs_background": "light"
     },
     "output_type": "display_data"
    }
   ],
   "source": [
    "# Plot the duration of every event\n",
    "event_ids, event_durations = zip(*durations)\n",
    "plt.figure(figsize=(12, 6))\n",
    "plt.scatter(event_ids, event_durations)\n",
    "plt.xlabel('Event ID')\n",
    "plt.ylabel('Duration (s)')\n",
    "plt.title('Duration of Every Event')\n",
    "plt.show()"
   ],
   "metadata": {
    "collapsed": false,
    "pycharm": {
     "name": "#%%\n"
    }
   }
  },
  {
   "cell_type": "code",
   "execution_count": 8,
   "outputs": [],
   "source": [
    "def data_augmentation(X, y, n_segments, segment_duration=None, is_noise = True, noise_std=None, noise_per_channel=False, random_seed=42):\n",
    "    np.random.seed(random_seed)\n",
    "    augmented_X = []\n",
    "    augmented_y = []\n",
    "    \n",
    "    if segment_duration is None:\n",
    "        segment_duration = int(0.5 * X.shape[2])\n",
    "\n",
    "    if noise_std is None:\n",
    "        if noise_per_channel:\n",
    "            noise_std = np.std(X, axis=(0, 2)) / 10\n",
    "        else:\n",
    "            noise_std = np.std(X) / 10\n",
    "    \n",
    "    if not is_noise:\n",
    "        noise_std = 0\n",
    "\n",
    "    for i in range(X.shape[0]):\n",
    "        for _ in range(n_segments):\n",
    "            start = np.random.randint(0, X.shape[2] - segment_duration)\n",
    "            segment = X[i, :, start : start + segment_duration]\n",
    "            noise = np.random.normal(0, noise_std, segment.shape[::-1]).transpose()\n",
    "            augmented_segment = segment + noise\n",
    "            augmented_X.append(augmented_segment)\n",
    "            augmented_y.append(y[i])\n",
    "\n",
    "    return np.array(augmented_X), np.array(augmented_y)\n",
    "\n",
    "def extract_segments(X, segment_duration):\n",
    "    if segment_duration is None:\n",
    "        segment_duration = int(0.5 * X.shape[2])\n",
    "    n_segments = X.shape[2] // segment_duration\n",
    "    extracted_X = []\n",
    "\n",
    "    for i in range(X.shape[0]):\n",
    "        for j in range(n_segments):\n",
    "            start = j * segment_duration\n",
    "            segment = X[i, :, start : start + segment_duration]\n",
    "            extracted_X.append(segment)\n",
    "\n",
    "    return np.array(extracted_X)"
   ],
   "metadata": {
    "collapsed": false,
    "pycharm": {
     "name": "#%%\n"
    }
   }
  },
  {
   "cell_type": "code",
   "execution_count": 19,
   "outputs": [
    {
     "data": {
      "text/plain": "((240, 265, 1281), (720, 265, 640))"
     },
     "execution_count": 19,
     "metadata": {},
     "output_type": "execute_result"
    }
   ],
   "source": [
    "X_train.shape, data_augmentation(X_train, y_train, 3)[0].shape"
   ],
   "metadata": {
    "collapsed": false,
    "pycharm": {
     "name": "#%%\n"
    }
   }
  },
  {
   "cell_type": "code",
   "execution_count": 76,
   "outputs": [],
   "source": [
    "def test_all_classifiers(X_train, X_test, y_train, y_test, augmentation = False):\n",
    "#     X, y = data_augmentation(X, y, 12, is_noise=is_noise, noise_per_channel=noise_per_channel)\n",
    "#     X_train, X_test, y_train, y_test = train_test_split(X, y, test_size=0.3, random_state=42, stratify=y)\n",
    "    \n",
    "    if augmentation:\n",
    "        X_train, y_train = data_augmentation(X_train, y_train, 5, is_noise=True, noise_per_channel=True)\n",
    "\n",
    "        X_test = extract_segments(X_test, segment_duration=int(0.5 * X.shape[2]))\n",
    "        y_test = np.repeat(y_test, X_test.shape[0] // y_test.shape[0])\n",
    "    \n",
    "    X_train = X_train.reshape(X_train.shape[0], -1)\n",
    "    X_test = X_test.reshape(X_test.shape[0], -1)\n",
    "\n",
    "    # Logistic Regression\n",
    "    pipeline = make_pipeline(\n",
    "        StandardScaler(),\n",
    "        LogisticRegression()\n",
    "    )\n",
    "    pipeline.fit(X_train, y_train)\n",
    "    y_pred = pipeline.predict(X_test)\n",
    "#     print(y_test, y_pred)\n",
    "    log_accuracy = accuracy_score(y_test, y_pred)\n",
    "    print(f'Logistic Regression accuracy: {log_accuracy:.2f}')\n",
    "\n",
    "    # Support Vector Classification\n",
    "    pipeline = make_pipeline(\n",
    "        StandardScaler(),\n",
    "        SVC()\n",
    "    )\n",
    "    pipeline.fit(X_train, y_train)\n",
    "    y_pred = pipeline.predict(X_test)\n",
    "    svc_accuracy = accuracy_score(y_test, y_pred)\n",
    "    print(f'SVC accuracy: {svc_accuracy:.2f}')\n",
    "    \n",
    "    # Random Forest Classification\n",
    "    pipeline = make_pipeline(\n",
    "        StandardScaler(),\n",
    "        RandomForestClassifier()\n",
    "    )\n",
    "    pipeline.fit(X_train, y_train)\n",
    "    y_pred = pipeline.predict(X_test)\n",
    "    rand_accuracy = accuracy_score(y_test, y_pred)\n",
    "    print(f'Random Forest accuracy: {rand_accuracy:.2f}')\n",
    "    \n",
    "    # K-Nearest Neighbors Classification\n",
    "    pipeline = make_pipeline(\n",
    "        StandardScaler(),\n",
    "        KNeighborsClassifier()\n",
    "    )\n",
    "    pipeline.fit(X_train, y_train)\n",
    "    y_pred = pipeline.predict(X_test)\n",
    "    knn_accuracy = accuracy_score(y_test, y_pred)\n",
    "    print(f'K-Nearest Neighbors accuracy: {knn_accuracy:.2f}')\n",
    "    \n",
    "    return log_accuracy, svc_accuracy, rand_accuracy, knn_accuracy\n"
   ],
   "metadata": {
    "collapsed": false,
    "pycharm": {
     "name": "#%%\n"
    }
   }
  },
  {
   "cell_type": "code",
   "execution_count": 11,
   "outputs": [
    {
     "data": {
      "text/plain": "((1200, 265, 256), (400, 265, 256), (1200,), (400,))"
     },
     "execution_count": 11,
     "metadata": {},
     "output_type": "execute_result"
    }
   ],
   "source": [
    "X_train.shape, X_test.shape, y_train.shape, y_test.shape"
   ],
   "metadata": {
    "collapsed": false,
    "pycharm": {
     "name": "#%%\n"
    }
   }
  },
  {
   "cell_type": "code",
   "execution_count": 20,
   "outputs": [
    {
     "name": "stdout",
     "output_type": "stream",
     "text": [
      "\n",
      "============================\n",
      "\n",
      "NOISE PER CHANNEL\n"
     ]
    },
    {
     "name": "stderr",
     "output_type": "stream",
     "text": [
      "C:\\Users\\konsz\\AppData\\Local\\Programs\\Python\\Python310\\lib\\site-packages\\sklearn\\linear_model\\_logistic.py:814: ConvergenceWarning: lbfgs failed to converge (status=1):\n",
      "STOP: TOTAL NO. of ITERATIONS REACHED LIMIT.\n",
      "\n",
      "Increase the number of iterations (max_iter) or scale the data as shown in:\n",
      "    https://scikit-learn.org/stable/modules/preprocessing.html\n",
      "Please also refer to the documentation for alternative solver options:\n",
      "    https://scikit-learn.org/stable/modules/linear_model.html#logistic-regression\n",
      "  n_iter_i = _check_optimize_result(\n"
     ]
    },
    {
     "name": "stdout",
     "output_type": "stream",
     "text": [
      "Logistic Regression accuracy: 0.00\n",
      "SVC accuracy: 0.01\n",
      "Random Forest accuracy: 0.00\n",
      "K-Nearest Neighbors accuracy: 0.00\n",
      "\n",
      "============================\n",
      "\n",
      "NO NOISE\n"
     ]
    }
   ],
   "source": [
    "# print('NOISE NOT PER CHANNEL')\n",
    "# test_all_classifiers(X_train, X_test, y_train, y_test)\n",
    "\n",
    "print(\"\\n============================\\n\")\n",
    "print('NOISE PER CHANNEL')\n",
    "test_all_classifiers(X_train, X_test, y_train, y_test)\n",
    "\n",
    "print(\"\\n============================\\n\")\n",
    "print('NO NOISE')\n",
    "#test_all_classifiers(X_train, X_test, y_train, y_test, augmentation=True)"
   ],
   "metadata": {
    "collapsed": false,
    "pycharm": {
     "name": "#%%\n"
    }
   }
  },
  {
   "cell_type": "code",
   "execution_count": 27,
   "outputs": [
    {
     "data": {
      "text/plain": "(15, 1281)"
     },
     "execution_count": 27,
     "metadata": {},
     "output_type": "execute_result"
    }
   ],
   "source": [
    "X_train[y_train == 9, 0].shape"
   ],
   "metadata": {
    "collapsed": false,
    "pycharm": {
     "name": "#%%\n"
    }
   }
  },
  {
   "cell_type": "code",
   "execution_count": 57,
   "outputs": [
    {
     "data": {
      "text/plain": "<Figure size 432x288 with 1 Axes>",
      "image/png": "[encoded data removed]"
     },
     "metadata": {
      "needs_background": "light"
     },
     "output_type": "display_data"
    }
   ],
   "source": [
    "for row in X_train[y_train == 11, 10]:\n",
    "    plt.plot(row)\n",
    "plt.show()"
   ],
   "metadata": {
    "collapsed": false,
    "pycharm": {
     "name": "#%%\n"
    }
   }
  },
  {
   "cell_type": "code",
   "execution_count": 71,
   "outputs": [],
   "source": [
    "new_X = X.copy()\n",
    "new_y = y.copy()"
   ],
   "metadata": {
    "collapsed": false,
    "pycharm": {
     "name": "#%%\n"
    }
   }
  },
  {
   "cell_type": "code",
   "execution_count": 72,
   "outputs": [
    {
     "data": {
      "text/plain": "(320, 265)"
     },
     "execution_count": 72,
     "metadata": {},
     "output_type": "execute_result"
    }
   ],
   "source": [
    "np.mean(new_X, axis=2).shape"
   ],
   "metadata": {
    "collapsed": false,
    "pycharm": {
     "name": "#%%\n"
    }
   }
  },
  {
   "cell_type": "code",
   "execution_count": 73,
   "outputs": [],
   "source": [
    "new_X = new_X - np.mean(new_X, axis=2).reshape(new_X.shape[0], new_X.shape[1], 1)"
   ],
   "metadata": {
    "collapsed": false,
    "pycharm": {
     "name": "#%%\n"
    }
   }
  },
  {
   "cell_type": "code",
   "execution_count": 115,
   "outputs": [
    {
     "data": {
      "text/plain": "<Figure size 432x288 with 1 Axes>",
      "image/png": "[encoded data removed]"
     },
     "metadata": {
      "needs_background": "light"
     },
     "output_type": "display_data"
    }
   ],
   "source": [
    "for row in new_X[new_y == 15, 5]:\n",
    "    plt.plot(row)\n",
    "plt.show()"
   ],
   "metadata": {
    "collapsed": false,
    "pycharm": {
     "name": "#%%\n"
    }
   }
  },
  {
   "cell_type": "code",
   "execution_count": 75,
   "outputs": [
    {
     "name": "stdout",
     "output_type": "stream",
     "text": [
      "\n",
      "============================\n",
      "\n",
      "NOISE PER CHANNEL\n",
      "Logistic Regression accuracy: 0.04\n",
      "SVC accuracy: 0.03\n",
      "Random Forest accuracy: 0.56\n",
      "K-Nearest Neighbors accuracy: 0.07\n",
      "\n",
      "============================\n",
      "\n",
      "NO NOISE\n"
     ]
    }
   ],
   "source": [
    "X_train, X_test, y_train, y_test = train_test_split(new_X, new_y, test_size=0.25, random_state=42, stratify=new_y)\n",
    "\n",
    "print(\"\\n============================\\n\")\n",
    "print('NOISE PER CHANNEL')\n",
    "test_all_classifiers(X_train, X_test, y_train, y_test)\n",
    "\n",
    "print(\"\\n============================\\n\")\n",
    "print('NO NOISE')"
   ],
   "metadata": {
    "collapsed": false,
    "pycharm": {
     "name": "#%%\n"
    }
   }
  },
  {
   "cell_type": "code",
   "execution_count": 77,
   "outputs": [
    {
     "name": "stderr",
     "output_type": "stream",
     "text": [
      "C:\\Users\\konsz\\AppData\\Local\\Programs\\Python\\Python310\\lib\\site-packages\\sklearn\\linear_model\\_logistic.py:814: ConvergenceWarning: lbfgs failed to converge (status=1):\n",
      "STOP: TOTAL NO. of ITERATIONS REACHED LIMIT.\n",
      "\n",
      "Increase the number of iterations (max_iter) or scale the data as shown in:\n",
      "    https://scikit-learn.org/stable/modules/preprocessing.html\n",
      "Please also refer to the documentation for alternative solver options:\n",
      "    https://scikit-learn.org/stable/modules/linear_model.html#logistic-regression\n",
      "  n_iter_i = _check_optimize_result(\n"
     ]
    },
    {
     "name": "stdout",
     "output_type": "stream",
     "text": [
      "Logistic Regression accuracy: 0.04\n",
      "SVC accuracy: 0.04\n",
      "Random Forest accuracy: 0.03\n",
      "K-Nearest Neighbors accuracy: 0.04\n"
     ]
    },
    {
     "data": {
      "text/plain": "(0.0375, 0.0375, 0.03125, 0.0375)"
     },
     "execution_count": 77,
     "metadata": {},
     "output_type": "execute_result"
    }
   ],
   "source": [
    "test_all_classifiers(X_train, X_test, y_train, y_test, augmentation=True)"
   ],
   "metadata": {
    "collapsed": false,
    "pycharm": {
     "name": "#%%\n"
    }
   }
  },
  {
   "cell_type": "code",
   "execution_count": 116,
   "outputs": [],
   "source": [
    "positive = [9, 11, 13, 15, 17, 19, 21, 22]\n",
    "negative = [10, 12, 14, 16, 18, 20, 23]\n",
    "\n",
    "pos_X = X[np.isin(new_y, positive)]\n",
    "pos_y = np.ones(pos_X.shape[0])\n",
    "\n",
    "neg_X = X[np.isin(new_y, negative)]\n",
    "neg_y = np.zeros(neg_X.shape[0])\n",
    "\n",
    "limited_X = np.concatenate([pos_X, neg_X])\n",
    "limited_y = np.concatenate([pos_y, neg_y])\n",
    "\n",
    "order = np.arange(limited_y.shape[0])\n",
    "np.random.shuffle(order)\n",
    "\n",
    "limited_X = limited_X[order]\n",
    "limited_y = limited_y[order]"
   ],
   "metadata": {
    "collapsed": false,
    "pycharm": {
     "name": "#%%\n"
    }
   }
  },
  {
   "cell_type": "code",
   "execution_count": 117,
   "outputs": [
    {
     "name": "stdout",
     "output_type": "stream",
     "text": [
      "\n",
      "============================\n",
      "\n",
      "NOISE PER CHANNEL\n"
     ]
    },
    {
     "name": "stderr",
     "output_type": "stream",
     "text": [
      "C:\\Users\\konsz\\AppData\\Local\\Programs\\Python\\Python310\\lib\\site-packages\\sklearn\\linear_model\\_logistic.py:814: ConvergenceWarning: lbfgs failed to converge (status=1):\n",
      "STOP: TOTAL NO. of ITERATIONS REACHED LIMIT.\n",
      "\n",
      "Increase the number of iterations (max_iter) or scale the data as shown in:\n",
      "    https://scikit-learn.org/stable/modules/preprocessing.html\n",
      "Please also refer to the documentation for alternative solver options:\n",
      "    https://scikit-learn.org/stable/modules/linear_model.html#logistic-regression\n",
      "  n_iter_i = _check_optimize_result(\n"
     ]
    },
    {
     "name": "stdout",
     "output_type": "stream",
     "text": [
      "Logistic Regression accuracy: 0.39\n",
      "SVC accuracy: 0.45\n",
      "Random Forest accuracy: 0.29\n",
      "K-Nearest Neighbors accuracy: 0.29\n",
      "\n",
      "============================\n",
      "\n",
      "NO NOISE\n"
     ]
    }
   ],
   "source": [
    "X_train, X_test, y_train, y_test = train_test_split(limited_X, limited_y, test_size=0.25, random_state=42, stratify=limited_y)\n",
    "\n",
    "print(\"\\n============================\\n\")\n",
    "print('NOISE PER CHANNEL')\n",
    "test_all_classifiers(X_train, X_test, y_train, y_test)\n",
    "\n",
    "print(\"\\n============================\\n\")\n",
    "print('NO NOISE')"
   ],
   "metadata": {
    "collapsed": false,
    "pycharm": {
     "name": "#%%\n"
    }
   }
  },
  {
   "cell_type": "markdown",
   "source": [
    "### Basic FFT"
   ],
   "metadata": {
    "collapsed": false,
    "pycharm": {
     "name": "#%% md\n"
    }
   }
  },
  {
   "cell_type": "code",
   "execution_count": 78,
   "outputs": [
    {
     "name": "stdout",
     "output_type": "stream",
     "text": [
      "Magnitude:\n"
     ]
    },
    {
     "data": {
      "text/plain": "<Figure size 432x288 with 1 Axes>",
      "image/png": "[encoded data removed]"
     },
     "metadata": {
      "needs_background": "light"
     },
     "output_type": "display_data"
    },
    {
     "name": "stdout",
     "output_type": "stream",
     "text": [
      "Real part:\n"
     ]
    },
    {
     "data": {
      "text/plain": "<Figure size 432x288 with 1 Axes>",
      "image/png": "[encoded data removed]"
     },
     "metadata": {
      "needs_background": "light"
     },
     "output_type": "display_data"
    },
    {
     "name": "stdout",
     "output_type": "stream",
     "text": [
      "Imaginary part:\n"
     ]
    },
    {
     "data": {
      "text/plain": "<Figure size 432x288 with 1 Axes>",
      "image/png": "[encoded data removed]"
     },
     "metadata": {
      "needs_background": "light"
     },
     "output_type": "display_data"
    }
   ],
   "source": [
    "plot_x = np.fft.fftfreq(1281, 1/raw.info['sfreq'])\n",
    "plot_y = np.fft.fft(new_X)\n",
    "\n",
    "print(\"Magnitude:\")\n",
    "plt.stem(plot_x, np.abs(plot_y[0,0]), use_line_collection=True)\n",
    "plt.grid()\n",
    "plt.show()\n",
    "\n",
    "print(\"Real part:\")\n",
    "plt.stem(plot_x, np.real(plot_y[0,0]), use_line_collection=True)\n",
    "plt.grid()\n",
    "plt.show()\n",
    "\n",
    "print(\"Imaginary part:\")\n",
    "plt.stem(plot_x, np.imag(plot_y[0,0]), use_line_collection=True)\n",
    "plt.grid()\n",
    "plt.show()"
   ],
   "metadata": {
    "collapsed": false,
    "pycharm": {
     "name": "#%%\n"
    }
   }
  },
  {
   "cell_type": "markdown",
   "source": [
    "**FFT plots with the dominating magnitude removed**"
   ],
   "metadata": {
    "collapsed": false,
    "pycharm": {
     "name": "#%% md\n"
    }
   }
  },
  {
   "cell_type": "code",
   "execution_count": 79,
   "outputs": [
    {
     "name": "stdout",
     "output_type": "stream",
     "text": [
      "Magnitude:\n"
     ]
    },
    {
     "data": {
      "text/plain": "<Figure size 432x288 with 1 Axes>",
      "image/png": "[encoded data removed]"
     },
     "metadata": {
      "needs_background": "light"
     },
     "output_type": "display_data"
    },
    {
     "name": "stdout",
     "output_type": "stream",
     "text": [
      "Real part:\n"
     ]
    },
    {
     "data": {
      "text/plain": "<Figure size 432x288 with 1 Axes>",
      "image/png": "[encoded data removed]"
     },
     "metadata": {
      "needs_background": "light"
     },
     "output_type": "display_data"
    },
    {
     "name": "stdout",
     "output_type": "stream",
     "text": [
      "Imaginary part:\n"
     ]
    },
    {
     "data": {
      "text/plain": "<Figure size 432x288 with 1 Axes>",
      "image/png": "[encoded data removed]"
     },
     "metadata": {
      "needs_background": "light"
     },
     "output_type": "display_data"
    }
   ],
   "source": [
    "print(\"Magnitude:\")\n",
    "plt.stem(plot_x[1:], np.abs(plot_y[0,0,1:]), use_line_collection=True)\n",
    "plt.grid()\n",
    "plt.show()\n",
    "\n",
    "print(\"Real part:\")\n",
    "plt.stem(plot_x[1:], np.real(plot_y[0,0,1:]), use_line_collection=True)\n",
    "plt.grid()\n",
    "plt.show()\n",
    "\n",
    "print(\"Imaginary part:\")\n",
    "plt.stem(plot_x[1:], np.imag(plot_y[0,0,1:]), use_line_collection=True)\n",
    "plt.grid()\n",
    "plt.show()"
   ],
   "metadata": {
    "collapsed": false,
    "pycharm": {
     "name": "#%%\n"
    }
   }
  },
  {
   "cell_type": "code",
   "execution_count": 80,
   "outputs": [
    {
     "ename": "TypeError",
     "evalue": "test_all_classifiers() missing 2 required positional arguments: 'y_train' and 'y_test'",
     "output_type": "error",
     "traceback": [
      "\u001B[1;31m---------------------------------------------------------------------------\u001B[0m",
      "\u001B[1;31mTypeError\u001B[0m                                 Traceback (most recent call last)",
      "Input \u001B[1;32mIn [80]\u001B[0m, in \u001B[0;36m<cell line: 4>\u001B[1;34m()\u001B[0m\n\u001B[0;32m      2\u001B[0m \u001B[38;5;66;03m# concatenate real and imaginary parts\u001B[39;00m\n\u001B[0;32m      3\u001B[0m fft_X \u001B[38;5;241m=\u001B[39m np\u001B[38;5;241m.\u001B[39mconcatenate([np\u001B[38;5;241m.\u001B[39mreal(fft_X), np\u001B[38;5;241m.\u001B[39mimag(fft_X)], axis\u001B[38;5;241m=\u001B[39m\u001B[38;5;241m1\u001B[39m)\n\u001B[1;32m----> 4\u001B[0m \u001B[43mtest_all_classifiers\u001B[49m\u001B[43m(\u001B[49m\u001B[43mfft_X\u001B[49m\u001B[43m,\u001B[49m\u001B[43m \u001B[49m\u001B[43my\u001B[49m\u001B[43m)\u001B[49m\n",
      "\u001B[1;31mTypeError\u001B[0m: test_all_classifiers() missing 2 required positional arguments: 'y_train' and 'y_test'"
     ]
    }
   ],
   "source": [
    "fft_X = np.fft.fft(X)\n",
    "# concatenate real and imaginary parts\n",
    "fft_X = np.concatenate([np.real(fft_X), np.imag(fft_X)], axis=1)\n",
    "test_all_classifiers(fft_X, y)"
   ],
   "metadata": {
    "collapsed": false,
    "pycharm": {
     "name": "#%%\n"
    }
   }
  },
  {
   "cell_type": "code",
   "execution_count": null,
   "outputs": [],
   "source": [
    "test_all_classifiers(fft_X, y, noise_per_channel=True)"
   ],
   "metadata": {
    "collapsed": false,
    "pycharm": {
     "name": "#%%\n"
    }
   }
  },
  {
   "cell_type": "code",
   "execution_count": null,
   "outputs": [],
   "source": [
    "test_all_classifiers(fft_X, y, is_noise=False)"
   ],
   "metadata": {
    "collapsed": false,
    "pycharm": {
     "name": "#%%\n"
    }
   }
  },
  {
   "cell_type": "code",
   "execution_count": null,
   "outputs": [],
   "source": [
    "fft_X = np.fft.fft(X)\n",
    "fft_X = np.concatenate([np.real(fft_X), np.imag(fft_X), X], axis=1)\n",
    "test_all_classifiers(fft_X, y, noise_per_channel=True)"
   ],
   "metadata": {
    "collapsed": false,
    "pycharm": {
     "name": "#%%\n"
    }
   }
  },
  {
   "cell_type": "code",
   "execution_count": 97,
   "outputs": [],
   "source": [
    "import scipy.signal\n",
    "\n",
    "# Power Spectral Density\n",
    "freqs, psd = scipy.signal.welch(limited_X, fs=raw.info['sfreq'], nperseg=180, noverlap=90, axis=1)\n",
    "\n",
    "# concatenate real and imaginary parts\n",
    "psd_X = np.concatenate([np.real(psd), np.imag(psd)], axis=1)"
   ],
   "metadata": {
    "collapsed": false,
    "pycharm": {
     "name": "#%%\n"
    }
   }
  },
  {
   "cell_type": "code",
   "execution_count": 99,
   "outputs": [
    {
     "name": "stdout",
     "output_type": "stream",
     "text": [
      "NO NOISE\n"
     ]
    },
    {
     "name": "stderr",
     "output_type": "stream",
     "text": [
      "C:\\Users\\konsz\\AppData\\Local\\Programs\\Python\\Python310\\lib\\site-packages\\sklearn\\linear_model\\_logistic.py:814: ConvergenceWarning: lbfgs failed to converge (status=1):\n",
      "STOP: TOTAL NO. of ITERATIONS REACHED LIMIT.\n",
      "\n",
      "Increase the number of iterations (max_iter) or scale the data as shown in:\n",
      "    https://scikit-learn.org/stable/modules/preprocessing.html\n",
      "Please also refer to the documentation for alternative solver options:\n",
      "    https://scikit-learn.org/stable/modules/linear_model.html#logistic-regression\n",
      "  n_iter_i = _check_optimize_result(\n"
     ]
    },
    {
     "name": "stdout",
     "output_type": "stream",
     "text": [
      "Logistic Regression accuracy: 0.49\n",
      "SVC accuracy: 0.48\n",
      "Random Forest accuracy: 0.55\n",
      "K-Nearest Neighbors accuracy: 0.48\n",
      "\n",
      "============================\n",
      "\n",
      "NOISE\n"
     ]
    },
    {
     "ename": "TypeError",
     "evalue": "test_all_classifiers() got an unexpected keyword argument 'noise_per_channel'",
     "output_type": "error",
     "traceback": [
      "\u001B[1;31m---------------------------------------------------------------------------\u001B[0m",
      "\u001B[1;31mTypeError\u001B[0m                                 Traceback (most recent call last)",
      "Input \u001B[1;32mIn [99]\u001B[0m, in \u001B[0;36m<cell line: 8>\u001B[1;34m()\u001B[0m\n\u001B[0;32m      6\u001B[0m \u001B[38;5;28mprint\u001B[39m(\u001B[38;5;124m\"\u001B[39m\u001B[38;5;130;01m\\n\u001B[39;00m\u001B[38;5;124m============================\u001B[39m\u001B[38;5;130;01m\\n\u001B[39;00m\u001B[38;5;124m\"\u001B[39m)\n\u001B[0;32m      7\u001B[0m \u001B[38;5;28mprint\u001B[39m(\u001B[38;5;124m'\u001B[39m\u001B[38;5;124mNOISE\u001B[39m\u001B[38;5;124m'\u001B[39m)\n\u001B[1;32m----> 8\u001B[0m \u001B[43mtest_all_classifiers\u001B[49m\u001B[43m(\u001B[49m\u001B[43mX_train_psd\u001B[49m\u001B[43m,\u001B[49m\u001B[43m \u001B[49m\u001B[43mX_test_psd\u001B[49m\u001B[43m,\u001B[49m\u001B[43m \u001B[49m\u001B[43my_train_psd\u001B[49m\u001B[43m,\u001B[49m\u001B[43m \u001B[49m\u001B[43my_test_psd\u001B[49m\u001B[43m,\u001B[49m\u001B[43m \u001B[49m\u001B[43mnoise_per_channel\u001B[49m\u001B[38;5;241;43m=\u001B[39;49m\u001B[38;5;28;43;01mTrue\u001B[39;49;00m\u001B[43m)\u001B[49m\n",
      "\u001B[1;31mTypeError\u001B[0m: test_all_classifiers() got an unexpected keyword argument 'noise_per_channel'"
     ]
    }
   ],
   "source": [
    "X_train_psd, X_test_psd, y_train_psd, y_test_psd = train_test_split(psd_X, limited_y, test_size=0.25, random_state=42, stratify=limited_y)\n",
    "\n",
    "print('NO NOISE')\n",
    "test_all_classifiers(X_train_psd, X_test_psd, y_train_psd, y_test_psd)\n",
    "\n",
    "print(\"\\n============================\\n\")\n",
    "print('NOISE')\n",
    "test_all_classifiers(X_train_psd, X_test_psd, y_train_psd, y_test_psd, noise_per_channel=True)"
   ],
   "metadata": {
    "collapsed": false,
    "pycharm": {
     "name": "#%%\n"
    }
   }
  },
  {
   "cell_type": "code",
   "execution_count": 100,
   "outputs": [
    {
     "name": "stderr",
     "output_type": "stream",
     "text": [
      "C:\\Users\\konsz\\AppData\\Local\\Programs\\Python\\Python310\\lib\\site-packages\\sklearn\\linear_model\\_logistic.py:814: ConvergenceWarning: lbfgs failed to converge (status=1):\n",
      "STOP: TOTAL NO. of ITERATIONS REACHED LIMIT.\n",
      "\n",
      "Increase the number of iterations (max_iter) or scale the data as shown in:\n",
      "    https://scikit-learn.org/stable/modules/preprocessing.html\n",
      "Please also refer to the documentation for alternative solver options:\n",
      "    https://scikit-learn.org/stable/modules/linear_model.html#logistic-regression\n",
      "  n_iter_i = _check_optimize_result(\n"
     ]
    },
    {
     "name": "stdout",
     "output_type": "stream",
     "text": [
      "Logistic Regression accuracy: 0.47\n",
      "SVC accuracy: 0.53\n",
      "Random Forest accuracy: 0.47\n",
      "K-Nearest Neighbors accuracy: 0.46\n"
     ]
    },
    {
     "data": {
      "text/plain": "(0.4666666666666667, 0.5333333333333333, 0.47333333333333333, 0.46)"
     },
     "execution_count": 100,
     "metadata": {},
     "output_type": "execute_result"
    }
   ],
   "source": [
    "test_all_classifiers(X_train_psd, X_test_psd, y_train_psd, y_test_psd, augmentation=True)"
   ],
   "metadata": {
    "collapsed": false,
    "pycharm": {
     "name": "#%%\n"
    }
   }
  },
  {
   "cell_type": "code",
   "execution_count": null,
   "outputs": [],
   "source": [
    "psd_X = np.concatenate([np.real(psd), np.imag(psd), X], axis=1)\n",
    "\n",
    "test_all_classifiers(psd_X, y, noise_per_channel=True)"
   ],
   "metadata": {
    "collapsed": false,
    "pycharm": {
     "name": "#%%\n"
    }
   }
  },
  {
   "cell_type": "code",
   "execution_count": null,
   "outputs": [],
   "source": [
    "import matplotlib.pyplot as plt\n",
    "import numpy as np\n",
    "\n",
    "# Power Spectral Density\n",
    "freqs, psd = scipy.signal.welch(X, fs=raw.info['sfreq'], nperseg=180, noverlap=90, axis=1)\n",
    "\n",
    "# Average PSD across all time series\n",
    "mean_psd = np.mean(psd, axis=0)\n",
    "\n",
    "plt.figure(figsize=(10, 6))\n",
    "plt.semilogy(freqs, mean_psd)\n",
    "plt.title('Power Spectral Density (PSD)')\n",
    "plt.xlabel('Frequency')\n",
    "plt.ylabel('Power')\n",
    "plt.grid()\n",
    "plt.show()"
   ],
   "metadata": {
    "collapsed": false,
    "pycharm": {
     "name": "#%%\n"
    }
   }
  },
  {
   "cell_type": "markdown",
   "source": [
    "### Test different times"
   ],
   "metadata": {
    "collapsed": false,
    "pycharm": {
     "name": "#%% md\n"
    }
   }
  },
  {
   "cell_type": "code",
   "execution_count": null,
   "outputs": [],
   "source": [
    "def load_data(tmin=-0.2,tmax=0.5):\n",
    "    folder_path = 'data'\n",
    "    file_names = [f for f in os.listdir(folder_path) if f.endswith('.bdf')]\n",
    "\n",
    "    X_all = []\n",
    "    y_all = []\n",
    "    durations = []\n",
    "    for file_name in file_names:\n",
    "        file_path = os.path.join(folder_path, file_name)\n",
    "        raw = mne.io.read_raw_bdf(file_path, preload=True)\n",
    "\n",
    "        events = mne.find_events(raw, shortest_event=1)\n",
    "\n",
    "        event_id = {'awe': 9, \n",
    "                    'frustration': 10,\n",
    "                    'joy': 11,\n",
    "                    'anger': 12,\n",
    "                    'happy': 13,\n",
    "                    'sad': 14,\n",
    "                    'love': 15,\n",
    "                    'fear': 16,\n",
    "                    'compassion': 17,\n",
    "                    'jealousy': 18,\n",
    "                    'content': 19,\n",
    "                    'grief': 20,\n",
    "                    'relief': 21,\n",
    "                    'excite': 22,\n",
    "                    'disgust': 23,\n",
    "                    'none': 0  # added this line to include non-events\n",
    "                    }\n",
    "\n",
    "        avg_duration = np.mean(np.diff(events[:, 0]))\n",
    "\n",
    "        none_events = []\n",
    "        none_count = 0  # counter for 'none' events\n",
    "        for i in range(1, len(events)):\n",
    "            gap = events[i][0] - events[i-1][0]\n",
    "            if gap > avg_duration * 2:  # only add \"none\" event if gap is longer than twice the average duration\n",
    "                none_start = events[i-1][0] + gap // 2  # start \"none\" event in the middle of the gap\n",
    "                none_events.append([none_start, 0, event_id['none']])\n",
    "                none_count += 1\n",
    "                if none_count >= 1:  # limit to 2 'none' events per file\n",
    "                    break\n",
    "\n",
    "        events = np.vstack((events, none_events))\n",
    "        events = events[events[:, 0].argsort()]  # sort events by time\n",
    "\n",
    "        existing_event_ids = set(events[:, 2])\n",
    "        filtered_event_id = {k: v for k, v in event_id.items() if v in existing_event_ids}\n",
    "\n",
    "        epochs = mne.Epochs(raw, events, filtered_event_id, tmin=tmin, tmax=tmax, baseline=None)\n",
    "\n",
    "        X = epochs.get_data()\n",
    "        y = epochs.events[:, -1]\n",
    "        print('File', file_name, 'shape: ', X.shape, y.shape)\n",
    "        X_all.append(X)\n",
    "        y_all.append(y)\n",
    "\n",
    "\n",
    "    X = np.concatenate(X_all)\n",
    "    y = np.concatenate(y_all)\n",
    "    return X, y\n"
   ],
   "metadata": {
    "collapsed": false,
    "pycharm": {
     "name": "#%%\n"
    }
   }
  },
  {
   "cell_type": "code",
   "execution_count": null,
   "outputs": [],
   "source": [
    "# tmins = [-3,-1,-0.2]\n",
    "# tmaxs = [0.5, 2, 4]\n",
    "\n",
    "# stats = []\n",
    "\n",
    "# for tmin in tmins:\n",
    "#     for tmax in tmaxs:\n",
    "#         X, y = load_data(tmin, tmax)\n",
    "#         X, y = data_extension(X, y, 5)\n",
    "#         X_train, X_test, y_train, y_test = train_test_split(X, y, test_size=0.25, random_state=42, stratify=y)\n",
    "#         log_accuracy, svc_accuracy, rand_accuracy, knn_accuracy = test_all_classifiers(X_train, X_test, y_train, y_test)\n",
    "#         stats.append([tmin, tmax, log_accuracy, svc_accuracy, rand_accuracy, knn_accuracy])\n",
    "#         print('===================================')\n",
    "#         print([tmin, tmax, log_accuracy, svc_accuracy, rand_accuracy, knn_accuracy])"
   ],
   "metadata": {
    "collapsed": false,
    "pycharm": {
     "name": "#%%\n"
    }
   }
  },
  {
   "cell_type": "code",
   "execution_count": null,
   "outputs": [],
   "source": [
    "tmin, tmax = -3, 0.5\n",
    "X, y = load_data(tmin, tmax)\n",
    "X, y = data_extension(X, y, 5)\n",
    "X_train, X_test, y_train, y_test = train_test_split(X, y, test_size=0.25, random_state=42, stratify=y)\n",
    "log_accuracy, svc_accuracy, rand_accuracy, knn_accuracy = test_all_classifiers(X_train, X_test, y_train, y_test)"
   ],
   "metadata": {
    "collapsed": false,
    "pycharm": {
     "name": "#%%\n"
    }
   }
  },
  {
   "cell_type": "code",
   "execution_count": null,
   "outputs": [],
   "source": [
    "print([tmin, tmax, log_accuracy, svc_accuracy, rand_accuracy, knn_accuracy])"
   ],
   "metadata": {
    "collapsed": false,
    "pycharm": {
     "name": "#%%\n"
    }
   }
  },
  {
   "cell_type": "code",
   "execution_count": null,
   "outputs": [],
   "source": [
    "tmin, tmax = -3, 2\n",
    "X, y = load_data(tmin, tmax)\n",
    "X, y = data_extension(X, y, 5)\n",
    "X_train, X_test, y_train, y_test = train_test_split(X, y, test_size=0.25, random_state=42, stratify=y)\n",
    "log_accuracy, svc_accuracy, rand_accuracy, knn_accuracy = test_all_classifiers(X_train, X_test, y_train, y_test)"
   ],
   "metadata": {
    "collapsed": false,
    "pycharm": {
     "name": "#%%\n"
    }
   }
  },
  {
   "cell_type": "code",
   "execution_count": null,
   "outputs": [],
   "source": [
    "print([tmin, tmax, log_accuracy, svc_accuracy, rand_accuracy, knn_accuracy])"
   ],
   "metadata": {
    "collapsed": false,
    "pycharm": {
     "name": "#%%\n"
    }
   }
  },
  {
   "cell_type": "code",
   "execution_count": null,
   "outputs": [],
   "source": [
    "tmin, tmax = -3, 4\n",
    "X, y = load_data(tmin, tmax)\n",
    "X, y = data_extension(X, y, 5)\n",
    "X_train, X_test, y_train, y_test = train_test_split(X, y, test_size=0.25, random_state=42, stratify=y)\n",
    "log_accuracy, svc_accuracy, rand_accuracy, knn_accuracy = test_all_classifiers(X_train, X_test, y_train, y_test)"
   ],
   "metadata": {
    "collapsed": false,
    "pycharm": {
     "name": "#%%\n"
    }
   }
  },
  {
   "cell_type": "code",
   "execution_count": null,
   "outputs": [],
   "source": [
    "print([tmin, tmax, log_accuracy, svc_accuracy, rand_accuracy, knn_accuracy])"
   ],
   "metadata": {
    "collapsed": false,
    "pycharm": {
     "name": "#%%\n"
    }
   }
  },
  {
   "cell_type": "code",
   "execution_count": null,
   "outputs": [],
   "source": [
    "tmin, tmax = -1, 0.5\n",
    "X, y = load_data(tmin, tmax)\n",
    "X, y = data_extension(X, y, 5)\n",
    "X_train, X_test, y_train, y_test = train_test_split(X, y, test_size=0.25, random_state=42, stratify=y)\n",
    "log_accuracy, svc_accuracy, rand_accuracy, knn_accuracy = test_all_classifiers(X_train, X_test, y_train, y_test)"
   ],
   "metadata": {
    "collapsed": false,
    "pycharm": {
     "name": "#%%\n"
    }
   }
  },
  {
   "cell_type": "code",
   "execution_count": null,
   "outputs": [],
   "source": [
    "print([tmin, tmax, log_accuracy, svc_accuracy, rand_accuracy, knn_accuracy])"
   ],
   "metadata": {
    "collapsed": false,
    "pycharm": {
     "name": "#%%\n"
    }
   }
  },
  {
   "cell_type": "code",
   "execution_count": null,
   "outputs": [],
   "source": [
    "tmin, tmax = -1, 2\n",
    "X, y = load_data(tmin, tmax)\n",
    "X, y = data_extension(X, y, 5)\n",
    "X_train, X_test, y_train, y_test = train_test_split(X, y, test_size=0.25, random_state=42, stratify=y)\n",
    "log_accuracy, svc_accuracy, rand_accuracy, knn_accuracy = test_all_classifiers(X_train, X_test, y_train, y_test)"
   ],
   "metadata": {
    "collapsed": false,
    "pycharm": {
     "name": "#%%\n"
    }
   }
  },
  {
   "cell_type": "code",
   "execution_count": null,
   "outputs": [],
   "source": [
    "print([tmin, tmax, log_accuracy, svc_accuracy, rand_accuracy, knn_accuracy])"
   ],
   "metadata": {
    "collapsed": false,
    "pycharm": {
     "name": "#%%\n"
    }
   }
  },
  {
   "cell_type": "code",
   "execution_count": null,
   "outputs": [],
   "source": [
    "tmin, tmax = -1, 4\n",
    "X, y = load_data(tmin, tmax)\n",
    "X, y = data_extension(X, y, 5)\n",
    "X_train, X_test, y_train, y_test = train_test_split(X, y, test_size=0.25, random_state=42, stratify=y)\n",
    "log_accuracy, svc_accuracy, rand_accuracy, knn_accuracy = test_all_classifiers(X_train, X_test, y_train, y_test)"
   ],
   "metadata": {
    "collapsed": false,
    "pycharm": {
     "name": "#%%\n"
    }
   }
  },
  {
   "cell_type": "code",
   "execution_count": null,
   "outputs": [],
   "source": [
    "print([tmin, tmax, log_accuracy, svc_accuracy, rand_accuracy, knn_accuracy])"
   ],
   "metadata": {
    "collapsed": false,
    "pycharm": {
     "name": "#%%\n"
    }
   }
  },
  {
   "cell_type": "code",
   "execution_count": null,
   "outputs": [],
   "source": [
    "tmin, tmax = -0.2, 0.5\n",
    "X, y = load_data(tmin, tmax)\n",
    "X, y = data_extension(X, y, 5)\n",
    "X_train, X_test, y_train, y_test = train_test_split(X, y, test_size=0.25, random_state=42, stratify=y)\n",
    "log_accuracy, svc_accuracy, rand_accuracy, knn_accuracy = test_all_classifiers(X_train, X_test, y_train, y_test)"
   ],
   "metadata": {
    "collapsed": false,
    "pycharm": {
     "name": "#%%\n"
    }
   }
  },
  {
   "cell_type": "code",
   "execution_count": null,
   "outputs": [],
   "source": [
    "print([tmin, tmax, log_accuracy, svc_accuracy, rand_accuracy, knn_accuracy])"
   ],
   "metadata": {
    "collapsed": false,
    "pycharm": {
     "name": "#%%\n"
    }
   }
  },
  {
   "cell_type": "code",
   "execution_count": null,
   "outputs": [],
   "source": [
    "tmin, tmax = -0.2, 2\n",
    "X, y = load_data(tmin, tmax)\n",
    "X, y = data_extension(X, y, 5)\n",
    "X_train, X_test, y_train, y_test = train_test_split(X, y, test_size=0.25, random_state=42, stratify=y)\n",
    "log_accuracy, svc_accuracy, rand_accuracy, knn_accuracy = test_all_classifiers(X_train, X_test, y_train, y_test)"
   ],
   "metadata": {
    "collapsed": false,
    "pycharm": {
     "name": "#%%\n"
    }
   }
  },
  {
   "cell_type": "code",
   "execution_count": null,
   "outputs": [],
   "source": [
    "print([tmin, tmax, log_accuracy, svc_accuracy, rand_accuracy, knn_accuracy])"
   ],
   "metadata": {
    "collapsed": false,
    "pycharm": {
     "name": "#%%\n"
    }
   }
  },
  {
   "cell_type": "code",
   "execution_count": null,
   "outputs": [],
   "source": [
    "tmin, tmax = -0.2, 4\n",
    "X, y = load_data(tmin, tmax)\n",
    "X, y = data_extension(X, y, 5)\n",
    "X_train, X_test, y_train, y_test = train_test_split(X, y, test_size=0.25, random_state=42, stratify=y)\n",
    "log_accuracy, svc_accuracy, rand_accuracy, knn_accuracy = test_all_classifiers(X_train, X_test, y_train, y_test)"
   ],
   "metadata": {
    "collapsed": false,
    "pycharm": {
     "name": "#%%\n"
    }
   }
  },
  {
   "cell_type": "code",
   "execution_count": null,
   "outputs": [],
   "source": [
    "print([tmin, tmax, log_accuracy, svc_accuracy, rand_accuracy, knn_accuracy])"
   ],
   "metadata": {
    "collapsed": false,
    "pycharm": {
     "name": "#%%\n"
    }
   }
  },
  {
   "cell_type": "code",
   "execution_count": null,
   "outputs": [],
   "source": [],
   "metadata": {
    "collapsed": false,
    "pycharm": {
     "name": "#%%\n"
    }
   }
  },
  {
   "cell_type": "code",
   "execution_count": null,
   "metadata": {
    "pycharm": {
     "name": "#%%\n"
    }
   },
   "outputs": [],
   "source": [
    "tmin, tmax = -3, 2\n",
    "X, y = load_data(tmin, tmax)\n",
    "X, y = data_extension(X, y, 5)\n",
    "X_train, X_test, y_train, y_test = train_test_split(X, y, test_size=0.25, random_state=42, stratify=y)\n",
    "log_accuracy, svc_accuracy, rand_accuracy, knn_accuracy = test_all_classifiers(X_train, X_test, y_train, y_test)"
   ]
  },
  {
   "cell_type": "code",
   "execution_count": 10,
   "metadata": {
    "pycharm": {
     "name": "#%%\n"
    }
   },
   "outputs": [
    {
     "name": "stdout",
     "output_type": "stream",
     "text": [
      "[-3, 2, 0.38030560271646857, 0.06281833616298811, 0.99830220713073, 0.7707979626485568]\n"
     ]
    }
   ],
   "source": [
    "print([tmin, tmax, log_accuracy, svc_accuracy, rand_accuracy, knn_accuracy])"
   ]
  },
  {
   "cell_type": "code",
   "execution_count": null,
   "metadata": {
    "pycharm": {
     "name": "#%%\n"
    }
   },
   "outputs": [],
   "source": [
    "tmin, tmax = -3, 4\n",
    "X, y = load_data(tmin, tmax)\n",
    "X, y = data_extension(X, y, 5)\n",
    "X_train, X_test, y_train, y_test = train_test_split(X, y, test_size=0.25, random_state=42, stratify=y)\n",
    "log_accuracy, svc_accuracy, rand_accuracy, knn_accuracy = test_all_classifiers(X_train, X_test, y_train, y_test)"
   ]
  },
  {
   "cell_type": "code",
   "execution_count": 7,
   "metadata": {
    "pycharm": {
     "name": "#%%\n"
    }
   },
   "outputs": [
    {
     "name": "stdout",
     "output_type": "stream",
     "text": [
      "[-3, 4, 0.27164685908319186, 0.057724957555178265, 1.0, 0.6451612903225806]\n"
     ]
    }
   ],
   "source": [
    "print([tmin, tmax, log_accuracy, svc_accuracy, rand_accuracy, knn_accuracy])"
   ]
  },
  {
   "cell_type": "code",
   "execution_count": null,
   "metadata": {
    "pycharm": {
     "name": "#%%\n"
    }
   },
   "outputs": [],
   "source": [
    "tmin, tmax = -1, 0.5\n",
    "X, y = load_data(tmin, tmax)\n",
    "X, y = data_extension(X, y, 5)\n",
    "X_train, X_test, y_train, y_test = train_test_split(X, y, test_size=0.25, random_state=42, stratify=y)\n",
    "log_accuracy, svc_accuracy, rand_accuracy, knn_accuracy = test_all_classifiers(X_train, X_test, y_train, y_test)"
   ]
  },
  {
   "cell_type": "code",
   "execution_count": 7,
   "metadata": {
    "pycharm": {
     "name": "#%%\n"
    }
   },
   "outputs": [
    {
     "name": "stdout",
     "output_type": "stream",
     "text": [
      "[-1, 0.5, 0.2546689303904924, 0.06281833616298811, 0.99830220713073, 0.5415959252971138]\n"
     ]
    }
   ],
   "source": [
    "print([tmin, tmax, log_accuracy, svc_accuracy, rand_accuracy, knn_accuracy])"
   ]
  },
  {
   "cell_type": "code",
   "execution_count": null,
   "metadata": {
    "pycharm": {
     "name": "#%%\n"
    }
   },
   "outputs": [],
   "source": [
    "tmin, tmax = -1, 2\n",
    "X, y = load_data(tmin, tmax)\n",
    "X, y = data_extension(X, y, 5)\n",
    "X_train, X_test, y_train, y_test = train_test_split(X, y, test_size=0.25, random_state=42, stratify=y)\n",
    "log_accuracy, svc_accuracy, rand_accuracy, knn_accuracy = test_all_classifiers(X_train, X_test, y_train, y_test)"
   ]
  },
  {
   "cell_type": "code",
   "execution_count": 9,
   "metadata": {
    "pycharm": {
     "name": "#%%\n"
    }
   },
   "outputs": [
    {
     "name": "stdout",
     "output_type": "stream",
     "text": [
      "[-1, 2, 0.26485568760611206, 0.06281833616298811, 1.0, 0.5704584040747029]\n"
     ]
    }
   ],
   "source": [
    "print([tmin, tmax, log_accuracy, svc_accuracy, rand_accuracy, knn_accuracy])"
   ]
  },
  {
   "cell_type": "code",
   "execution_count": null,
   "metadata": {
    "pycharm": {
     "name": "#%%\n"
    }
   },
   "outputs": [],
   "source": [
    "tmin, tmax = -1, 4\n",
    "X, y = load_data(tmin, tmax)\n",
    "X, y = data_extension(X, y, 5)\n",
    "X_train, X_test, y_train, y_test = train_test_split(X, y, test_size=0.25, random_state=42, stratify=y)\n",
    "log_accuracy, svc_accuracy, rand_accuracy, knn_accuracy = test_all_classifiers(X_train, X_test, y_train, y_test)"
   ]
  },
  {
   "cell_type": "code",
   "execution_count": 11,
   "metadata": {
    "pycharm": {
     "name": "#%%\n"
    }
   },
   "outputs": [
    {
     "name": "stdout",
     "output_type": "stream",
     "text": [
      "[-1, 4, 0.34974533106960953, 0.06791171477079797, 1.0, 0.7555178268251274]\n"
     ]
    }
   ],
   "source": [
    "print([tmin, tmax, log_accuracy, svc_accuracy, rand_accuracy, knn_accuracy])"
   ]
  },
  {
   "cell_type": "code",
   "execution_count": null,
   "metadata": {
    "pycharm": {
     "name": "#%%\n"
    }
   },
   "outputs": [],
   "source": [
    "tmin, tmax = -0.2, 0.5\n",
    "X, y = load_data(tmin, tmax)\n",
    "X, y = data_extension(X, y, 5)\n",
    "X_train, X_test, y_train, y_test = train_test_split(X, y, test_size=0.25, random_state=42, stratify=y)\n",
    "log_accuracy, svc_accuracy, rand_accuracy, knn_accuracy = test_all_classifiers(X_train, X_test, y_train, y_test)"
   ]
  },
  {
   "cell_type": "code",
   "execution_count": 13,
   "metadata": {
    "pycharm": {
     "name": "#%%\n"
    }
   },
   "outputs": [
    {
     "name": "stdout",
     "output_type": "stream",
     "text": [
      "[-0.2, 0.5, 0.25127334465195245, 0.06112054329371817, 1.0, 0.46519524617996605]\n"
     ]
    }
   ],
   "source": [
    "print([tmin, tmax, log_accuracy, svc_accuracy, rand_accuracy, knn_accuracy])"
   ]
  },
  {
   "cell_type": "code",
   "execution_count": null,
   "metadata": {
    "pycharm": {
     "name": "#%%\n"
    }
   },
   "outputs": [],
   "source": [
    "tmin, tmax = -0.2, 2\n",
    "X, y = load_data(tmin, tmax)\n",
    "X, y = data_extension(X, y, 5)\n",
    "X_train, X_test, y_train, y_test = train_test_split(X, y, test_size=0.25, random_state=42, stratify=y)\n",
    "log_accuracy, svc_accuracy, rand_accuracy, knn_accuracy = test_all_classifiers(X_train, X_test, y_train, y_test)"
   ]
  },
  {
   "cell_type": "code",
   "execution_count": 15,
   "metadata": {
    "pycharm": {
     "name": "#%%\n"
    }
   },
   "outputs": [
    {
     "name": "stdout",
     "output_type": "stream",
     "text": [
      "[-0.2, 2, 0.2631578947368421, 0.06112054329371817, 1.0, 0.5534804753820034]\n"
     ]
    }
   ],
   "source": [
    "print([tmin, tmax, log_accuracy, svc_accuracy, rand_accuracy, knn_accuracy])"
   ]
  },
  {
   "cell_type": "code",
   "execution_count": null,
   "metadata": {
    "pycharm": {
     "name": "#%%\n"
    }
   },
   "outputs": [],
   "source": [
    "tmin, tmax = -0.2, 4\n",
    "X, y = load_data(tmin, tmax)\n",
    "X, y = data_extension(X, y, 5)\n",
    "X_train, X_test, y_train, y_test = train_test_split(X, y, test_size=0.25, random_state=42, stratify=y)\n",
    "log_accuracy, svc_accuracy, rand_accuracy, knn_accuracy = test_all_classifiers(X_train, X_test, y_train, y_test)"
   ]
  },
  {
   "cell_type": "code",
   "execution_count": 17,
   "metadata": {
    "pycharm": {
     "name": "#%%\n"
    }
   },
   "outputs": [
    {
     "name": "stdout",
     "output_type": "stream",
     "text": [
      "[-0.2, 4, 0.2597623089983022, 0.06451612903225806, 1.0, 0.601018675721562]\n"
     ]
    }
   ],
   "source": [
    "print([tmin, tmax, log_accuracy, svc_accuracy, rand_accuracy, knn_accuracy])"
   ]
  },
  {
   "cell_type": "code",
   "execution_count": null,
   "metadata": {
    "pycharm": {
     "name": "#%%\n"
    }
   },
   "outputs": [],
   "source": []
  }
 ],
 "metadata": {
  "kernelspec": {
   "display_name": "Python 3 (ipykernel)",
   "language": "python",
   "name": "python3"
  },
  "language_info": {
   "codemirror_mode": {
    "name": "ipython",
    "version": 3
   },
   "file_extension": ".py",
   "mimetype": "text/x-python",
   "name": "python",
   "nbconvert_exporter": "python",
   "pygments_lexer": "ipython3",
   "version": "3.10.6"
  }
 },
 "nbformat": 4,
 "nbformat_minor": 1
}
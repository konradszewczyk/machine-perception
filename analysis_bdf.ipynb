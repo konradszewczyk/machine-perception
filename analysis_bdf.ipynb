{
 "cells": [
  {
   "cell_type": "code",
   "execution_count": 73,
   "metadata": {},
   "outputs": [
    {
     "name": "stdout",
     "output_type": "stream",
     "text": [
      "Extracting EDF parameters from c:\\Users\\hubra\\Documents\\machine-perception\\data\\eeg_recording_1.bdf...\n",
      "BDF file detected\n",
      "Setting channel info structure...\n",
      "Creating raw.info structure...\n",
      "<Info | 7 non-empty values\n",
      " bads: []\n",
      " ch_names: 1A1, 1A2, 1A3, 1A4, 1A5, 1A6, 1A7, 1A8, 1A9, 1A10, 1A11, 1A12, ...\n",
      " chs: 264 EEG, 1 Stimulus\n",
      " custom_ref_applied: False\n",
      " highpass: 0.0 Hz\n",
      " lowpass: 67.0 Hz\n",
      " meas_date: 2004-05-12 11:59:54 UTC\n",
      " nchan: 265\n",
      " projs: []\n",
      " sfreq: 256.0 Hz\n",
      ">\n",
      "Number of channels: 265\n",
      "Sampling rate: 256.0 Hz\n",
      "Duration: 4513.0 seconds\n"
     ]
    }
   ],
   "source": [
    "import mne\n",
    "\n",
    "raw = mne.io.read_raw_bdf('data/eeg_recording_1.bdf')\n",
    "\n",
    "print(raw.info)\n",
    "\n",
    "print('Number of channels:', len(raw.ch_names))\n",
    "print('Sampling rate:', raw.info['sfreq'], 'Hz')\n",
    "print('Duration:', raw.n_times / raw.info['sfreq'], 'seconds')\n"
   ]
  },
  {
   "cell_type": "code",
   "execution_count": 74,
   "metadata": {},
   "outputs": [
    {
     "name": "stdout",
     "output_type": "stream",
     "text": [
      "Extracting EDF parameters from c:\\Users\\hubra\\Documents\\machine-perception\\data\\eeg_recording_1.bdf...\n",
      "BDF file detected\n",
      "Setting channel info structure...\n",
      "Creating raw.info structure...\n",
      "Trigger channel has a non-zero initial value of 65536 (consider using initial_event=True to detect this event)\n",
      "Removing orphaned offset at the beginning of the file.\n",
      "86 events found\n",
      "Event IDs: [  1   2   4   5   6   7   8   9  10  11  12  13  14  15  16  17  18  19\n",
      "  21  22  23  24  25  26  30 100]\n",
      "Not setting metadata\n",
      "86 matching events found\n",
      "No baseline correction applied\n",
      "0 projection items activated\n",
      "Loading data for 86 events and 180 original time points ...\n",
      "0 bad epochs dropped\n",
      "Accuracy: 0.5769230769230769\n"
     ]
    }
   ],
   "source": [
    "import mne\n",
    "from sklearn.model_selection import train_test_split\n",
    "from sklearn.svm import SVC\n",
    "\n",
    "raw = mne.io.read_raw_bdf('data/eeg_recording_1.bdf')\n",
    "\n",
    "events = mne.find_events(raw)\n",
    "event_id = {'a': 1, 'b': 2, 'c': 4, 'd': 5, 'e': 6, 'f': 7, 'g': 8, 'h': 9, 'i': 10, 'j': 11, 'k': 12, 'l': 13, 'm': 14, 'n': 15, 'o': 16, 'p': 17, 'q': 18, 'r': 19, 's': 21, 't': 22, 'u': 23, 'v': 24, 'w': 25, 'x': 26, 'y': 30, 'z': 100}\n",
    "epochs = mne.Epochs(raw, events, event_id, tmin=-0.2, tmax=0.5, baseline=None)\n",
    "\n",
    "X = epochs.get_data()\n",
    "y = epochs.events[:, -1]\n",
    "\n",
    "X_train, X_test, y_train, y_test = train_test_split(X, y, test_size=0.3)\n",
    "\n",
    "clf = SVC(kernel='linear')\n",
    "clf.fit(X_train.reshape(len(X_train), -1), y_train)\n",
    "\n",
    "accuracy = clf.score(X_test.reshape(len(X_test), -1), y_test)\n",
    "print('Accuracy:', accuracy)"
   ]
  },
  {
   "cell_type": "code",
   "execution_count": null,
   "metadata": {},
   "outputs": [],
   "source": []
  }
 ],
 "metadata": {
  "kernelspec": {
   "display_name": "Python 3",
   "language": "python",
   "name": "python3"
  },
  "language_info": {
   "codemirror_mode": {
    "name": "ipython",
    "version": 3
   },
   "file_extension": ".py",
   "mimetype": "text/x-python",
   "name": "python",
   "nbconvert_exporter": "python",
   "pygments_lexer": "ipython3",
   "version": "3.10.11"
  }
 },
 "nbformat": 4,
 "nbformat_minor": 0
}

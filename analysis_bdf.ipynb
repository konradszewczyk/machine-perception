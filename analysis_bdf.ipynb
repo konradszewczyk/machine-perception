{
 "cells": [
  {
   "cell_type": "code",
   "execution_count": 28,
   "metadata": {},
   "outputs": [],
   "source": [
    "import mne\n",
    "import numpy as np\n",
    "from sklearn.model_selection import train_test_split\n",
    "from sklearn.preprocessing import StandardScaler\n",
    "from sklearn.pipeline import make_pipeline\n",
    "from sklearn.linear_model import LogisticRegression\n",
    "from sklearn.metrics import accuracy_score\n",
    "from scipy.fft import fft\n",
    "import os\n",
    "import mne\n",
    "import matplotlib.pyplot as plt\n",
    "import numpy as np\n",
    "from sklearn.svm import SVC\n",
    "from sklearn.ensemble import RandomForestClassifier\n",
    "from sklearn.ensemble import GradientBoostingClassifier\n",
    "from sklearn.neighbors import KNeighborsClassifier"
   ]
  },
  {
   "cell_type": "code",
   "execution_count": 2,
   "metadata": {},
   "outputs": [],
   "source": [
    "# Define a function to compute the power spectral density (PSD)\n",
    "def compute_psd(epochs, freq_bands, sfreq):\n",
    "    psd_list = []\n",
    "\n",
    "    for epoch in epochs:\n",
    "        psd = np.abs(fft(epoch))**2\n",
    "        psd_freqs = np.fft.fftfreq(epoch.shape[-1], 1 / sfreq)\n",
    "        \n",
    "        band_powers = []\n",
    "        for band in freq_bands:\n",
    "            idx = np.logical_and(psd_freqs >= band[0], psd_freqs <= band[1])\n",
    "            band_power = np.sum(psd[:, idx], axis=-1)\n",
    "            band_powers.append(band_power)\n",
    "            \n",
    "        psd_list.append(np.array(band_powers))\n",
    "\n",
    "    return np.array(psd_list)\n",
    "\n",
    "# Define the frequency bands of interest\n",
    "freq_bands = {\n",
    "    'delta': (0.5, 4),\n",
    "    'theta': (4, 8),\n",
    "    'alpha': (8, 13),\n",
    "    'beta': (13, 30),\n",
    "    'gamma': (30, 45),\n",
    "}"
   ]
  },
  {
   "cell_type": "code",
   "execution_count": 3,
   "metadata": {},
   "outputs": [
    {
     "name": "stdout",
     "output_type": "stream",
     "text": [
      "Extracting EDF parameters from /mnt/c/Users/hubra/Documents/machine-perception/data/eeg_recording_1.bdf...\n",
      "BDF file detected\n",
      "Setting channel info structure...\n",
      "Creating raw.info structure...\n",
      "Reading 0 ... 1155327  =      0.000 ...  4512.996 secs...\n",
      "Trigger channel has a non-zero initial value of 65536 (consider using initial_event=True to detect this event)\n",
      "Removing orphaned offset at the beginning of the file.\n",
      "86 events found\n",
      "Event IDs: [  1   2   4   5   6   7   8   9  10  11  12  13  14  15  16  17  18  19\n",
      "  21  22  23  24  25  26  30 100]\n",
      "Not setting metadata\n",
      "15 matching events found\n",
      "No baseline correction applied\n",
      "0 projection items activated\n",
      "Using data from preloaded Raw for 15 events and 180 original time points ...\n",
      "0 bad epochs dropped\n",
      "File eeg_recording_1.bdf shape:  (15, 265, 180) (15,)\n",
      "Extracting EDF parameters from /mnt/c/Users/hubra/Documents/machine-perception/data/eeg_recording_2.bdf...\n",
      "BDF file detected\n",
      "Setting channel info structure...\n",
      "Creating raw.info structure...\n",
      "Reading 0 ... 1407231  =      0.000 ...  5496.996 secs...\n",
      "Trigger channel has a non-zero initial value of 65540 (consider using initial_event=True to detect this event)\n",
      "86 events found\n",
      "Event IDs: [  2   4   5   6   7   8   9  10  11  12  13  14  15  16  17  18  19  21\n",
      "  22  23  24  25  26  30 100]\n",
      "Not setting metadata\n",
      "15 matching events found\n",
      "No baseline correction applied\n",
      "0 projection items activated\n",
      "Using data from preloaded Raw for 15 events and 180 original time points ...\n",
      "0 bad epochs dropped\n",
      "File eeg_recording_2.bdf shape:  (15, 265, 180) (15,)\n",
      "Extracting EDF parameters from /mnt/c/Users/hubra/Documents/machine-perception/data/eeg_recording_3.bdf...\n",
      "BDF file detected\n",
      "Setting channel info structure...\n",
      "Creating raw.info structure...\n",
      "Reading 0 ... 1268479  =      0.000 ...  4954.996 secs...\n",
      "Trigger channel has a non-zero initial value of 65536 (consider using initial_event=True to detect this event)\n",
      "Removing orphaned offset at the beginning of the file.\n",
      "54 events found\n",
      "Event IDs: [ 1  2  3  5  6  7  8  9 10 11 12 13 14 15 16 17 18 19 20 21 22 23 24 25\n",
      " 26 30]\n",
      "Not setting metadata\n",
      "15 matching events found\n",
      "No baseline correction applied\n",
      "0 projection items activated\n",
      "Using data from preloaded Raw for 15 events and 180 original time points ...\n",
      "0 bad epochs dropped\n",
      "File eeg_recording_3.bdf shape:  (15, 265, 180) (15,)\n",
      "Extracting EDF parameters from /mnt/c/Users/hubra/Documents/machine-perception/data/eeg_recording_4.bdf...\n",
      "BDF file detected\n",
      "Setting channel info structure...\n",
      "Creating raw.info structure...\n",
      "Reading 0 ... 1044223  =      0.000 ...  4078.996 secs...\n",
      "Trigger channel has a non-zero initial value of 65536 (consider using initial_event=True to detect this event)\n",
      "Removing orphaned offset at the beginning of the file.\n",
      "55 events found\n",
      "Event IDs: [ 1  2  3  5  6  7  8  9 10 11 12 13 14 15 16 17 18 19 20 21 22 23 24 25\n",
      " 26 30]\n",
      "Not setting metadata\n",
      "15 matching events found\n",
      "No baseline correction applied\n",
      "0 projection items activated\n",
      "Using data from preloaded Raw for 15 events and 180 original time points ...\n",
      "0 bad epochs dropped\n",
      "File eeg_recording_4.bdf shape:  (15, 265, 180) (15,)\n",
      "Extracting EDF parameters from /mnt/c/Users/hubra/Documents/machine-perception/data/eeg_recording_5.bdf...\n",
      "BDF file detected\n",
      "Setting channel info structure...\n",
      "Creating raw.info structure...\n",
      "Reading 0 ... 1391103  =      0.000 ...  5433.996 secs...\n",
      "Trigger channel has a non-zero initial value of 65536 (consider using initial_event=True to detect this event)\n",
      "Removing orphaned offset at the beginning of the file.\n",
      "55 events found\n",
      "Event IDs: [ 1  2  4  5  6  7  8  9 10 11 12 13 14 15 16 17 18 19 20 21 22 23 24 25\n",
      " 26 30]\n",
      "Not setting metadata\n",
      "15 matching events found\n",
      "No baseline correction applied\n",
      "0 projection items activated\n",
      "Using data from preloaded Raw for 15 events and 180 original time points ...\n",
      "0 bad epochs dropped\n",
      "File eeg_recording_5.bdf shape:  (15, 265, 180) (15,)\n",
      "Extracting EDF parameters from /mnt/c/Users/hubra/Documents/machine-perception/data/eeg_recording_6.bdf...\n",
      "BDF file detected\n",
      "Setting channel info structure...\n",
      "Creating raw.info structure...\n",
      "Reading 0 ... 1073151  =      0.000 ...  4191.996 secs...\n",
      "Trigger channel has a non-zero initial value of 65540 (consider using initial_event=True to detect this event)\n",
      "Removing orphaned offset at the beginning of the file.\n",
      "53 events found\n",
      "Event IDs: [    1     2     3     5     6     7     8     9    10    11    12    13\n",
      "    14    15    16    17    18    19    21    22    23    24    25    26\n",
      "    30 65536]\n",
      "Not setting metadata\n",
      "14 matching events found\n",
      "No baseline correction applied\n",
      "0 projection items activated\n",
      "Using data from preloaded Raw for 14 events and 180 original time points ...\n",
      "0 bad epochs dropped\n",
      "File eeg_recording_6.bdf shape:  (14, 265, 180) (14,)\n"
     ]
    }
   ],
   "source": [
    "# Load all .bdf files from the folder\n",
    "folder_path = 'data'\n",
    "file_names = [f for f in os.listdir(folder_path) if f.endswith('.bdf')]\n",
    "\n",
    "X_all = []\n",
    "X_psd_all = []\n",
    "y_all = []\n",
    "durations = []\n",
    "for file_name in file_names:\n",
    "    file_path = os.path.join(folder_path, file_name)\n",
    "    raw = mne.io.read_raw_bdf(file_path, preload=True)\n",
    "\n",
    "    events = mne.find_events(raw)\n",
    "    event_id = {'awe': 9, \n",
    "                'frustration': 10,\n",
    "                'joy': 11,\n",
    "                'anger': 12,\n",
    "                'happy': 13,\n",
    "                'sad': 14,\n",
    "                'love': 15,\n",
    "                'fear': 16,\n",
    "                'compassion': 17,\n",
    "                'jealousy': 18,\n",
    "                'content': 19,\n",
    "                'grief': 20,\n",
    "                'relief': 21,\n",
    "                'excite': 22,\n",
    "                'disgust': 23\n",
    "                }\n",
    "    # tymczasowo, bo niektóre pliki nie mają tego grief i wyrzuca error\n",
    "    event_id_no_grief = {'awe': 9, \n",
    "            'frustration': 10,\n",
    "            'joy': 11,\n",
    "            'anger': 12,\n",
    "            'happy': 13,\n",
    "            'sad': 14,\n",
    "            'love': 15,\n",
    "            'fear': 16,\n",
    "            'compassion': 17,\n",
    "            'jealousy': 18,\n",
    "            'content': 19,\n",
    "            # 'grief': 20,\n",
    "            'relief': 21,\n",
    "            'excite': 22,\n",
    "            'disgust': 23\n",
    "            }\n",
    "    try:\n",
    "        epochs = mne.Epochs(raw, events, event_id, tmin=-0.2, tmax=0.5, baseline=None)\n",
    "    except:\n",
    "        epochs = mne.Epochs(raw, events, event_id_no_grief, tmin=-0.2, tmax=0.5, baseline=None)\n",
    "\n",
    "    X = epochs.get_data()\n",
    "    X_psd = compute_psd(epochs, freq_bands.values(), epochs.info['sfreq'])\n",
    "    y = epochs.events[:, -1]\n",
    "    print('File', file_name, 'shape: ', X.shape, y.shape)\n",
    "    X_all.append(X)\n",
    "    X_psd_all.append(X_psd)\n",
    "    y_all.append(y)\n",
    "\n",
    "    # Calculate the duration of each event\n",
    "    for i in range(1, len(events)):\n",
    "        start_time_current_event = events[i - 1, 0]\n",
    "        start_time_next_event = events[i, 0]\n",
    "        duration = (start_time_next_event - start_time_current_event) / raw.info['sfreq']\n",
    "        event_id = events[i - 1, 2]\n",
    "        if event_id >= 9 and event_id <= 23:\n",
    "            durations.append((event_id, duration))\n",
    "\n",
    "X = np.concatenate(X_all)\n",
    "X_psd = np.concatenate(X_psd_all)\n",
    "y = np.concatenate(y_all)"
   ]
  },
  {
   "cell_type": "code",
   "execution_count": 4,
   "metadata": {},
   "outputs": [
    {
     "data": {
      "text/plain": [
       "((89, 265, 180), (89, 5, 265), (89,))"
      ]
     },
     "execution_count": 4,
     "metadata": {},
     "output_type": "execute_result"
    }
   ],
   "source": [
    "X.shape, X_psd.shape, y.shape"
   ]
  },
  {
   "cell_type": "code",
   "execution_count": 5,
   "metadata": {},
   "outputs": [
    {
     "data": {
      "image/png": "[encoded data removed]",
      "text/plain": [
       "<Figure size 864x432 with 1 Axes>"
      ]
     },
     "metadata": {
      "needs_background": "light"
     },
     "output_type": "display_data"
    }
   ],
   "source": [
    "# Plot the duration of every event\n",
    "event_ids, event_durations = zip(*durations)\n",
    "plt.figure(figsize=(12, 6))\n",
    "plt.scatter(event_ids, event_durations)\n",
    "plt.xlabel('Event ID')\n",
    "plt.ylabel('Duration (s)')\n",
    "plt.title('Duration of Every Event')\n",
    "plt.show()"
   ]
  },
  {
   "cell_type": "code",
   "execution_count": 9,
   "metadata": {
    "pycharm": {
     "name": "#%%\n"
    }
   },
   "outputs": [],
   "source": [
    "def data_augmentation(X, y, n_segments, segment_duration=None, is_noise = True, noise_std=None, noise_per_channel=False, random_seed=42):\n",
    "    np.random.seed(random_seed)\n",
    "    augmented_X = []\n",
    "    augmented_y = []\n",
    "    \n",
    "    if segment_duration is None:\n",
    "        segment_duration = int(0.5 * X.shape[2])\n",
    "\n",
    "    if noise_std is None:\n",
    "        if noise_per_channel:\n",
    "            noise_std = np.std(X, axis=(0, 2)) / 10\n",
    "        else:\n",
    "            noise_std = np.std(X) / 10\n",
    "    \n",
    "    if not is_noise:\n",
    "        noise_std = 0\n",
    "\n",
    "    for i in range(X.shape[0]):\n",
    "        for _ in range(n_segments):\n",
    "            start = np.random.randint(0, X.shape[2] - segment_duration)\n",
    "            segment = X[i, :, start : start + segment_duration]\n",
    "            noise = np.random.normal(0, noise_std, segment.shape[::-1]).transpose()\n",
    "            augmented_segment = segment + noise\n",
    "            augmented_X.append(augmented_segment)\n",
    "            augmented_y.append(y[i])\n",
    "\n",
    "    return np.array(augmented_X), np.array(augmented_y)\n",
    "\n",
    "def extract_segments(X, segment_duration):\n",
    "    if segment_duration is None:\n",
    "        segment_duration = int(0.5 * X.shape[2])\n",
    "    n_segments = X.shape[2] // segment_duration\n",
    "    extracted_X = []\n",
    "\n",
    "    for i in range(X.shape[0]):\n",
    "        for j in range(n_segments):\n",
    "            start = j * segment_duration\n",
    "            segment = X[i, :, start : start + segment_duration]\n",
    "            extracted_X.append(segment)\n",
    "\n",
    "    return np.array(extracted_X)\n"
   ]
  },
  {
   "cell_type": "code",
   "execution_count": 10,
   "metadata": {},
   "outputs": [
    {
     "data": {
      "text/plain": [
       "((89, 265, 180), (712, 265, 90))"
      ]
     },
     "execution_count": 10,
     "metadata": {},
     "output_type": "execute_result"
    }
   ],
   "source": [
    "X.shape, data_augmentation(X, y, 8)[0].shape"
   ]
  },
  {
   "cell_type": "code",
   "execution_count": 37,
   "metadata": {
    "pycharm": {
     "name": "#%%\n"
    }
   },
   "outputs": [],
   "source": [
    "def test_all_classifiers(X, y, noise_per_channel = False, is_noise = True):\n",
    "    X, y = data_augmentation(X, y, 12, is_noise=is_noise, noise_per_channel=noise_per_channel)\n",
    "    X_train, X_test, y_train, y_test = train_test_split(X, y, test_size=0.3, random_state=42, stratify=y)\n",
    "    X_train = X_train.reshape(X_train.shape[0], -1)\n",
    "    X_test = X_test.reshape(X_test.shape[0], -1)      \n",
    "\n",
    "    # Logistic Regression\n",
    "    pipeline = make_pipeline(\n",
    "        StandardScaler(),\n",
    "        LogisticRegression()\n",
    "    )\n",
    "    pipeline.fit(X_train, y_train)\n",
    "    y_pred = pipeline.predict(X_test)\n",
    "    accuracy = accuracy_score(y_test, y_pred)\n",
    "    print(f'Logistic Regression accuracy: {accuracy:.2f}')\n",
    "\n",
    "    # Support Vector Classification\n",
    "    pipeline = make_pipeline(\n",
    "        StandardScaler(),\n",
    "        SVC()\n",
    "    )\n",
    "    pipeline.fit(X_train, y_train)\n",
    "    y_pred = pipeline.predict(X_test)\n",
    "    accuracy = accuracy_score(y_test, y_pred)\n",
    "    print(f'SVC accuracy: {accuracy:.2f}')\n",
    "    \n",
    "    # Random Forest Classification\n",
    "    pipeline = make_pipeline(\n",
    "        StandardScaler(),\n",
    "        RandomForestClassifier()\n",
    "    )\n",
    "    pipeline.fit(X_train, y_train)\n",
    "    y_pred = pipeline.predict(X_test)\n",
    "    accuracy = accuracy_score(y_test, y_pred)\n",
    "    print(f'Random Forest accuracy: {accuracy:.2f}')\n",
    "    \n",
    "    # K-Nearest Neighbors Classification\n",
    "    pipeline = make_pipeline(\n",
    "        StandardScaler(),\n",
    "        KNeighborsClassifier()\n",
    "    )\n",
    "    pipeline.fit(X_train, y_train)\n",
    "    y_pred = pipeline.predict(X_test)\n",
    "    accuracy = accuracy_score(y_test, y_pred)\n",
    "    print(f'K-Nearest Neighbors accuracy: {accuracy:.2f}')\n",
    "    \n",
    "# takes much time\n",
    "#     # Gradient Boosting Classification\n",
    "#     pipeline = make_pipeline(\n",
    "#         StandardScaler(),\n",
    "#         GradientBoostingClassifier()\n",
    "#     )\n",
    "#     pipeline.fit(X_train, y_train)\n",
    "#     y_pred = pipeline.predict(X_test)\n",
    "#     accuracy = accuracy_score(y_test, y_pred)\n",
    "#     print(f'Gradient Boosting accuracy: {accuracy:.2f}')"
   ]
  },
  {
   "cell_type": "code",
   "execution_count": 47,
   "metadata": {},
   "outputs": [],
   "source": [
    "# def test_all_classifiers(X, y, noise_per_channel=False, is_noise=True):\n",
    "#     X_train, X_test, y_train, y_test = train_test_split(X, y, test_size=0.3, random_state=42, stratify=y)\n",
    "\n",
    "#     # Apply data augmentation only on training data\n",
    "#     X_train, y_train = data_augmentation(X_train, y_train, 12, is_noise=is_noise, noise_per_channel=noise_per_channel, segment_duration=int(0.4 * X.shape[2]))\n",
    "#     print(y_test)\n",
    "#     # Extract segments from testing data\n",
    "#     X_test_segments = extract_segments(X_test, segment_duration=int(0.4 * X.shape[2]))\n",
    "\n",
    "#     # Duplicate y_test values for each segment\n",
    "#     y_test_segments = np.repeat(y_test, X_test_segments.shape[0] // y_test.shape[0])\n",
    "#     print(y_test_segments)\n",
    "#     X_train = X_train.reshape(X_train.shape[0], -1)\n",
    "#     X_test_segments = X_test_segments.reshape(X_test_segments.shape[0], -1)\n",
    "\n",
    "#     # Logistic Regression\n",
    "#     pipeline = make_pipeline(\n",
    "#         StandardScaler(),\n",
    "#         LogisticRegression()\n",
    "#     )\n",
    "#     pipeline.fit(X_train, y_train)\n",
    "#     y_pred = pipeline.predict(X_test_segments)\n",
    "#     accuracy = accuracy_score(y_test_segments, y_pred)\n",
    "#     print(f'Logistic Regression accuracy: {accuracy:.2f}')\n",
    "\n",
    "\n",
    "\n",
    "\n",
    "# test_all_classifiers(X, y)"
   ]
  },
  {
   "cell_type": "code",
   "execution_count": 31,
   "metadata": {
    "pycharm": {
     "name": "#%%\n"
    }
   },
   "outputs": [
    {
     "name": "stderr",
     "output_type": "stream",
     "text": [
      "/usr/local/lib/python3.10/dist-packages/sklearn/linear_model/_logistic.py:458: ConvergenceWarning: lbfgs failed to converge (status=1):\n",
      "STOP: TOTAL NO. of ITERATIONS REACHED LIMIT.\n",
      "\n",
      "Increase the number of iterations (max_iter) or scale the data as shown in:\n",
      "    https://scikit-learn.org/stable/modules/preprocessing.html\n",
      "Please also refer to the documentation for alternative solver options:\n",
      "    https://scikit-learn.org/stable/modules/linear_model.html#logistic-regression\n",
      "  n_iter_i = _check_optimize_result(\n"
     ]
    },
    {
     "name": "stdout",
     "output_type": "stream",
     "text": [
      "Logistic Regression accuracy: 0.14\n",
      "SVC accuracy: 0.09\n",
      "Random Forest accuracy: 0.15\n",
      "K-Nearest Neighbors accuracy: 0.30\n"
     ]
    }
   ],
   "source": [
    "test_all_classifiers(X, y)"
   ]
  },
  {
   "cell_type": "code",
   "execution_count": 32,
   "metadata": {
    "pycharm": {
     "name": "#%%\n"
    }
   },
   "outputs": [
    {
     "name": "stderr",
     "output_type": "stream",
     "text": [
      "/usr/local/lib/python3.10/dist-packages/sklearn/linear_model/_logistic.py:458: ConvergenceWarning: lbfgs failed to converge (status=1):\n",
      "STOP: TOTAL NO. of ITERATIONS REACHED LIMIT.\n",
      "\n",
      "Increase the number of iterations (max_iter) or scale the data as shown in:\n",
      "    https://scikit-learn.org/stable/modules/preprocessing.html\n",
      "Please also refer to the documentation for alternative solver options:\n",
      "    https://scikit-learn.org/stable/modules/linear_model.html#logistic-regression\n",
      "  n_iter_i = _check_optimize_result(\n"
     ]
    },
    {
     "name": "stdout",
     "output_type": "stream",
     "text": [
      "Logistic Regression accuracy: 0.60\n",
      "SVC accuracy: 0.14\n",
      "Random Forest accuracy: 0.83\n",
      "K-Nearest Neighbors accuracy: 0.74\n"
     ]
    }
   ],
   "source": [
    "test_all_classifiers(X, y, noise_per_channel=True)"
   ]
  },
  {
   "cell_type": "code",
   "execution_count": 33,
   "metadata": {},
   "outputs": [
    {
     "name": "stderr",
     "output_type": "stream",
     "text": [
      "/usr/local/lib/python3.10/dist-packages/sklearn/linear_model/_logistic.py:458: ConvergenceWarning: lbfgs failed to converge (status=1):\n",
      "STOP: TOTAL NO. of ITERATIONS REACHED LIMIT.\n",
      "\n",
      "Increase the number of iterations (max_iter) or scale the data as shown in:\n",
      "    https://scikit-learn.org/stable/modules/preprocessing.html\n",
      "Please also refer to the documentation for alternative solver options:\n",
      "    https://scikit-learn.org/stable/modules/linear_model.html#logistic-regression\n",
      "  n_iter_i = _check_optimize_result(\n"
     ]
    },
    {
     "name": "stdout",
     "output_type": "stream",
     "text": [
      "Logistic Regression accuracy: 0.60\n",
      "SVC accuracy: 0.14\n",
      "Random Forest accuracy: 1.00\n",
      "K-Nearest Neighbors accuracy: 0.74\n"
     ]
    }
   ],
   "source": [
    "test_all_classifiers(X, y, is_noise=False)"
   ]
  },
  {
   "cell_type": "code",
   "execution_count": 15,
   "metadata": {},
   "outputs": [
    {
     "name": "stdout",
     "output_type": "stream",
     "text": [
      "Logistic Regression accuracy: 0.08\n",
      "SVC accuracy: 0.09\n"
     ]
    }
   ],
   "source": [
    "test_all_classifiers(X_psd, y)"
   ]
  },
  {
   "cell_type": "code",
   "execution_count": 16,
   "metadata": {},
   "outputs": [
    {
     "name": "stdout",
     "output_type": "stream",
     "text": [
      "Logistic Regression accuracy: 0.08\n",
      "SVC accuracy: 0.09\n"
     ]
    }
   ],
   "source": [
    "test_all_classifiers(X_psd, y, noise_per_channel=True)"
   ]
  },
  {
   "cell_type": "code",
   "execution_count": 17,
   "metadata": {},
   "outputs": [
    {
     "name": "stderr",
     "output_type": "stream",
     "text": [
      "/usr/local/lib/python3.10/dist-packages/sklearn/linear_model/_logistic.py:458: ConvergenceWarning: lbfgs failed to converge (status=1):\n",
      "STOP: TOTAL NO. of ITERATIONS REACHED LIMIT.\n",
      "\n",
      "Increase the number of iterations (max_iter) or scale the data as shown in:\n",
      "    https://scikit-learn.org/stable/modules/preprocessing.html\n",
      "Please also refer to the documentation for alternative solver options:\n",
      "    https://scikit-learn.org/stable/modules/linear_model.html#logistic-regression\n",
      "  n_iter_i = _check_optimize_result(\n"
     ]
    },
    {
     "name": "stdout",
     "output_type": "stream",
     "text": [
      "Logistic Regression accuracy: 0.17\n",
      "SVC accuracy: 0.15\n"
     ]
    }
   ],
   "source": [
    "test_all_classifiers(X_psd, y, is_noise=False)"
   ]
  },
  {
   "cell_type": "markdown",
   "metadata": {
    "pycharm": {
     "name": "#%% md\n"
    }
   },
   "source": [
    "### Basic FFT"
   ]
  },
  {
   "cell_type": "code",
   "execution_count": 18,
   "metadata": {
    "pycharm": {
     "name": "#%%\n"
    }
   },
   "outputs": [
    {
     "name": "stdout",
     "output_type": "stream",
     "text": [
      "Real part:\n"
     ]
    },
    {
     "data": {
      "image/png": "[encoded data removed]",
      "text/plain": [
       "<Figure size 432x288 with 1 Axes>"
      ]
     },
     "metadata": {
      "needs_background": "light"
     },
     "output_type": "display_data"
    },
    {
     "name": "stdout",
     "output_type": "stream",
     "text": [
      "Imaginary part:\n"
     ]
    },
    {
     "data": {
      "image/png": "[encoded data removed]",
      "text/plain": [
       "<Figure size 432x288 with 1 Axes>"
      ]
     },
     "metadata": {
      "needs_background": "light"
     },
     "output_type": "display_data"
    }
   ],
   "source": [
    "plot_x = np.fft.fftfreq(180, 1/raw.info['sfreq'])\n",
    "plot_y = np.fft.fft(X)\n",
    "\n",
    "print(\"Real part:\")\n",
    "plt.plot(plot_x, np.real(plot_y[0, 1]))\n",
    "plt.show()\n",
    "\n",
    "print(\"Imaginary part:\")\n",
    "plt.plot(plot_x, np.imag(plot_y[0, 1]))\n",
    "plt.show()"
   ]
  },
  {
   "cell_type": "code",
   "execution_count": 19,
   "metadata": {
    "pycharm": {
     "name": "#%%\n"
    }
   },
   "outputs": [
    {
     "name": "stdout",
     "output_type": "stream",
     "text": [
      "Logistic Regression accuracy: 0.10\n",
      "SVC accuracy: 0.09\n"
     ]
    }
   ],
   "source": [
    "fft_X = np.fft.fft(X)\n",
    "# concatenate real and imaginary parts\n",
    "fft_X = np.concatenate([np.real(fft_X), np.imag(fft_X)], axis=1)\n",
    "test_all_classifiers(fft_X, y)"
   ]
  },
  {
   "cell_type": "code",
   "execution_count": 21,
   "metadata": {
    "pycharm": {
     "name": "#%%\n"
    }
   },
   "outputs": [
    {
     "name": "stdout",
     "output_type": "stream",
     "text": [
      "Logistic Regression accuracy: 0.22\n",
      "SVC accuracy: 0.12\n"
     ]
    }
   ],
   "source": [
    "test_all_classifiers(fft_X, y, noise_per_channel=True)"
   ]
  },
  {
   "cell_type": "code",
   "execution_count": 20,
   "metadata": {},
   "outputs": [
    {
     "name": "stderr",
     "output_type": "stream",
     "text": [
      "/usr/local/lib/python3.10/dist-packages/sklearn/linear_model/_logistic.py:458: ConvergenceWarning: lbfgs failed to converge (status=1):\n",
      "STOP: TOTAL NO. of ITERATIONS REACHED LIMIT.\n",
      "\n",
      "Increase the number of iterations (max_iter) or scale the data as shown in:\n",
      "    https://scikit-learn.org/stable/modules/preprocessing.html\n",
      "Please also refer to the documentation for alternative solver options:\n",
      "    https://scikit-learn.org/stable/modules/linear_model.html#logistic-regression\n",
      "  n_iter_i = _check_optimize_result(\n"
     ]
    },
    {
     "name": "stdout",
     "output_type": "stream",
     "text": [
      "Logistic Regression accuracy: 0.37\n",
      "SVC accuracy: 0.19\n"
     ]
    }
   ],
   "source": [
    "test_all_classifiers(fft_X, y, is_noise=False)"
   ]
  },
  {
   "cell_type": "code",
   "execution_count": 10,
   "metadata": {},
   "outputs": [
    {
     "name": "stderr",
     "output_type": "stream",
     "text": [
      "/usr/local/lib/python3.10/dist-packages/sklearn/linear_model/_logistic.py:458: ConvergenceWarning: lbfgs failed to converge (status=1):\n",
      "STOP: TOTAL NO. of ITERATIONS REACHED LIMIT.\n",
      "\n",
      "Increase the number of iterations (max_iter) or scale the data as shown in:\n",
      "    https://scikit-learn.org/stable/modules/preprocessing.html\n",
      "Please also refer to the documentation for alternative solver options:\n",
      "    https://scikit-learn.org/stable/modules/linear_model.html#logistic-regression\n",
      "  n_iter_i = _check_optimize_result(\n"
     ]
    },
    {
     "name": "stdout",
     "output_type": "stream",
     "text": [
      "Logistic Regression accuracy: 0.26\n",
      "SVC accuracy: 0.12\n"
     ]
    }
   ],
   "source": [
    "fft_X = np.fft.fft(X)\n",
    "fft_X = np.concatenate([np.real(fft_X), np.imag(fft_X), X], axis=1)\n",
    "test_all_classifiers(fft_X, y, noise_per_channel=True)"
   ]
  },
  {
   "cell_type": "code",
   "execution_count": 38,
   "metadata": {},
   "outputs": [
    {
     "name": "stderr",
     "output_type": "stream",
     "text": [
      "/usr/local/lib/python3.10/dist-packages/sklearn/linear_model/_logistic.py:458: ConvergenceWarning: lbfgs failed to converge (status=1):\n",
      "STOP: TOTAL NO. of ITERATIONS REACHED LIMIT.\n",
      "\n",
      "Increase the number of iterations (max_iter) or scale the data as shown in:\n",
      "    https://scikit-learn.org/stable/modules/preprocessing.html\n",
      "Please also refer to the documentation for alternative solver options:\n",
      "    https://scikit-learn.org/stable/modules/linear_model.html#logistic-regression\n",
      "  n_iter_i = _check_optimize_result(\n"
     ]
    },
    {
     "name": "stdout",
     "output_type": "stream",
     "text": [
      "Logistic Regression accuracy: 0.87\n",
      "SVC accuracy: 0.21\n",
      "Random Forest accuracy: 0.92\n",
      "K-Nearest Neighbors accuracy: 1.00\n"
     ]
    }
   ],
   "source": [
    "import scipy.signal\n",
    "\n",
    "# Power Spectral Density\n",
    "freqs, psd = scipy.signal.welch(X, fs=raw.info['sfreq'], nperseg=180, noverlap=90, axis=1)\n",
    "\n",
    "# concatenate real and imaginary parts\n",
    "psd_X = np.concatenate([np.real(psd), np.imag(psd)], axis=1)\n",
    "\n",
    "test_all_classifiers(psd_X, y, noise_per_channel=True)"
   ]
  },
  {
   "cell_type": "code",
   "execution_count": 39,
   "metadata": {},
   "outputs": [
    {
     "name": "stderr",
     "output_type": "stream",
     "text": [
      "/usr/local/lib/python3.10/dist-packages/sklearn/linear_model/_logistic.py:458: ConvergenceWarning: lbfgs failed to converge (status=1):\n",
      "STOP: TOTAL NO. of ITERATIONS REACHED LIMIT.\n",
      "\n",
      "Increase the number of iterations (max_iter) or scale the data as shown in:\n",
      "    https://scikit-learn.org/stable/modules/preprocessing.html\n",
      "Please also refer to the documentation for alternative solver options:\n",
      "    https://scikit-learn.org/stable/modules/linear_model.html#logistic-regression\n",
      "  n_iter_i = _check_optimize_result(\n"
     ]
    },
    {
     "name": "stdout",
     "output_type": "stream",
     "text": [
      "Logistic Regression accuracy: 1.00\n",
      "SVC accuracy: 0.21\n",
      "Random Forest accuracy: 1.00\n",
      "K-Nearest Neighbors accuracy: 1.00\n"
     ]
    }
   ],
   "source": [
    "test_all_classifiers(psd_X, y, is_noise=False)"
   ]
  },
  {
   "cell_type": "code",
   "execution_count": 22,
   "metadata": {},
   "outputs": [
    {
     "name": "stderr",
     "output_type": "stream",
     "text": [
      "/usr/local/lib/python3.10/dist-packages/sklearn/linear_model/_logistic.py:458: ConvergenceWarning: lbfgs failed to converge (status=1):\n",
      "STOP: TOTAL NO. of ITERATIONS REACHED LIMIT.\n",
      "\n",
      "Increase the number of iterations (max_iter) or scale the data as shown in:\n",
      "    https://scikit-learn.org/stable/modules/preprocessing.html\n",
      "Please also refer to the documentation for alternative solver options:\n",
      "    https://scikit-learn.org/stable/modules/linear_model.html#logistic-regression\n",
      "  n_iter_i = _check_optimize_result(\n"
     ]
    },
    {
     "name": "stdout",
     "output_type": "stream",
     "text": [
      "Logistic Regression accuracy: 0.69\n",
      "SVC accuracy: 0.16\n"
     ]
    }
   ],
   "source": [
    "psd_X = np.concatenate([np.real(psd), np.imag(psd), X], axis=1)\n",
    "\n",
    "test_all_classifiers(psd_X, y, noise_per_channel=True)"
   ]
  },
  {
   "cell_type": "code",
   "execution_count": 24,
   "metadata": {},
   "outputs": [
    {
     "data": {
      "image/png": "[encoded data removed]",
      "text/plain": [
       "<Figure size 720x432 with 1 Axes>"
      ]
     },
     "metadata": {
      "needs_background": "light"
     },
     "output_type": "display_data"
    }
   ],
   "source": [
    "import matplotlib.pyplot as plt\n",
    "import numpy as np\n",
    "\n",
    "# Power Spectral Density\n",
    "freqs, psd = scipy.signal.welch(X, fs=raw.info['sfreq'], nperseg=180, noverlap=90, axis=1)\n",
    "\n",
    "# Average PSD across all time series\n",
    "mean_psd = np.mean(psd, axis=0)\n",
    "\n",
    "plt.figure(figsize=(10, 6))\n",
    "plt.semilogy(freqs, mean_psd)\n",
    "plt.title('Power Spectral Density (PSD)')\n",
    "plt.xlabel('Frequency')\n",
    "plt.ylabel('Power')\n",
    "plt.grid()\n",
    "plt.show()"
   ]
  },
  {
   "cell_type": "code",
   "execution_count": null,
   "metadata": {},
   "outputs": [],
   "source": []
  }
 ],
 "metadata": {
  "kernelspec": {
   "display_name": "Python 3 (ipykernel)",
   "language": "python",
   "name": "python3"
  },
  "language_info": {
   "codemirror_mode": {
    "name": "ipython",
    "version": 3
   },
   "file_extension": ".py",
   "mimetype": "text/x-python",
   "name": "python",
   "nbconvert_exporter": "python",
   "pygments_lexer": "ipython3",
   "version": "3.10.6"
  }
 },
 "nbformat": 4,
 "nbformat_minor": 1
}

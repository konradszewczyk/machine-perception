{
 "cells": [
  {
   "cell_type": "code",
   "execution_count": 41,
   "metadata": {
    "collapsed": true,
    "pycharm": {
     "name": "#%%\n"
    }
   },
   "outputs": [],
   "source": [
    "import numpy as np\n",
    "import pandas as pd\n",
    "\n",
    "from sklearn.model_selection import train_test_split\n",
    "from sklearn.preprocessing import StandardScaler, OneHotEncoder\n",
    "from sklearn.linear_model import LogisticRegression\n",
    "from sklearn.metrics import accuracy_score\n",
    "\n",
    "from xgboost.sklearn import XGBClassifier"
   ]
  },
  {
   "cell_type": "code",
   "execution_count": 2,
   "outputs": [],
   "source": [
    "emotions_df = pd.read_csv('data/emotions.csv')"
   ],
   "metadata": {
    "collapsed": false,
    "pycharm": {
     "name": "#%%\n"
    }
   }
  },
  {
   "cell_type": "code",
   "execution_count": 3,
   "outputs": [
    {
     "data": {
      "text/plain": "      # mean_0_a  mean_1_a  mean_2_a  mean_3_a  mean_4_a  mean_d_0_a  \\\n0          4.620      30.3    -356.0     15.60      26.3       1.070   \n1         28.800      33.1      32.0     25.80      22.8       6.550   \n2          8.900      29.4    -416.0     16.70      23.7      79.900   \n3         14.900      31.6    -143.0     19.80      24.3      -0.584   \n4         28.300      31.3      45.2     27.30      24.5      34.800   \n...          ...       ...       ...       ...       ...         ...   \n2127      32.400      32.2      32.2     30.80      23.4       1.640   \n2128      16.300      31.3    -284.0     14.30      23.9       4.200   \n2129      -0.547      28.3    -259.0     15.80      26.7       9.080   \n2130      16.800      19.9    -288.0      8.34      26.0       2.460   \n2131      27.000      32.0      31.8     25.00      28.9       4.990   \n\n      mean_d_1_a  mean_d_2_a  mean_d_3_a  mean_d_4_a  ...  fft_741_b  \\\n0          0.411     -15.700       2.060        3.15  ...      23.50   \n1          1.680       2.880       3.830       -4.82  ...     -23.30   \n2          3.360      90.200      89.900        2.03  ...     462.00   \n3         -0.284       8.820       2.300       -1.97  ...     299.00   \n4         -5.790       3.060      41.400        5.52  ...      12.00   \n...          ...         ...         ...         ...  ...        ...   \n2127      -2.030       0.647      -0.121       -1.10  ...     -21.70   \n2128       1.090       4.460       4.720        6.63  ...     594.00   \n2129       6.900      12.700       2.030        4.64  ...     370.00   \n2130       1.580     -16.000       1.690        4.74  ...     124.00   \n2131       1.950       6.210       3.490       -3.51  ...       1.95   \n\n      fft_742_b  fft_743_b  fft_744_b  fft_745_b  fft_746_b  fft_747_b  \\\n0        20.300     20.300      23.50     -215.0     280.00    -162.00   \n1       -21.800    -21.800     -23.30      182.0       2.57     -31.60   \n2      -233.000   -233.000     462.00     -267.0     281.00    -148.00   \n3      -243.000   -243.000     299.00      132.0     -12.40       9.53   \n4        38.100     38.100      12.00      119.0     -17.60      23.90   \n...         ...        ...        ...        ...        ...        ...   \n2127      0.218      0.218     -21.70       95.2     -19.90      47.20   \n2128   -324.000   -324.000     594.00      -35.5     142.00     -59.80   \n2129   -160.000   -160.000     370.00      408.0    -169.00     -10.50   \n2130    -27.600    -27.600     124.00     -656.0     552.00    -271.00   \n2131      1.810      1.810       1.95      110.0      -6.71      22.80   \n\n      fft_748_b  fft_749_b     label  \n0       -162.00     280.00  NEGATIVE  \n1        -31.60       2.57   NEUTRAL  \n2       -148.00     281.00  POSITIVE  \n3          9.53     -12.40  POSITIVE  \n4         23.90     -17.60   NEUTRAL  \n...         ...        ...       ...  \n2127      47.20     -19.90   NEUTRAL  \n2128     -59.80     142.00  POSITIVE  \n2129     -10.50    -169.00  NEGATIVE  \n2130    -271.00     552.00  NEGATIVE  \n2131      22.80      -6.71   NEUTRAL  \n\n[2132 rows x 2549 columns]",
      "text/html": "<div>\n<style scoped>\n    .dataframe tbody tr th:only-of-type {\n        vertical-align: middle;\n    }\n\n    .dataframe tbody tr th {\n        vertical-align: top;\n    }\n\n    .dataframe thead th {\n        text-align: right;\n    }\n</style>\n<table border=\"1\" class=\"dataframe\">\n  <thead>\n    <tr style=\"text-align: right;\">\n      <th></th>\n      <th># mean_0_a</th>\n      <th>mean_1_a</th>\n      <th>mean_2_a</th>\n      <th>mean_3_a</th>\n      <th>mean_4_a</th>\n      <th>mean_d_0_a</th>\n      <th>mean_d_1_a</th>\n      <th>mean_d_2_a</th>\n      <th>mean_d_3_a</th>\n      <th>mean_d_4_a</th>\n      <th>...</th>\n      <th>fft_741_b</th>\n      <th>fft_742_b</th>\n      <th>fft_743_b</th>\n      <th>fft_744_b</th>\n      <th>fft_745_b</th>\n      <th>fft_746_b</th>\n      <th>fft_747_b</th>\n      <th>fft_748_b</th>\n      <th>fft_749_b</th>\n      <th>label</th>\n    </tr>\n  </thead>\n  <tbody>\n    <tr>\n      <th>0</th>\n      <td>4.620</td>\n      <td>30.3</td>\n      <td>-356.0</td>\n      <td>15.60</td>\n      <td>26.3</td>\n      <td>1.070</td>\n      <td>0.411</td>\n      <td>-15.700</td>\n      <td>2.060</td>\n      <td>3.15</td>\n      <td>...</td>\n      <td>23.50</td>\n      <td>20.300</td>\n      <td>20.300</td>\n      <td>23.50</td>\n      <td>-215.0</td>\n      <td>280.00</td>\n      <td>-162.00</td>\n      <td>-162.00</td>\n      <td>280.00</td>\n      <td>NEGATIVE</td>\n    </tr>\n    <tr>\n      <th>1</th>\n      <td>28.800</td>\n      <td>33.1</td>\n      <td>32.0</td>\n      <td>25.80</td>\n      <td>22.8</td>\n      <td>6.550</td>\n      <td>1.680</td>\n      <td>2.880</td>\n      <td>3.830</td>\n      <td>-4.82</td>\n      <td>...</td>\n      <td>-23.30</td>\n      <td>-21.800</td>\n      <td>-21.800</td>\n      <td>-23.30</td>\n      <td>182.0</td>\n      <td>2.57</td>\n      <td>-31.60</td>\n      <td>-31.60</td>\n      <td>2.57</td>\n      <td>NEUTRAL</td>\n    </tr>\n    <tr>\n      <th>2</th>\n      <td>8.900</td>\n      <td>29.4</td>\n      <td>-416.0</td>\n      <td>16.70</td>\n      <td>23.7</td>\n      <td>79.900</td>\n      <td>3.360</td>\n      <td>90.200</td>\n      <td>89.900</td>\n      <td>2.03</td>\n      <td>...</td>\n      <td>462.00</td>\n      <td>-233.000</td>\n      <td>-233.000</td>\n      <td>462.00</td>\n      <td>-267.0</td>\n      <td>281.00</td>\n      <td>-148.00</td>\n      <td>-148.00</td>\n      <td>281.00</td>\n      <td>POSITIVE</td>\n    </tr>\n    <tr>\n      <th>3</th>\n      <td>14.900</td>\n      <td>31.6</td>\n      <td>-143.0</td>\n      <td>19.80</td>\n      <td>24.3</td>\n      <td>-0.584</td>\n      <td>-0.284</td>\n      <td>8.820</td>\n      <td>2.300</td>\n      <td>-1.97</td>\n      <td>...</td>\n      <td>299.00</td>\n      <td>-243.000</td>\n      <td>-243.000</td>\n      <td>299.00</td>\n      <td>132.0</td>\n      <td>-12.40</td>\n      <td>9.53</td>\n      <td>9.53</td>\n      <td>-12.40</td>\n      <td>POSITIVE</td>\n    </tr>\n    <tr>\n      <th>4</th>\n      <td>28.300</td>\n      <td>31.3</td>\n      <td>45.2</td>\n      <td>27.30</td>\n      <td>24.5</td>\n      <td>34.800</td>\n      <td>-5.790</td>\n      <td>3.060</td>\n      <td>41.400</td>\n      <td>5.52</td>\n      <td>...</td>\n      <td>12.00</td>\n      <td>38.100</td>\n      <td>38.100</td>\n      <td>12.00</td>\n      <td>119.0</td>\n      <td>-17.60</td>\n      <td>23.90</td>\n      <td>23.90</td>\n      <td>-17.60</td>\n      <td>NEUTRAL</td>\n    </tr>\n    <tr>\n      <th>...</th>\n      <td>...</td>\n      <td>...</td>\n      <td>...</td>\n      <td>...</td>\n      <td>...</td>\n      <td>...</td>\n      <td>...</td>\n      <td>...</td>\n      <td>...</td>\n      <td>...</td>\n      <td>...</td>\n      <td>...</td>\n      <td>...</td>\n      <td>...</td>\n      <td>...</td>\n      <td>...</td>\n      <td>...</td>\n      <td>...</td>\n      <td>...</td>\n      <td>...</td>\n      <td>...</td>\n    </tr>\n    <tr>\n      <th>2127</th>\n      <td>32.400</td>\n      <td>32.2</td>\n      <td>32.2</td>\n      <td>30.80</td>\n      <td>23.4</td>\n      <td>1.640</td>\n      <td>-2.030</td>\n      <td>0.647</td>\n      <td>-0.121</td>\n      <td>-1.10</td>\n      <td>...</td>\n      <td>-21.70</td>\n      <td>0.218</td>\n      <td>0.218</td>\n      <td>-21.70</td>\n      <td>95.2</td>\n      <td>-19.90</td>\n      <td>47.20</td>\n      <td>47.20</td>\n      <td>-19.90</td>\n      <td>NEUTRAL</td>\n    </tr>\n    <tr>\n      <th>2128</th>\n      <td>16.300</td>\n      <td>31.3</td>\n      <td>-284.0</td>\n      <td>14.30</td>\n      <td>23.9</td>\n      <td>4.200</td>\n      <td>1.090</td>\n      <td>4.460</td>\n      <td>4.720</td>\n      <td>6.63</td>\n      <td>...</td>\n      <td>594.00</td>\n      <td>-324.000</td>\n      <td>-324.000</td>\n      <td>594.00</td>\n      <td>-35.5</td>\n      <td>142.00</td>\n      <td>-59.80</td>\n      <td>-59.80</td>\n      <td>142.00</td>\n      <td>POSITIVE</td>\n    </tr>\n    <tr>\n      <th>2129</th>\n      <td>-0.547</td>\n      <td>28.3</td>\n      <td>-259.0</td>\n      <td>15.80</td>\n      <td>26.7</td>\n      <td>9.080</td>\n      <td>6.900</td>\n      <td>12.700</td>\n      <td>2.030</td>\n      <td>4.64</td>\n      <td>...</td>\n      <td>370.00</td>\n      <td>-160.000</td>\n      <td>-160.000</td>\n      <td>370.00</td>\n      <td>408.0</td>\n      <td>-169.00</td>\n      <td>-10.50</td>\n      <td>-10.50</td>\n      <td>-169.00</td>\n      <td>NEGATIVE</td>\n    </tr>\n    <tr>\n      <th>2130</th>\n      <td>16.800</td>\n      <td>19.9</td>\n      <td>-288.0</td>\n      <td>8.34</td>\n      <td>26.0</td>\n      <td>2.460</td>\n      <td>1.580</td>\n      <td>-16.000</td>\n      <td>1.690</td>\n      <td>4.74</td>\n      <td>...</td>\n      <td>124.00</td>\n      <td>-27.600</td>\n      <td>-27.600</td>\n      <td>124.00</td>\n      <td>-656.0</td>\n      <td>552.00</td>\n      <td>-271.00</td>\n      <td>-271.00</td>\n      <td>552.00</td>\n      <td>NEGATIVE</td>\n    </tr>\n    <tr>\n      <th>2131</th>\n      <td>27.000</td>\n      <td>32.0</td>\n      <td>31.8</td>\n      <td>25.00</td>\n      <td>28.9</td>\n      <td>4.990</td>\n      <td>1.950</td>\n      <td>6.210</td>\n      <td>3.490</td>\n      <td>-3.51</td>\n      <td>...</td>\n      <td>1.95</td>\n      <td>1.810</td>\n      <td>1.810</td>\n      <td>1.95</td>\n      <td>110.0</td>\n      <td>-6.71</td>\n      <td>22.80</td>\n      <td>22.80</td>\n      <td>-6.71</td>\n      <td>NEUTRAL</td>\n    </tr>\n  </tbody>\n</table>\n<p>2132 rows × 2549 columns</p>\n</div>"
     },
     "execution_count": 3,
     "metadata": {},
     "output_type": "execute_result"
    }
   ],
   "source": [
    "emotions_df"
   ],
   "metadata": {
    "collapsed": false,
    "pycharm": {
     "name": "#%%\n"
    }
   }
  },
  {
   "cell_type": "code",
   "execution_count": 38,
   "outputs": [],
   "source": [
    "X = emotions_df.drop(['label'], axis=1).to_numpy()\n",
    "y = emotions_df[['label']].to_numpy()\n",
    "\n",
    "X_train, X_test, y_train, y_test = train_test_split(X, y, stratify=y, test_size=0.10)\n",
    "\n",
    "scaler = StandardScaler()\n",
    "X_train_std = scaler.fit_transform(X_train)\n",
    "X_test_std = scaler.transform(X_test)\n",
    "\n",
    "encoder = OneHotEncoder()\n",
    "y_train_enc = encoder.fit_transform(y_train).todense()\n",
    "y_test_enc = encoder.transform(y_test).todense()"
   ],
   "metadata": {
    "collapsed": false,
    "pycharm": {
     "name": "#%%\n"
    }
   }
  },
  {
   "cell_type": "code",
   "execution_count": 47,
   "outputs": [],
   "source": [
    "classifier = XGBClassifier().fit(X_train_std, y_train_enc)"
   ],
   "metadata": {
    "collapsed": false,
    "pycharm": {
     "name": "#%%\n"
    }
   }
  },
  {
   "cell_type": "code",
   "execution_count": 44,
   "outputs": [
    {
     "name": "stdout",
     "output_type": "stream",
     "text": [
      "Accuracy: 98.60%\n"
     ]
    }
   ],
   "source": [
    "y_pred = classifier.predict(X_test_std)\n",
    "acc = accuracy_score(y_test_enc, y_pred)\n",
    "print(\"Accuracy: {:.2f}%\".format(acc * 100))"
   ],
   "metadata": {
    "collapsed": false,
    "pycharm": {
     "name": "#%%\n"
    }
   }
  }
 ],
 "metadata": {
  "kernelspec": {
   "display_name": "Python 3",
   "language": "python",
   "name": "python3"
  },
  "language_info": {
   "codemirror_mode": {
    "name": "ipython",
    "version": 2
   },
   "file_extension": ".py",
   "mimetype": "text/x-python",
   "name": "python",
   "nbconvert_exporter": "python",
   "pygments_lexer": "ipython2",
   "version": "2.7.6"
  }
 },
 "nbformat": 4,
 "nbformat_minor": 0
}